{
 "cells": [
  {
   "cell_type": "markdown",
   "metadata": {
    "deletable": false,
    "editable": false,
    "run_control": {
     "frozen": true
    }
   },
   "source": [
    "# Lecture 3 Assignment\n",
    "## Python Strings\n",
    "\n",
    "- Create strings\n",
    "- Access individual characters in strings\n",
    "- Access portions of strings, AKA string slicing\n",
    "- Learn about string methods\n",
    "- Use select string modification methods\n",
    "- Use select string methods for counting, finding, and replacing parts of strings\n",
    "___"
   ]
  },
  {
   "cell_type": "markdown",
   "metadata": {
    "deletable": false,
    "editable": false,
    "run_control": {
     "frozen": true
    }
   },
   "source": [
    "**String creation**\n",
    "\n",
    "Create and assign each of the described strings to the provided variables in the following code cells. When each cell is executed the string will be displayed and/or printed.\n",
    "\n",
    "- Your first and last name using double quotes"
   ]
  },
  {
   "cell_type": "code",
   "execution_count": null,
   "metadata": {},
   "outputs": [],
   "source": [
    "name = \n",
    "name"
   ]
  },
  {
   "cell_type": "markdown",
   "metadata": {
    "deletable": false,
    "editable": false,
    "run_control": {
     "frozen": true
    }
   },
   "source": [
    "- `Mechanical Engineering Technology` using single quotes"
   ]
  },
  {
   "cell_type": "code",
   "execution_count": null,
   "metadata": {},
   "outputs": [],
   "source": [
    "MET = \n",
    "MET"
   ]
  },
  {
   "cell_type": "markdown",
   "metadata": {
    "deletable": false,
    "editable": false,
    "run_control": {
     "frozen": true
    }
   },
   "source": [
    "- A string with just numeric values"
   ]
  },
  {
   "cell_type": "code",
   "execution_count": null,
   "metadata": {},
   "outputs": [],
   "source": [
    "just_numbers = \n",
    "just_numbers"
   ]
  },
  {
   "cell_type": "markdown",
   "metadata": {
    "deletable": false,
    "editable": false,
    "run_control": {
     "frozen": true
    }
   },
   "source": [
    "- A string with letters, numbers, and other special characters"
   ]
  },
  {
   "cell_type": "code",
   "execution_count": null,
   "metadata": {},
   "outputs": [],
   "source": [
    "letters_nos_chars = \n",
    "letters_nos_chars"
   ]
  },
  {
   "cell_type": "markdown",
   "metadata": {
    "deletable": false,
    "editable": false,
    "run_control": {
     "frozen": true
    }
   },
   "source": [
    "- A word with an apostrophe"
   ]
  },
  {
   "cell_type": "code",
   "execution_count": null,
   "metadata": {},
   "outputs": [],
   "source": [
    "apostrophe = \n",
    "apostrophe"
   ]
  },
  {
   "cell_type": "markdown",
   "metadata": {
    "deletable": false,
    "editable": false,
    "run_control": {
     "frozen": true
    }
   },
   "source": [
    "- A short phrase with double quotes"
   ]
  },
  {
   "cell_type": "code",
   "execution_count": null,
   "metadata": {},
   "outputs": [],
   "source": [
    "short_phrase_double = \n",
    "short_phrase_double"
   ]
  },
  {
   "cell_type": "markdown",
   "metadata": {
    "deletable": false,
    "editable": false,
    "run_control": {
     "frozen": true
    }
   },
   "source": [
    "- A sentence that contains an apostrophe and double quotes"
   ]
  },
  {
   "cell_type": "code",
   "execution_count": null,
   "metadata": {},
   "outputs": [],
   "source": [
    "sentence_apost_double = \n",
    "print(sentence_apost_double)\n",
    "sentence_apost_double"
   ]
  },
  {
   "cell_type": "markdown",
   "metadata": {
    "deletable": false,
    "editable": false,
    "run_control": {
     "frozen": true
    }
   },
   "source": [
    "- A string that spans three lines"
   ]
  },
  {
   "cell_type": "code",
   "execution_count": null,
   "metadata": {},
   "outputs": [],
   "source": [
    "three_liner = \n",
    "print(three_liner)\n",
    "three_liner"
   ]
  },
  {
   "cell_type": "markdown",
   "metadata": {
    "deletable": false,
    "editable": false,
    "run_control": {
     "frozen": true
    }
   },
   "source": [
    "- A two word string that has a line return between the words"
   ]
  },
  {
   "cell_type": "code",
   "execution_count": null,
   "metadata": {},
   "outputs": [],
   "source": [
    "two_words_newline = \n",
    "print(two_words_newline)\n",
    "two_words_newline"
   ]
  },
  {
   "cell_type": "markdown",
   "metadata": {
    "deletable": false,
    "editable": false,
    "run_control": {
     "frozen": true
    }
   },
   "source": [
    "- A three word string that has two tabs between each word"
   ]
  },
  {
   "cell_type": "code",
   "execution_count": null,
   "metadata": {},
   "outputs": [],
   "source": [
    "three_words_2_tabs_between = \n",
    "print(three_words_2_tabs_between)"
   ]
  },
  {
   "cell_type": "markdown",
   "metadata": {
    "deletable": false,
    "editable": false,
    "run_control": {
     "frozen": true
    }
   },
   "source": [
    "**Create a string and find its length**\n",
    "\n",
    "Define the string `Nobody expects the Spanish Inquisition!` and assign it to the name `funny_quote`. Then find out how many characters the string contains. Do this using two expressions in the same code cell."
   ]
  },
  {
   "cell_type": "code",
   "execution_count": null,
   "metadata": {},
   "outputs": [],
   "source": [
    "\"Nobody expects the Spanish Inquisition!\""
   ]
  },
  {
   "cell_type": "markdown",
   "metadata": {
    "deletable": false,
    "editable": false,
    "run_control": {
     "frozen": true
    }
   },
   "source": [
    "**Unicode characters are fun**\n",
    "\n",
    "Create a string that contains the Unicode characters for a smiling emoticon `'\\U0001F600'` and assign it to the variable name `smiley` then print the variable.\n",
    "\n",
    "Go to [Unicode.org](https://home.unicode.org) to see all possible symbols."
   ]
  },
  {
   "cell_type": "code",
   "execution_count": null,
   "metadata": {},
   "outputs": [],
   "source": []
  },
  {
   "cell_type": "markdown",
   "metadata": {},
   "source": [
    "*Python* allows you to use Unicode symbol names as well. Inside of a string use `\\N{}` with the official name inside the curly braces."
   ]
  },
  {
   "cell_type": "code",
   "execution_count": null,
   "metadata": {},
   "outputs": [],
   "source": [
    "print(\"\\N{winking face}\")"
   ]
  },
  {
   "cell_type": "markdown",
   "metadata": {
    "deletable": false,
    "editable": false,
    "run_control": {
     "frozen": true
    }
   },
   "source": [
    "**String indexing with `funny_quote`**\n",
    "\n",
    "Use string indexing to access each of the following characters from `funny_quote`. Print the string using the provided expression first.\n",
    "\n",
    "1. The capital **\"S\"** from the word **\"Spanish\"**\n",
    "1. The exclamation mark at the end using the `len()` function\n",
    "1. The letter **\"x\"**\n",
    "1. The letter **\"q\"**"
   ]
  },
  {
   "cell_type": "code",
   "execution_count": null,
   "metadata": {},
   "outputs": [],
   "source": [
    "print(funny_quote)"
   ]
  },
  {
   "cell_type": "code",
   "execution_count": null,
   "metadata": {},
   "outputs": [],
   "source": [
    "# capital S in Spanish\n"
   ]
  },
  {
   "cell_type": "code",
   "execution_count": null,
   "metadata": {},
   "outputs": [],
   "source": [
    "# ! at end using len()\n"
   ]
  },
  {
   "cell_type": "code",
   "execution_count": null,
   "metadata": {},
   "outputs": [],
   "source": [
    "# letter x\n"
   ]
  },
  {
   "cell_type": "code",
   "execution_count": null,
   "metadata": {},
   "outputs": [],
   "source": [
    "# letter q\n"
   ]
  },
  {
   "cell_type": "markdown",
   "metadata": {
    "deletable": false,
    "editable": false,
    "run_control": {
     "frozen": true
    }
   },
   "source": [
    "The following function, `string_ruler(message)`, was created to check the index positions of any letter or character in a string 100 characters long or less. Try it out by calling this function with `funny_quote` as an argument. Don't worry how it works at this point in time. Just use it if you need it."
   ]
  },
  {
   "cell_type": "code",
   "execution_count": null,
   "metadata": {
    "deletable": false,
    "editable": false
   },
   "outputs": [],
   "source": [
    "def string_ruler(message):\n",
    "    new_message = spacer = '|'\n",
    "    left_index_top = '|'\n",
    "    left_index_bottom = '|'\n",
    "    for i, letter in enumerate(message):\n",
    "        new_message += letter + '|'\n",
    "        spacer += ' |'\n",
    "        if i > 9:\n",
    "            left_index_bottom += str(i%10) + '|'\n",
    "            left_index_top += str(i//10) + '|'\n",
    "        else:\n",
    "            left_index_bottom += str(i) + '|'\n",
    "            left_index_top += ' |'\n",
    "    print('string: {}'.format(new_message))\n",
    "    print('        {}'.format(spacer))\n",
    "    print('  left  {}'.format(left_index_top))\n",
    "    print(' index: {}'.format(left_index_bottom))\n"
   ]
  },
  {
   "cell_type": "code",
   "execution_count": null,
   "metadata": {},
   "outputs": [],
   "source": [
    "# use string_ruler() with funny_quote\n"
   ]
  },
  {
   "cell_type": "markdown",
   "metadata": {
    "deletable": false,
    "editable": false,
    "run_control": {
     "frozen": true
    }
   },
   "source": [
    "**A reminder on string index positions**\n",
    "\n",
    "```\n",
    "| 0 | 1 | 2 | 3 | 4 | <-- Indexing from the left\n",
    "|   |   |   |   |   |\n",
    "| H | e | l | l | o | <-- String characters \"Hello\"\n",
    "|   |   |   |   |   |\n",
    "|-5 |-4 |-3 |-2 |-1 | <-- Indexing from the right\n",
    "```"
   ]
  },
  {
   "cell_type": "markdown",
   "metadata": {
    "deletable": false,
    "editable": false,
    "run_control": {
     "frozen": true
    }
   },
   "source": [
    "**Negative string indexing**\n",
    "\n",
    "Use indexing from the **right** to access each of the following characters from `funny_quote`. Print the string first using the provided expression.\n",
    "\n",
    "1. The capital **\"S\"** from the word **\"Spanish\"**\n",
    "1. The exclamation mark at the end\n",
    "1. The letter **\"x\"**\n",
    "1. The letter **\"q\"**\n",
    "1. The first letter on the left using the `len()` function (think about this for a second)"
   ]
  },
  {
   "cell_type": "code",
   "execution_count": null,
   "metadata": {},
   "outputs": [],
   "source": [
    "print(funny_quote)"
   ]
  },
  {
   "cell_type": "code",
   "execution_count": null,
   "metadata": {},
   "outputs": [],
   "source": [
    "# S using negative indexing (i.e. from the right)\n"
   ]
  },
  {
   "cell_type": "code",
   "execution_count": null,
   "metadata": {},
   "outputs": [],
   "source": [
    "# ! using negative indexing\n"
   ]
  },
  {
   "cell_type": "code",
   "execution_count": null,
   "metadata": {},
   "outputs": [],
   "source": [
    "# x using negative indexing\n"
   ]
  },
  {
   "cell_type": "code",
   "execution_count": null,
   "metadata": {},
   "outputs": [],
   "source": [
    "# q using negative indexing\n"
   ]
  },
  {
   "cell_type": "code",
   "execution_count": null,
   "metadata": {},
   "outputs": [],
   "source": [
    "# first letter using negative indexing and len()\n"
   ]
  },
  {
   "cell_type": "markdown",
   "metadata": {
    "deletable": false,
    "editable": false,
    "run_control": {
     "frozen": true
    }
   },
   "source": [
    "**String slicing helper**\n",
    "\n",
    "```\n",
    " 0   1   2   3   4   5 <-- Slicing from the left; my_string[1:4] => 'ell'\n",
    " |   |   |   |   |   |\n",
    " | H | e | l | l | o | <-- String characters \"Hello\"\n",
    " |   |   |   |   |   |\n",
    "-5  -4  -3  -2  -1   | <-- Slicing from the right with a positive step; my_string[-4:-1] => 'ell'\n",
    " |   |   |   |   |   |\n",
    "-6  -5  -4  -3  -2  -1 <-- Slicing from the right with a negative step; my_string[-1:-5:-1] => 'olle'\n",
    "```"
   ]
  },
  {
   "cell_type": "markdown",
   "metadata": {
    "deletable": false,
    "editable": false,
    "run_control": {
     "frozen": true
    }
   },
   "source": [
    "**Slice the string `funny_quote`**\n",
    "\n",
    "Slice the following sub-strings from our string `funny_quote`. Print the string first to make it easier.\n",
    "\n",
    "1. The first 6 characters\n",
    "2. The last 12 characters\n",
    "3. Every other character from the left to the right\n",
    "4. The entire string written backwards (think for a second)\n",
    "5. From 19 to 26"
   ]
  },
  {
   "cell_type": "code",
   "execution_count": null,
   "metadata": {},
   "outputs": [],
   "source": [
    "print(funny_quote)"
   ]
  },
  {
   "cell_type": "code",
   "execution_count": null,
   "metadata": {},
   "outputs": [],
   "source": [
    "# first 6 characters\n"
   ]
  },
  {
   "cell_type": "code",
   "execution_count": null,
   "metadata": {},
   "outputs": [],
   "source": [
    "# last 6 characters\n"
   ]
  },
  {
   "cell_type": "code",
   "execution_count": null,
   "metadata": {},
   "outputs": [],
   "source": [
    "# every other from left to right\n"
   ]
  },
  {
   "cell_type": "code",
   "execution_count": null,
   "metadata": {},
   "outputs": [],
   "source": [
    "# entire string backwards\n"
   ]
  },
  {
   "cell_type": "code",
   "execution_count": null,
   "metadata": {},
   "outputs": [],
   "source": [
    "# from 19 to 26\n"
   ]
  },
  {
   "cell_type": "markdown",
   "metadata": {
    "deletable": false,
    "editable": false,
    "run_control": {
     "frozen": true
    }
   },
   "source": [
    "**Display string methods**"
   ]
  },
  {
   "cell_type": "code",
   "execution_count": null,
   "metadata": {
    "deletable": false,
    "editable": false
   },
   "outputs": [],
   "source": [
    "my_string = \"Hello, World!\"\n",
    "print(dir(my_string))"
   ]
  },
  {
   "cell_type": "code",
   "execution_count": null,
   "metadata": {
    "deletable": false,
    "editable": false
   },
   "outputs": [],
   "source": [
    "print(dir(str))"
   ]
  },
  {
   "cell_type": "markdown",
   "metadata": {},
   "source": [
    "Even better, use the following for a cleaner looking list of methods. This technique uses list comprehension that we have not covered yet, so don't worry about how the command is constructed."
   ]
  },
  {
   "cell_type": "code",
   "execution_count": null,
   "metadata": {},
   "outputs": [],
   "source": [
    "print([x for x in dir(str) if \"_\" not in x])"
   ]
  },
  {
   "cell_type": "markdown",
   "metadata": {
    "deletable": false,
    "editable": false,
    "run_control": {
     "frozen": true
    }
   },
   "source": [
    "Don't worry, we won't dig into all of these methods, just some of them. Specifically, we'll investigate methods related to modifiying strings and methods used for counting, searching, and replacing parts of strings."
   ]
  },
  {
   "cell_type": "markdown",
   "metadata": {
    "deletable": false,
    "editable": false,
    "run_control": {
     "frozen": true
    }
   },
   "source": [
    "**Modify string formatting**\n",
    "\n",
    "- `.lower()`\n",
    "- `.upper()`\n",
    "- `.title()`\n",
    "- `.swapcase()`\n",
    "- `.capitalize()`\n",
    "- `.center(x)`\n",
    "\n",
    "Use each of the above string modification methods on `funny_quote` in the following code cells. For the `.center()` method, request a new length that is the original length + 12 (use the `len()` function to do this). After using all of the methods, print the string name to see what it looks like."
   ]
  },
  {
   "cell_type": "code",
   "execution_count": null,
   "metadata": {},
   "outputs": [],
   "source": [
    " # All lowercase letters\n",
    "funny_quote"
   ]
  },
  {
   "cell_type": "code",
   "execution_count": null,
   "metadata": {},
   "outputs": [],
   "source": [
    "# All uppercase letters\n",
    "funny_quote"
   ]
  },
  {
   "cell_type": "code",
   "execution_count": null,
   "metadata": {},
   "outputs": [],
   "source": [
    "# First letter of first word only is capitalized\n",
    "funny_quote"
   ]
  },
  {
   "cell_type": "code",
   "execution_count": null,
   "metadata": {},
   "outputs": [],
   "source": [
    "# Swap upper and lowercase in string\n",
    "funny_quote"
   ]
  },
  {
   "cell_type": "code",
   "execution_count": null,
   "metadata": {},
   "outputs": [],
   "source": [
    "# Uppercase first letter in each word\n",
    "funny_quote"
   ]
  },
  {
   "cell_type": "code",
   "execution_count": null,
   "metadata": {},
   "outputs": [],
   "source": [
    "# Center string, use string length + 12 characters\n",
    "funny_quote"
   ]
  },
  {
   "cell_type": "code",
   "execution_count": null,
   "metadata": {},
   "outputs": [],
   "source": [
    "# use this cell to re-print the original string name\n"
   ]
  },
  {
   "cell_type": "markdown",
   "metadata": {
    "deletable": false,
    "editable": false,
    "run_control": {
     "frozen": true
    }
   },
   "source": [
    "**Counting and finding and replacing**\n",
    "\n",
    "Using `funny_quote`, perform the following tasks.\n",
    "\n",
    "1. Find out how many times `\"e\"` appears in the entire string\n",
    "1. Find the number of times `\"is\"` appears in the entire string\n",
    "1. Find the number of times `\"o\"` appears starting with position 15\n",
    "1. Find the starting location of the sub-string `\"the\"`\n",
    "1. Find the position of `\"x\"` starting at index position 10\n",
    "1. Replace `\"Spanish\"` with `\"Ferris\"`\n",
    "1. Replace all occurrences of `\"i\"` with `\"I\"`"
   ]
  },
  {
   "cell_type": "code",
   "execution_count": null,
   "metadata": {},
   "outputs": [],
   "source": [
    "# How many 'e's?\n",
    "funny_quote"
   ]
  },
  {
   "cell_type": "code",
   "execution_count": null,
   "metadata": {},
   "outputs": [],
   "source": [
    "# How many 'is' are there?\n",
    "funny_quote"
   ]
  },
  {
   "cell_type": "code",
   "execution_count": null,
   "metadata": {},
   "outputs": [],
   "source": [
    "# How many 'o's starting with 15\n",
    "funny_quote"
   ]
  },
  {
   "cell_type": "code",
   "execution_count": null,
   "metadata": {},
   "outputs": [],
   "source": [
    "# Location of the first 'the'\n",
    "funny_quote"
   ]
  },
  {
   "cell_type": "code",
   "execution_count": null,
   "metadata": {},
   "outputs": [],
   "source": [
    "# Position of 'x' starting with 10\n",
    "funny_quote"
   ]
  },
  {
   "cell_type": "code",
   "execution_count": null,
   "metadata": {},
   "outputs": [],
   "source": [
    "# Replace 'Spanish' with 'Ferris'\n",
    "funny_quote"
   ]
  },
  {
   "cell_type": "code",
   "execution_count": null,
   "metadata": {},
   "outputs": [],
   "source": [
    "# Replace all 'i' with 'I'\n",
    "funny_quote"
   ]
  },
  {
   "cell_type": "markdown",
   "metadata": {
    "deletable": false,
    "editable": false,
    "run_control": {
     "frozen": true
    }
   },
   "source": [
    "**Using the `is` String Methods**\n",
    "\n",
    "- `.islower()`\n",
    "- `.isupper()`\n",
    "- `.isspace()`\n",
    "- `.istitle()`\n",
    "- `.isalpha()`\n",
    "- `.isalnum()`\n",
    "- `.isnumeric()`\n",
    "\n",
    "Test using the `is` methods on portions of `funny_quote` (parts 1 to 7) and on strings containing numeric values (parts 8 and 9)\n",
    "\n",
    "1. Is the slice from `[0:6]` upper case?\n",
    "1. Is the slice from `[0:6]` title case?\n",
    "1. Is the slice from `[7:14]` lower case?\n",
    "1. Is index position `6` a space?\n",
    "1. Is index position `10` a space?\n",
    "1. Is the slice from `[0:6]` alphabetic?\n",
    "1. Is the slice from `[7:14]` alpha-numeric?\n",
    "1. Is the string `\"42\"` numeric?\n",
    "1. Is the string `\"42.0\"` numeric?"
   ]
  },
  {
   "cell_type": "code",
   "execution_count": null,
   "metadata": {},
   "outputs": [],
   "source": [
    "# Is 0 to 6 uppercase?\n",
    "funny_quote"
   ]
  },
  {
   "cell_type": "code",
   "execution_count": null,
   "metadata": {},
   "outputs": [],
   "source": [
    "# Is 0 to 6 title case?\n",
    "funny_quote"
   ]
  },
  {
   "cell_type": "code",
   "execution_count": null,
   "metadata": {},
   "outputs": [],
   "source": [
    "# Is 7 to 14 lowercase?\n",
    "funny_quote"
   ]
  },
  {
   "cell_type": "code",
   "execution_count": null,
   "metadata": {},
   "outputs": [],
   "source": [
    "# Is index 6 a space?\n",
    "funny_quote"
   ]
  },
  {
   "cell_type": "code",
   "execution_count": null,
   "metadata": {},
   "outputs": [],
   "source": [
    "# Is index 10 a space?\n",
    "funny_quote"
   ]
  },
  {
   "cell_type": "code",
   "execution_count": null,
   "metadata": {},
   "outputs": [],
   "source": [
    "# Is 0 to 6 alphabetic?\n",
    "funny_quote"
   ]
  },
  {
   "cell_type": "code",
   "execution_count": null,
   "metadata": {},
   "outputs": [],
   "source": [
    "# Is 7 to 14 alpha-numeric?\n",
    "funny_quote"
   ]
  },
  {
   "cell_type": "code",
   "execution_count": null,
   "metadata": {},
   "outputs": [],
   "source": [
    "# Is the string '42' numeric?\n",
    "'42'"
   ]
  },
  {
   "cell_type": "code",
   "execution_count": null,
   "metadata": {},
   "outputs": [],
   "source": [
    "# Is the string '42.0' numeric?\n",
    "'42.0'"
   ]
  },
  {
   "cell_type": "markdown",
   "metadata": {
    "deletable": false,
    "editable": false,
    "run_control": {
     "frozen": true
    }
   },
   "source": [
    "**Almost done**\n",
    "\n",
    "- Assign the string `\"My name is Brian\"` to variable called `name` in the cell below this one and execute the cell\n",
    "- In the next cell, use the appropriate method to replace `\"Brian\"` with your first and last name and assign the new string back to `name`\n",
    "- In the last cell print `name`"
   ]
  },
  {
   "cell_type": "code",
   "execution_count": null,
   "metadata": {},
   "outputs": [],
   "source": []
  },
  {
   "cell_type": "code",
   "execution_count": null,
   "metadata": {},
   "outputs": [],
   "source": []
  },
  {
   "cell_type": "code",
   "execution_count": null,
   "metadata": {},
   "outputs": [],
   "source": []
  },
  {
   "cell_type": "markdown",
   "metadata": {},
   "source": [
    "Click on the **Save** button and then the **Close and halt** button when you are done before closing the tab."
   ]
  }
 ],
 "metadata": {
  "kernelspec": {
   "display_name": "Python 3.9.13 ('base')",
   "language": "python",
   "name": "python3"
  },
  "language_info": {
   "codemirror_mode": {
    "name": "ipython",
    "version": 3
   },
   "file_extension": ".py",
   "mimetype": "text/x-python",
   "name": "python",
   "nbconvert_exporter": "python",
   "pygments_lexer": "ipython3",
   "version": "3.9.13"
  },
  "varInspector": {
   "cols": {
    "lenName": 16,
    "lenType": 16,
    "lenVar": 40
   },
   "kernels_config": {
    "python": {
     "delete_cmd_postfix": "",
     "delete_cmd_prefix": "del ",
     "library": "var_list.py",
     "varRefreshCmd": "print(var_dic_list())"
    },
    "r": {
     "delete_cmd_postfix": ") ",
     "delete_cmd_prefix": "rm(",
     "library": "var_list.r",
     "varRefreshCmd": "cat(var_dic_list()) "
    }
   },
   "types_to_exclude": [
    "module",
    "function",
    "builtin_function_or_method",
    "instance",
    "_Feature"
   ],
   "window_display": false
  },
  "vscode": {
   "interpreter": {
    "hash": "804a83d9cf36e5ef92d589cf40db8b1f50a2130b40ceb8df399b5b46dbd8cc63"
   }
  }
 },
 "nbformat": 4,
 "nbformat_minor": 4
}
