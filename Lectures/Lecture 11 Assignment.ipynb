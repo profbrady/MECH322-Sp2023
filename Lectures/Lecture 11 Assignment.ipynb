{
 "cells": [
  {
   "cell_type": "markdown",
   "metadata": {
    "slideshow": {
     "slide_type": "slide"
    }
   },
   "source": [
    "# Lecture 11 Assignment\n",
    "## *NumPy* Array Math\n",
    "___"
   ]
  },
  {
   "cell_type": "markdown",
   "metadata": {
    "slideshow": {
     "slide_type": "slide"
    }
   },
   "source": [
    "***NumPy* Array Review**\n",
    "\n",
    "Recall that we need to import *NumPy* in order to use it. Lets do that right away so we don't forget."
   ]
  },
  {
   "cell_type": "code",
   "execution_count": null,
   "metadata": {},
   "outputs": [],
   "source": [
    "import numpy as np"
   ]
  },
  {
   "cell_type": "markdown",
   "metadata": {
    "slideshow": {
     "slide_type": "slide"
    }
   },
   "source": [
    "**Scalar-array operations**\n",
    "\n",
    "Execute the following code cell to assign an array to the variable `a` and a scalar to the variable `b`. Then use the remaining cells to perform each of the following scalar-array operations:\n",
    "- $a+b$\n",
    "- $a\\times b$\n",
    "- $a\\div b$\n",
    "- $b\\div a$\n",
    "- $a^b$"
   ]
  },
  {
   "cell_type": "code",
   "execution_count": null,
   "metadata": {
    "slideshow": {
     "slide_type": "subslide"
    }
   },
   "outputs": [],
   "source": [
    "a = np.arange(1, 16, 2)\n",
    "b = 1.5"
   ]
  },
  {
   "cell_type": "code",
   "execution_count": null,
   "metadata": {},
   "outputs": [],
   "source": [
    "# a plus b\n"
   ]
  },
  {
   "cell_type": "code",
   "execution_count": null,
   "metadata": {},
   "outputs": [],
   "source": [
    "# a times b\n"
   ]
  },
  {
   "cell_type": "code",
   "execution_count": null,
   "metadata": {
    "slideshow": {
     "slide_type": "subslide"
    }
   },
   "outputs": [],
   "source": [
    "# a divided by b\n"
   ]
  },
  {
   "cell_type": "code",
   "execution_count": null,
   "metadata": {},
   "outputs": [],
   "source": [
    "# b divided by a\n"
   ]
  },
  {
   "cell_type": "code",
   "execution_count": null,
   "metadata": {},
   "outputs": [],
   "source": [
    "# a to the b power\n"
   ]
  },
  {
   "cell_type": "markdown",
   "metadata": {
    "slideshow": {
     "slide_type": "slide"
    }
   },
   "source": [
    "**2D array-scalar operations**\n",
    "\n",
    "Let's perform some more scalar-array operations; this time with a two-dimensional array. Execute the first code cell to assign the array to a variable, then peform each of the following scalar-array math operations.\n",
    "\n",
    "- $b\\times A$\n",
    "- $A\\times 10$\n",
    "- $A + 10$\n",
    "- $100 - A$\n",
    "- $A^2$"
   ]
  },
  {
   "cell_type": "code",
   "execution_count": null,
   "metadata": {
    "slideshow": {
     "slide_type": "subslide"
    }
   },
   "outputs": [],
   "source": [
    "A = np.array([[2, 5, 7, 0], [10, 1, 3, 4], [6, 2, 11, 5]])"
   ]
  },
  {
   "cell_type": "code",
   "execution_count": null,
   "metadata": {},
   "outputs": [],
   "source": [
    "# b times A\n"
   ]
  },
  {
   "cell_type": "code",
   "execution_count": null,
   "metadata": {},
   "outputs": [],
   "source": [
    "#A times 10\n"
   ]
  },
  {
   "cell_type": "code",
   "execution_count": null,
   "metadata": {
    "slideshow": {
     "slide_type": "subslide"
    }
   },
   "outputs": [],
   "source": [
    "# A plus 10\n"
   ]
  },
  {
   "cell_type": "code",
   "execution_count": null,
   "metadata": {},
   "outputs": [],
   "source": [
    "# 100 minus A\n"
   ]
  },
  {
   "cell_type": "code",
   "execution_count": null,
   "metadata": {},
   "outputs": [],
   "source": [
    "# A squared\n"
   ]
  },
  {
   "cell_type": "markdown",
   "metadata": {
    "slideshow": {
     "slide_type": "slide"
    }
   },
   "source": [
    "**Array-array math**\n",
    "\n",
    "Execute the following code cell to create arrays `vectA` and `vectB`. Perform the following array-array math operations in the remaining code cells.\n",
    "\n",
    "- $vectA+vectB$\n",
    "- $vectA\\times vectB$\n",
    "- $vectB\\div vectA$\n",
    "- $vectA^{vectB}$"
   ]
  },
  {
   "cell_type": "code",
   "execution_count": null,
   "metadata": {
    "slideshow": {
     "slide_type": "subslide"
    }
   },
   "outputs": [],
   "source": [
    "vectA = np.array([8, 5, 4], float)\n",
    "vectB = np.array([10, 2, 7], float)"
   ]
  },
  {
   "cell_type": "code",
   "execution_count": null,
   "metadata": {},
   "outputs": [],
   "source": [
    "# vectA plus vectB\n"
   ]
  },
  {
   "cell_type": "code",
   "execution_count": null,
   "metadata": {},
   "outputs": [],
   "source": [
    "# vectA times vectB\n"
   ]
  },
  {
   "cell_type": "code",
   "execution_count": null,
   "metadata": {
    "slideshow": {
     "slide_type": "subslide"
    }
   },
   "outputs": [],
   "source": [
    "# vectB divided by vectA\n"
   ]
  },
  {
   "cell_type": "code",
   "execution_count": null,
   "metadata": {},
   "outputs": [],
   "source": [
    "# vectA to the vectB power\n",
    "vectA ** vectB"
   ]
  },
  {
   "cell_type": "markdown",
   "metadata": {
    "slideshow": {
     "slide_type": "slide"
    }
   },
   "source": [
    "**More array-array math**\n",
    "\n",
    "How about another? In the first code cell create two arrays `A` and `B`. Use `np.linspace()` to fill `A` with 5 values starting at 0 and ending at 15. Fill `B` with values starting at 10.0 and ending at 2 (including 2) with a step size of -2 using `np.arange()`. Then use the following cells to:\n",
    "\n",
    "- Add both arrays\n",
    "- Subtract `B` from `A`\n",
    "- Divide `B` by `A`"
   ]
  },
  {
   "cell_type": "code",
   "execution_count": null,
   "metadata": {
    "slideshow": {
     "slide_type": "subslide"
    }
   },
   "outputs": [],
   "source": [
    "# assign array with 5 values from 0 to 15 to `A` using linspace()\n",
    "# assign array with 10 to 2 (inclusive) with step of -2 using arange()\n"
   ]
  },
  {
   "cell_type": "code",
   "execution_count": null,
   "metadata": {},
   "outputs": [],
   "source": [
    "print(A)\n",
    "print(B)"
   ]
  },
  {
   "cell_type": "code",
   "execution_count": null,
   "metadata": {
    "slideshow": {
     "slide_type": "subslide"
    }
   },
   "outputs": [],
   "source": [
    "# add both arrays\n"
   ]
  },
  {
   "cell_type": "code",
   "execution_count": null,
   "metadata": {},
   "outputs": [],
   "source": [
    "#subtract B from A\n"
   ]
  },
  {
   "cell_type": "code",
   "execution_count": null,
   "metadata": {},
   "outputs": [],
   "source": [
    "# divide B by A\n"
   ]
  },
  {
   "cell_type": "markdown",
   "metadata": {
    "slideshow": {
     "slide_type": "slide"
    }
   },
   "source": [
    "**Single row and single column arrays**\n",
    "\n",
    "The results so far have likely matched expectations. However, that may or may not be the case when performing mathematical operations on arrays that are the same size but different shapes.\n",
    "\n",
    "The following code cell creates array `C` that has a single column instead of a single row. This array is no longer one-dimensional from *NumPy*'s perspective because it requires two values to describe the size; it is a $5\\times1$ array. Execute the code to create the array and then add it to `B` in the next code cell."
   ]
  },
  {
   "cell_type": "code",
   "execution_count": null,
   "metadata": {
    "slideshow": {
     "slide_type": "subslide"
    }
   },
   "outputs": [],
   "source": [
    "C = np.array([1, 3, 4, 6, 7]).reshape(5, 1)\n",
    "C"
   ]
  },
  {
   "cell_type": "code",
   "execution_count": null,
   "metadata": {},
   "outputs": [],
   "source": [
    "# B plus C\n"
   ]
  },
  {
   "cell_type": "markdown",
   "metadata": {
    "slideshow": {
     "slide_type": "slide"
    }
   },
   "source": [
    "**Element-by-element math**\n",
    "\n",
    "Create an array named `x` with integers from 1 to 8 inclusive. Calculate $x^2 - 4x$ and assign the result to `y` then display it."
   ]
  },
  {
   "cell_type": "code",
   "execution_count": null,
   "metadata": {},
   "outputs": [],
   "source": [
    "# array named `x` from 1 to 8 inclusive using arange()\n"
   ]
  },
  {
   "cell_type": "code",
   "execution_count": null,
   "metadata": {},
   "outputs": [],
   "source": [
    "# calculate `y` from `x` then display it (do it this way)\n"
   ]
  },
  {
   "cell_type": "code",
   "execution_count": null,
   "metadata": {},
   "outputs": [],
   "source": [
    "# dont do it this way since `x` is already an array\n"
   ]
  },
  {
   "cell_type": "markdown",
   "metadata": {
    "slideshow": {
     "slide_type": "slide"
    }
   },
   "source": [
    "Create two arrays `a` and `b` such that both have 9 equally spaced values; `a` between 1 and 9 and `b` between 0.25 and 0.5 (inclusive for both). Calculate $\\displaystyle \\frac{5a\\,b^{1.2}}{a-2b} $, name the result `c`, and then display it."
   ]
  },
  {
   "cell_type": "code",
   "execution_count": null,
   "metadata": {},
   "outputs": [],
   "source": []
  },
  {
   "cell_type": "code",
   "execution_count": null,
   "metadata": {},
   "outputs": [],
   "source": []
  },
  {
   "cell_type": "markdown",
   "metadata": {
    "slideshow": {
     "slide_type": "slide"
    }
   },
   "source": [
    "***NumPy* math functions and constants**\n",
    "\n",
    "Most are the same as used by the `math` module. The inverse trig functions use `arc`, for example `np.arcsin(x)` instead of `math.asin(x)`."
   ]
  },
  {
   "cell_type": "markdown",
   "metadata": {
    "slideshow": {
     "slide_type": "subslide"
    }
   },
   "source": [
    "Execute the following code cell to create an array of angles named `theta` that range from $0$ to $360^{\\circ}$ in steps of $15^{\\circ}$. Then calculate arrays `x` and `y` using $x=\\cos(\\theta)$ and $y=\\sin(\\theta)$. You will need to use *NumPy*'s versions of the cosine, sine, and radians functions to do this. When done, execute the last cell that uses the `tabulate` module to make the results look a bit nicer."
   ]
  },
  {
   "cell_type": "code",
   "execution_count": null,
   "metadata": {},
   "outputs": [],
   "source": [
    "theta = np.arange(0., 361, 15)"
   ]
  },
  {
   "cell_type": "code",
   "execution_count": null,
   "metadata": {},
   "outputs": [],
   "source": [
    "# calculate 'x' using NumPy's cosine function\n"
   ]
  },
  {
   "cell_type": "code",
   "execution_count": null,
   "metadata": {},
   "outputs": [],
   "source": [
    "# calculate 'y' using NumPy's sine function\n"
   ]
  },
  {
   "cell_type": "code",
   "execution_count": null,
   "metadata": {
    "slideshow": {
     "slide_type": "subslide"
    }
   },
   "outputs": [],
   "source": [
    "from tabulate import tabulate\n",
    "print(tabulate(zip(theta, x, y), [\"Degrees\", \"x   \", \"y   \"],\n",
    "               floatfmt=('3.0f','+0.4f','+0.4f')))"
   ]
  },
  {
   "cell_type": "markdown",
   "metadata": {
    "slideshow": {
     "slide_type": "slide"
    }
   },
   "source": [
    "**Other *NumPy* math operations**\n",
    "\n",
    "Execute the cell below and then perform the following math functions on array `q`. Remember to use the correct *NumPy* math functions.\n",
    "\n",
    "- $\\ln{q}$\n",
    "- $\\sqrt{q}$\n",
    "- $e^q$"
   ]
  },
  {
   "cell_type": "code",
   "execution_count": null,
   "metadata": {},
   "outputs": [],
   "source": [
    "q = np.arange(1, 6, dtype=\"float\")\n",
    "q"
   ]
  },
  {
   "cell_type": "code",
   "execution_count": null,
   "metadata": {
    "slideshow": {
     "slide_type": "subslide"
    }
   },
   "outputs": [],
   "source": [
    "# natural log of `q`\n"
   ]
  },
  {
   "cell_type": "code",
   "execution_count": null,
   "metadata": {},
   "outputs": [],
   "source": [
    "# square root of `q`\n"
   ]
  },
  {
   "cell_type": "code",
   "execution_count": null,
   "metadata": {},
   "outputs": [],
   "source": [
    "# e raised to the `q`\n"
   ]
  },
  {
   "cell_type": "code",
   "execution_count": null,
   "metadata": {},
   "outputs": [],
   "source": [
    "# same as above, but another method\n"
   ]
  },
  {
   "cell_type": "markdown",
   "metadata": {
    "slideshow": {
     "slide_type": "slide"
    }
   },
   "source": [
    "**More `numpy` functions**\n",
    "\n",
    "- `np.sum()`: sum the values in array\n",
    "- `np.mean()` and `np.median()`: arithmetic mean and median of an array\n",
    "- `np.std()` and `np.var()`: standard deviation and variance of an array\n",
    "- `np.max()` and `np.min()`: maximum and minimum values in an array\n",
    "- `np.argmax()` and `np.argmin()`: index of the maximum and minimum values\n",
    "- `np.sort()`: create a sorted copy of an array\n"
   ]
  },
  {
   "cell_type": "markdown",
   "metadata": {
    "slideshow": {
     "slide_type": "subslide"
    }
   },
   "source": [
    "Execute the next code cell to create array `A`. In the remaining code cells perform each of the following operations on `A`\n",
    "\n",
    "- Compute the mean, median, and standard deviation\n",
    "- Return the maximum value and its location\n",
    "- Return the minimum value\n",
    "- Sum all of the values\n",
    "- Sort the array"
   ]
  },
  {
   "cell_type": "code",
   "execution_count": null,
   "metadata": {},
   "outputs": [],
   "source": [
    "A = np.array([2, 5, 9, 13, 12, 10])"
   ]
  },
  {
   "cell_type": "code",
   "execution_count": null,
   "metadata": {
    "slideshow": {
     "slide_type": "subslide"
    }
   },
   "outputs": [],
   "source": [
    "# compute the mean\n"
   ]
  },
  {
   "cell_type": "code",
   "execution_count": null,
   "metadata": {
    "slideshow": {
     "slide_type": "-"
    }
   },
   "outputs": [],
   "source": [
    "# compute the median\n"
   ]
  },
  {
   "cell_type": "code",
   "execution_count": null,
   "metadata": {},
   "outputs": [],
   "source": [
    "# standard deviation\n"
   ]
  },
  {
   "cell_type": "code",
   "execution_count": null,
   "metadata": {
    "slideshow": {
     "slide_type": "subslide"
    }
   },
   "outputs": [],
   "source": [
    "# maximum value and its position in the array\n"
   ]
  },
  {
   "cell_type": "code",
   "execution_count": null,
   "metadata": {},
   "outputs": [],
   "source": [
    "# minimum value\n"
   ]
  },
  {
   "cell_type": "code",
   "execution_count": null,
   "metadata": {},
   "outputs": [],
   "source": [
    "# add all of the values\n"
   ]
  },
  {
   "cell_type": "code",
   "execution_count": null,
   "metadata": {},
   "outputs": [],
   "source": [
    "# make a sorted copy\n"
   ]
  },
  {
   "cell_type": "markdown",
   "metadata": {
    "slideshow": {
     "slide_type": "slide"
    }
   },
   "source": [
    "**Array sums and products**\n",
    "\n",
    "See what each of the following *NumPy* functions do with the values from `A` (above) by executing the following code cells."
   ]
  },
  {
   "cell_type": "code",
   "execution_count": null,
   "metadata": {},
   "outputs": [],
   "source": [
    "# cumulative sum\n",
    "np.cumsum(A)"
   ]
  },
  {
   "cell_type": "code",
   "execution_count": null,
   "metadata": {},
   "outputs": [],
   "source": [
    "# product\n",
    "np.prod(A)"
   ]
  },
  {
   "cell_type": "code",
   "execution_count": null,
   "metadata": {},
   "outputs": [],
   "source": [
    "# cumulative product\n",
    "np.cumprod(A)"
   ]
  },
  {
   "cell_type": "markdown",
   "metadata": {
    "slideshow": {
     "slide_type": "slide"
    }
   },
   "source": [
    "**A bunch of *NumPy* random number functions**\n",
    "\n",
    "Floats from a uniform distribution:\n",
    "- `np.random.rand()`: float from 0 (inclusive) to 1 (exclusive)\n",
    "- `np.random.rand(x)`: array of `x` floats from 0 (inclusive) to 1 (exclusive)\n",
    "- `np.random.rand(r, c)`: `r` by `c` array of floats from 0 (inclusive) to 1 (exclusive)"
   ]
  },
  {
   "cell_type": "markdown",
   "metadata": {
    "slideshow": {
     "slide_type": "subslide"
    }
   },
   "source": [
    "Integers:\n",
    "- `np.random.randint(x)`: integer from 0 (inclusive) to 1 (exclusive)\n",
    "- `np.random.randint(low, high)`: integer from `low` (inclusive) to `high` (exclusive)\n",
    "- `np.random.randint(low, high, size)`: array of length `size` with integers from `low` (inclusive) to `high` (exclusive)\n",
    "- `np.random.randint(low, high, (r, c))`: `r` by `c` array of integers from `low` (inclusive) to `high` (exclusive)"
   ]
  },
  {
   "cell_type": "markdown",
   "metadata": {
    "slideshow": {
     "slide_type": "subslide"
    }
   },
   "source": [
    "More:\n",
    "- `np.random.randn()`: float from a normal distribution of mean $0$ and variance of $1$\n",
    "- `np.random.randn(x)`: array of `x` floats values from a normal distribution\n",
    "- `np.random.randn(r, c)`: `r` by `c` array of floats from a normal distribution\n",
    "- `np.random.shuffle(arr)`: randomly shuffle array `arr` in place"
   ]
  },
  {
   "cell_type": "markdown",
   "metadata": {
    "slideshow": {
     "slide_type": "subslide"
    }
   },
   "source": [
    "- Generate a single random float\n",
    "- Generate 5 random integers between 1 and 6, inclusive\n",
    "- Shuffle and then print all integers from 1 to 10, inclusive\n",
    "- Generate a random integer from 1 to 100, inclusive\n",
    "- Generate an array of 10 random integers from 0 to 9, inclusive"
   ]
  },
  {
   "cell_type": "code",
   "execution_count": null,
   "metadata": {
    "slideshow": {
     "slide_type": "subslide"
    }
   },
   "outputs": [],
   "source": [
    "# single random float\n"
   ]
  },
  {
   "cell_type": "code",
   "execution_count": null,
   "metadata": {},
   "outputs": [],
   "source": [
    "# 5 random integers between 1 and 6, inclusive\n"
   ]
  },
  {
   "cell_type": "code",
   "execution_count": null,
   "metadata": {},
   "outputs": [],
   "source": [
    "# shuffle and print all integers from 1 to 10, inclusive\n",
    "\n",
    "print(n)"
   ]
  },
  {
   "cell_type": "code",
   "execution_count": null,
   "metadata": {
    "slideshow": {
     "slide_type": "subslide"
    }
   },
   "outputs": [],
   "source": [
    "# random integer from 1 to 100, inclusive\n"
   ]
  },
  {
   "cell_type": "code",
   "execution_count": null,
   "metadata": {},
   "outputs": [],
   "source": [
    "# 10 random integers from 0 to 9, inclusive\n"
   ]
  },
  {
   "cell_type": "markdown",
   "metadata": {
    "slideshow": {
     "slide_type": "subslide"
    }
   },
   "source": [
    "The following code cell generates a number of normally distributed values with a particular mean and variance. Change the values of `v` and `m` so see how it effects the results."
   ]
  },
  {
   "cell_type": "code",
   "execution_count": null,
   "metadata": {},
   "outputs": [],
   "source": [
    "v = 4\n",
    "m = 50\n",
    "# 10 element array, mean = m, variance = v\n",
    "np.random.randn(10)*v + m"
   ]
  },
  {
   "cell_type": "markdown",
   "metadata": {
    "slideshow": {
     "slide_type": "slide"
    }
   },
   "source": [
    "**Wrap it up**\n",
    "\n",
    "Click on the **Save** button and then the **Close and halt** button when you are done before closing the tab."
   ]
  }
 ],
 "metadata": {
  "kernelspec": {
   "display_name": "Python 3 (ipykernel)",
   "language": "python",
   "name": "python3"
  },
  "language_info": {
   "codemirror_mode": {
    "name": "ipython",
    "version": 3
   },
   "file_extension": ".py",
   "mimetype": "text/x-python",
   "name": "python",
   "nbconvert_exporter": "python",
   "pygments_lexer": "ipython3",
   "version": "3.9.15"
  },
  "varInspector": {
   "cols": {
    "lenName": 16,
    "lenType": 16,
    "lenVar": 40
   },
   "kernels_config": {
    "python": {
     "delete_cmd_postfix": "",
     "delete_cmd_prefix": "del ",
     "library": "var_list.py",
     "varRefreshCmd": "print(var_dic_list())"
    },
    "r": {
     "delete_cmd_postfix": ") ",
     "delete_cmd_prefix": "rm(",
     "library": "var_list.r",
     "varRefreshCmd": "cat(var_dic_list()) "
    }
   },
   "types_to_exclude": [
    "module",
    "function",
    "builtin_function_or_method",
    "instance",
    "_Feature"
   ],
   "window_display": false
  }
 },
 "nbformat": 4,
 "nbformat_minor": 4
}
