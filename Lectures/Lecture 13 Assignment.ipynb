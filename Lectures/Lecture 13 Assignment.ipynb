{
 "cells": [
  {
   "cell_type": "markdown",
   "metadata": {
    "slideshow": {
     "slide_type": "slide"
    }
   },
   "source": [
    "# Lecture 13 Assignment\n",
    "## *NumPy* Calculus\n",
    "___"
   ]
  },
  {
   "cell_type": "markdown",
   "metadata": {
    "slideshow": {
     "slide_type": "slide"
    }
   },
   "source": [
    "- *Python*, and the many modules available for it, can do much more than can be covered in a one semester class\n",
    "- Many of the basics have been covered which...\n",
    "  - Should allow you to use *Python* to solve engineering related problems in the future\n",
    "  - Give you a good understanding of how programming works"
   ]
  },
  {
   "cell_type": "markdown",
   "metadata": {
    "slideshow": {
     "slide_type": "slide"
    }
   },
   "source": [
    "- The topics covered here include...\n",
    "  - Adding, subtracting, multiplying, and dividing polynomials\n",
    "  - Derivatives and integrals of polynomials\n",
    "  - Polynomial curve fitting\n",
    "  - Finding roots of polynomials\n",
    "  - Finding zeros and local minimums and maximums of functions\n",
    "  - Numeric integration\n",
    "  - Numeric differentiation\n",
    "- Each of these topics will be introduced by using a number of examples\n",
    "- This is not an exhaustive investigation of these topics, but merely an introduction"
   ]
  },
  {
   "cell_type": "markdown",
   "metadata": {
    "slideshow": {
     "slide_type": "slide"
    }
   },
   "source": [
    "**Execute the following code cell to import the necessary modules for this notebook**"
   ]
  },
  {
   "cell_type": "code",
   "execution_count": null,
   "metadata": {},
   "outputs": [],
   "source": [
    "import numpy as np\n",
    "from scipy import integrate, optimize"
   ]
  },
  {
   "cell_type": "markdown",
   "metadata": {},
   "source": [
    "Import the *NumPy* polynomial module with the following command. This will allow us to use function calls like `P.polyadd()` instead of having to use the entire path to the module."
   ]
  },
  {
   "cell_type": "code",
   "execution_count": null,
   "metadata": {},
   "outputs": [],
   "source": [
    "from numpy.polynomial import polynomial as P"
   ]
  },
  {
   "cell_type": "markdown",
   "metadata": {
    "slideshow": {
     "slide_type": "slide"
    }
   },
   "source": [
    "**Create polynomials**\n",
    "\n",
    "Use *Python* lists to define two polynomials `p1` and `p2` per the following expressions. Watch for any missing (zero) coefficients and use the correct order of coefficients ($x^0$ is first).\n",
    "\n",
    "$p_1 = -40 + 15x -3x^2 -10x^3 + 15x^5 + 3x^6$\n",
    "\n",
    "$p_2 = -6 -2x +3x^3$"
   ]
  },
  {
   "cell_type": "code",
   "execution_count": null,
   "metadata": {},
   "outputs": [],
   "source": [
    "# define 'p1' using a list\n"
   ]
  },
  {
   "cell_type": "code",
   "execution_count": null,
   "metadata": {},
   "outputs": [],
   "source": [
    "# define 'p2' using a list\n"
   ]
  },
  {
   "cell_type": "markdown",
   "metadata": {
    "slideshow": {
     "slide_type": "slide"
    }
   },
   "source": [
    "**Polynomial math functions**\n",
    "\n",
    "Use the appropriate polynomial functions to add, substract, multiply, and divide polynomials $p_1$ and $p_2$ per the following:\n",
    "\n",
    "1. $p_1 + p_2$\n",
    "\n",
    "2. $p_1 - p_2$\n",
    "\n",
    "3. $p_1 \\times p_2$\n",
    "\n",
    "4. $p_1 \\div p_2$"
   ]
  },
  {
   "cell_type": "code",
   "execution_count": null,
   "metadata": {
    "slideshow": {
     "slide_type": "subslide"
    }
   },
   "outputs": [],
   "source": [
    "# add the polynomials\n"
   ]
  },
  {
   "cell_type": "code",
   "execution_count": null,
   "metadata": {},
   "outputs": [],
   "source": [
    "# subtract p2 from p1\n"
   ]
  },
  {
   "cell_type": "code",
   "execution_count": null,
   "metadata": {},
   "outputs": [],
   "source": [
    "# multiply the polynomials\n"
   ]
  },
  {
   "cell_type": "code",
   "execution_count": null,
   "metadata": {},
   "outputs": [],
   "source": [
    "# divide p2 from p1\n"
   ]
  },
  {
   "cell_type": "markdown",
   "metadata": {
    "slideshow": {
     "slide_type": "slide"
    }
   },
   "source": [
    "**Polynomial division**\n",
    "\n",
    "Define two polynomials $u = -5 + 7x +8x^2 + 3x^3$ and $v = 3 + x$ in the following code cell. Then divide $u$ by $v$ using `P.polydiv()`. Polynomial division returns two values; quotient and remainder. Assign the quotient to `q` and the remainder to `r`. Recall that this can be done by putting `q` and `r` in a tuple on the left side of the equal sign. Print both the quotient and remainder in the same cell (code is provided). Then in the last cell, multiply the quotient `q` times `v` and add the remainder `r`. What did you get for an answer?"
   ]
  },
  {
   "cell_type": "code",
   "execution_count": null,
   "metadata": {},
   "outputs": [],
   "source": [
    "# define u and v\n"
   ]
  },
  {
   "cell_type": "code",
   "execution_count": null,
   "metadata": {
    "slideshow": {
     "slide_type": "subslide"
    }
   },
   "outputs": [],
   "source": [
    "# divide u by v and assign results to q and r\n"
   ]
  },
  {
   "cell_type": "code",
   "execution_count": null,
   "metadata": {},
   "outputs": [],
   "source": [
    "print('q =', q)\n",
    "print('r =', r)"
   ]
  },
  {
   "cell_type": "code",
   "execution_count": null,
   "metadata": {},
   "outputs": [],
   "source": [
    "# multiply q and v then add r\n"
   ]
  },
  {
   "cell_type": "markdown",
   "metadata": {
    "slideshow": {
     "slide_type": "slide"
    }
   },
   "source": [
    "**Using `P.polyval(x, p)`**\n",
    "\n",
    "Find the value of $p_1$ at $x=3$ and the values of $p_1$ at $x = 0, 1, 2, \\ldots, 10$ in the following code cells. Use a range of values for the second one."
   ]
  },
  {
   "cell_type": "code",
   "execution_count": null,
   "metadata": {},
   "outputs": [],
   "source": [
    "# value of p1 at 3\n"
   ]
  },
  {
   "cell_type": "code",
   "execution_count": null,
   "metadata": {
    "slideshow": {
     "slide_type": "-"
    }
   },
   "outputs": [],
   "source": [
    "# value of p1 at 0, 1, 2,..., 10\n"
   ]
  },
  {
   "cell_type": "markdown",
   "metadata": {
    "slideshow": {
     "slide_type": "slide"
    }
   },
   "source": [
    "**Derivatives and integrals of polynomials**\n",
    "\n",
    "Execute the following code cell to create polynomial `p`. Use the remaining cells to find the first and second derivatives of `p` and to integrate `p`."
   ]
  },
  {
   "cell_type": "code",
   "execution_count": null,
   "metadata": {},
   "outputs": [],
   "source": [
    "# 10 - 4x + 2x^2\n"
   ]
  },
  {
   "cell_type": "code",
   "execution_count": null,
   "metadata": {
    "slideshow": {
     "slide_type": "subslide"
    }
   },
   "outputs": [],
   "source": [
    "# first derivative of p\n"
   ]
  },
  {
   "cell_type": "code",
   "execution_count": null,
   "metadata": {},
   "outputs": [],
   "source": [
    "# second derivative of p\n"
   ]
  },
  {
   "cell_type": "code",
   "execution_count": null,
   "metadata": {},
   "outputs": [],
   "source": [
    "# first integral of p\n"
   ]
  },
  {
   "cell_type": "markdown",
   "metadata": {
    "slideshow": {
     "slide_type": "slide"
    }
   },
   "source": [
    "**Curve fitting**\n",
    "\n",
    "Execute the following three code cells to create $x$ and $y$ values to use for fitting and to plot them as red dots."
   ]
  },
  {
   "cell_type": "code",
   "execution_count": null,
   "metadata": {},
   "outputs": [],
   "source": [
    "import matplotlib.pyplot as plt"
   ]
  },
  {
   "cell_type": "code",
   "execution_count": null,
   "metadata": {},
   "outputs": [],
   "source": [
    "x = np.arange(0, 5.5, 0.5)\n",
    "y = np.array([6.0, 4.83, 3.70, 3.15, 2.41, 1.83, 1.49, 1.21, 0.96, 0.73, 0.64])"
   ]
  },
  {
   "cell_type": "code",
   "execution_count": null,
   "metadata": {
    "slideshow": {
     "slide_type": "subslide"
    }
   },
   "outputs": [],
   "source": [
    "fig, ax = plt.subplots(figsize=(6, 4), dpi=100)\n",
    "ax.plot(x, y,'ro')\n",
    "plt.show()"
   ]
  },
  {
   "cell_type": "markdown",
   "metadata": {
    "slideshow": {
     "slide_type": "subslide"
    }
   },
   "source": [
    "In the following code cells use `P.polyfit(x, y, order)` to create three polynomial arrays named `f1`, `f2`, and `f3` that are the first, second, and third order fit polynomials for the previous $x$ and $y$ points."
   ]
  },
  {
   "cell_type": "code",
   "execution_count": null,
   "metadata": {},
   "outputs": [],
   "source": [
    "# first order polynomial fit assigned to `f1`\n"
   ]
  },
  {
   "cell_type": "code",
   "execution_count": null,
   "metadata": {},
   "outputs": [],
   "source": [
    "# second order polynomial fit assigned to `f2`\n"
   ]
  },
  {
   "cell_type": "code",
   "execution_count": null,
   "metadata": {},
   "outputs": [],
   "source": [
    "# third order polynomial fit assigned to `f3`\n"
   ]
  },
  {
   "cell_type": "markdown",
   "metadata": {
    "slideshow": {
     "slide_type": "subslide"
    }
   },
   "source": [
    "Now create fitted $y$-value arrays from each of the above polynomials via `P.polyval(xrange, fitted_poly)`. Pass a linearly spaced array with the same range as the original $x$-value range to the `P.polyval()` function. This array can have more points than the original, such as `x_vals` in the first code cell below. Also pass the desired fitted polynomial (`f1`, `f2`, or `f3`) to the `P.polyval()` function. Create `y1`, `y2`, and `y3` arrays using `P.polyval()` with `x_vals` and the `f1`, `f2`, and `f3` polynomials in the following cells."
   ]
  },
  {
   "cell_type": "code",
   "execution_count": null,
   "metadata": {},
   "outputs": [],
   "source": [
    "x_vals = np.linspace(0, 5, 100)"
   ]
  },
  {
   "cell_type": "code",
   "execution_count": null,
   "metadata": {
    "slideshow": {
     "slide_type": "subslide"
    }
   },
   "outputs": [],
   "source": [
    "# create y1 using f1 and x_vals\n"
   ]
  },
  {
   "cell_type": "code",
   "execution_count": null,
   "metadata": {},
   "outputs": [],
   "source": [
    "# create y2 using f2 and x_vals\n"
   ]
  },
  {
   "cell_type": "code",
   "execution_count": null,
   "metadata": {},
   "outputs": [],
   "source": [
    "# create y3 using f3 and x_vals\n"
   ]
  },
  {
   "cell_type": "code",
   "execution_count": null,
   "metadata": {
    "slideshow": {
     "slide_type": "subslide"
    }
   },
   "outputs": [],
   "source": [
    "# plot the original points and the 3 fitted curves\n",
    "fig, ax = plt.subplots(figsize=(6, 4), dpi=100)\n",
    "ax.plot(x, y, 'ro')\n",
    "ax.plot(x_vals, y1, 'g-', label='first order')\n",
    "ax.plot(x_vals, y2, 'm--', label='second order')\n",
    "ax.plot(x_vals, y3, 'b-.', label='third order')\n",
    "ax.legend()\n",
    "plt.show()"
   ]
  },
  {
   "cell_type": "markdown",
   "metadata": {
    "slideshow": {
     "slide_type": "slide"
    }
   },
   "source": [
    "Execute the next two code cells to perform a regression. Notice that the highest $R^2$ value results from the third order fit; meaning that it is the best fit of the three."
   ]
  },
  {
   "cell_type": "code",
   "execution_count": null,
   "metadata": {},
   "outputs": [],
   "source": [
    "from scipy import stats\n",
    "m1, b1, r1, p1, s1 = stats.linregress(y, P.polyval(x, f1))\n",
    "m2, b2, r2, p2, s3 = stats.linregress(y, P.polyval(x, f2))\n",
    "m3, b3, r3, p3, s3 = stats.linregress(y, P.polyval(x, f3))"
   ]
  },
  {
   "cell_type": "code",
   "execution_count": null,
   "metadata": {},
   "outputs": [],
   "source": [
    "print(r1**2)\n",
    "print(r2**2)\n",
    "print(r3**2)"
   ]
  },
  {
   "cell_type": "markdown",
   "metadata": {
    "slideshow": {
     "slide_type": "slide"
    }
   },
   "source": [
    "**Finding zeros (roots) and local minimums and maximums of polynomials**\n",
    "\n",
    "Find the roots for the polynomial $5 + 7x -8x^2 -2x^3$ using `P.polyroots(p)` and the local minimums and maximums using the roots of the derivative. Plot the polynomial as a curve and roots and minimums/maximums as points."
   ]
  },
  {
   "cell_type": "code",
   "execution_count": null,
   "metadata": {},
   "outputs": [],
   "source": [
    "# create the polynomial 'c'\n"
   ]
  },
  {
   "cell_type": "code",
   "execution_count": null,
   "metadata": {},
   "outputs": [],
   "source": [
    "# find the roots of 'c' and assign to the variable 'r'\n"
   ]
  },
  {
   "cell_type": "code",
   "execution_count": null,
   "metadata": {},
   "outputs": [],
   "source": [
    "print(\"roots =\", r)"
   ]
  },
  {
   "cell_type": "code",
   "execution_count": null,
   "metadata": {
    "slideshow": {
     "slide_type": "subslide"
    }
   },
   "outputs": [],
   "source": [
    "x = np.linspace(-6, 3, 100)  # range of x-values using linspace\n",
    "y = P.polyval(x, c)          # array 'y' using 'x' and 'c'\n",
    "rz = np.zeros(len(r))        # array of zeros for each of the roots (for plotting)\n",
    "\n",
    "yd = P.polyval(x, P.polyder(c))   # y-values of the derivative of the polynomial\n",
    "mmx = P.polyroots(P.polyder(c))   # x-location of the roots of the derivative\n",
    "\n",
    "# local min/max values occur where the derivative is zero; at the roots\n",
    "# of the derivative\n",
    "mmy = P.polyval(mmx, c)           # y-values of the local min/max values\n",
    "\n",
    "print(f\"local minimums/maximums of {mmy} at x = {mmx}\")"
   ]
  },
  {
   "cell_type": "code",
   "execution_count": null,
   "metadata": {
    "slideshow": {
     "slide_type": "subslide"
    }
   },
   "outputs": [],
   "source": [
    "fig, ax = plt.subplots(figsize=(6, 4), dpi=100)\n",
    "ax.plot(x, y)\n",
    "ax.plot(r, rz, 'ro', ms=10)      # roots are red circles\n",
    "ax.plot(mmx, mmy, 'b*', ms=15)   # max/min are blue stars\n",
    "ax.grid()\n",
    "plt.show()"
   ]
  },
  {
   "cell_type": "markdown",
   "metadata": {
    "slideshow": {
     "slide_type": "subslide"
    }
   },
   "source": [
    "See if the results are any different using `np.roots()` after executing the following code cell."
   ]
  },
  {
   "cell_type": "code",
   "execution_count": null,
   "metadata": {},
   "outputs": [],
   "source": [
    "# np.roots() requires the polynomial start with largest order of x\n"
   ]
  },
  {
   "cell_type": "markdown",
   "metadata": {
    "slideshow": {
     "slide_type": "slide"
    }
   },
   "source": [
    "**Creating user defined functions**\n",
    "\n",
    "Create the user defined function `cbrt(x)` that solves for the cube root of a numeric value.\n"
   ]
  },
  {
   "cell_type": "code",
   "execution_count": null,
   "metadata": {},
   "outputs": [],
   "source": [
    "# define the function here\n",
    "def cbrt(x):\n",
    "    if x >= 0:\n",
    "        # return a positive number, round to 12 places\n",
    "        return \n",
    "    else:\n",
    "        # return a negative number, round to 12 places\n",
    "        return "
   ]
  },
  {
   "cell_type": "markdown",
   "metadata": {
    "slideshow": {
     "slide_type": "subslide"
    }
   },
   "source": [
    "Test your `cbrt()` function with the values of $125$, $27$, and $-27$."
   ]
  },
  {
   "cell_type": "code",
   "execution_count": null,
   "metadata": {},
   "outputs": [],
   "source": [
    "# test with 125 (should get 5)\n"
   ]
  },
  {
   "cell_type": "code",
   "execution_count": null,
   "metadata": {},
   "outputs": [],
   "source": [
    "# test with 27 (should get 3)\n"
   ]
  },
  {
   "cell_type": "code",
   "execution_count": null,
   "metadata": {},
   "outputs": [],
   "source": [
    "# test with -27 (should get -3)\n"
   ]
  },
  {
   "cell_type": "markdown",
   "metadata": {
    "slideshow": {
     "slide_type": "slide"
    }
   },
   "source": [
    "**Creating anonymous functions**\n",
    "\n",
    "Execute the following code cell to create an anonymous function named `FA`. Then use the next code cells to call the function with values of $2$ and $10$; i.e. `FA(2)`."
   ]
  },
  {
   "cell_type": "code",
   "execution_count": null,
   "metadata": {},
   "outputs": [],
   "source": [
    "FA = lambda x: 8*x + 5"
   ]
  },
  {
   "cell_type": "code",
   "execution_count": null,
   "metadata": {},
   "outputs": [],
   "source": [
    "# call FA with 2\n"
   ]
  },
  {
   "cell_type": "code",
   "execution_count": null,
   "metadata": {},
   "outputs": [],
   "source": [
    "# call FA with 10\n"
   ]
  },
  {
   "cell_type": "markdown",
   "metadata": {
    "slideshow": {
     "slide_type": "subslide"
    }
   },
   "source": [
    "*Note*: it is not considered very Pythonic to name an anonymous function even though it is possible and easy to do. Instead, they are expected to be defined and called within other functions."
   ]
  },
  {
   "cell_type": "markdown",
   "metadata": {
    "slideshow": {
     "slide_type": "slide"
    }
   },
   "source": [
    "Try another one. Name the anonymous function `circum` and use the argument variable `d` (like `x` in the previous example) and include the expression to calculate the circumference of a circle from its diameter `d`. Use `np.pi` instead of `math.pi`.\n",
    "\n",
    "Test the function with the following values:\n",
    "- $2$\n",
    "- $5$\n",
    "- an array created using `np.arange(1, 5)`"
   ]
  },
  {
   "cell_type": "code",
   "execution_count": null,
   "metadata": {
    "slideshow": {
     "slide_type": "subslide"
    }
   },
   "outputs": [],
   "source": [
    "# define the lambda function to calculate circumference from diameter\n"
   ]
  },
  {
   "cell_type": "code",
   "execution_count": null,
   "metadata": {},
   "outputs": [],
   "source": [
    "# test with 2\n"
   ]
  },
  {
   "cell_type": "code",
   "execution_count": null,
   "metadata": {},
   "outputs": [],
   "source": [
    "# test with 5\n"
   ]
  },
  {
   "cell_type": "code",
   "execution_count": null,
   "metadata": {},
   "outputs": [],
   "source": [
    "# test with 1, 2, 3, 4 using a numpy arange\n"
   ]
  },
  {
   "cell_type": "markdown",
   "metadata": {
    "slideshow": {
     "slide_type": "slide"
    }
   },
   "source": [
    "Let's try one with mulitple arguments. This function, `line`, returns the $y$-value of a point on a line that has a slope of `m` at a particular `x` position and with a $y$ intercept of `b`. Notice that to use multiple arguments you just need to separate the argument names with commas after the `lambda` command and before the colon.\n",
    "\n",
    "Test the function with arguments of `(4, 2, 0)` and `(8, 10, 5)`."
   ]
  },
  {
   "cell_type": "code",
   "execution_count": null,
   "metadata": {},
   "outputs": [],
   "source": [
    "line = lambda m, x, b: m*x + b"
   ]
  },
  {
   "cell_type": "code",
   "execution_count": null,
   "metadata": {},
   "outputs": [],
   "source": [
    "# test with the arguments (4, 2, 0)\n"
   ]
  },
  {
   "cell_type": "code",
   "execution_count": null,
   "metadata": {},
   "outputs": [],
   "source": [
    "# test with the arguments (8, 10, 5)\n"
   ]
  },
  {
   "cell_type": "markdown",
   "metadata": {
    "slideshow": {
     "slide_type": "slide"
    }
   },
   "source": [
    "**Finding zeros (roots) of functions**\n",
    "\n",
    "1. Define a function\n",
    "2. Plot the function over the desired range\n",
    "3. Find zeros using `optimize.fsolve()` with guesses based on the plot"
   ]
  },
  {
   "cell_type": "markdown",
   "metadata": {
    "slideshow": {
     "slide_type": "subslide"
    }
   },
   "source": [
    "Define an anonymous function and plot it over the range $0$ to $5$."
   ]
  },
  {
   "cell_type": "code",
   "execution_count": null,
   "metadata": {},
   "outputs": [],
   "source": [
    "g = lambda x: np.exp(0.5*x) - np.sqrt(x) - 3\n",
    "x = np.linspace(0, 5, 100)\n",
    "fig, ax = plt.subplots(figsize=(4, 3), dpi=100)\n",
    "ax.plot(x, g(x))\n",
    "ax.grid(True)\n",
    "plt.show()"
   ]
  },
  {
   "cell_type": "markdown",
   "metadata": {
    "slideshow": {
     "slide_type": "subslide"
    }
   },
   "source": [
    "Use `optimize.fsolve()` with two arguments; the function `g` and a guess of 1. Assign the zero to a variable and print it using the provided statement."
   ]
  },
  {
   "cell_type": "code",
   "execution_count": null,
   "metadata": {},
   "outputs": [],
   "source": [
    "# add arguments to the fsolve() function\n",
    "local_zero = optimize.fsolve()\n",
    "print(f'Local zero at: {local_zero}')"
   ]
  },
  {
   "cell_type": "markdown",
   "metadata": {
    "slideshow": {
     "slide_type": "slide"
    }
   },
   "source": [
    "**Another example**\n",
    "\n",
    "Define $F(x) = x^3 - 8x^2 + 17x + \\sqrt{x} - 10$ with an anonymous function. Notice that this is not a polynomial (see the square root symbol)."
   ]
  },
  {
   "cell_type": "code",
   "execution_count": null,
   "metadata": {
    "slideshow": {
     "slide_type": "-"
    }
   },
   "outputs": [],
   "source": []
  },
  {
   "cell_type": "markdown",
   "metadata": {
    "slideshow": {
     "slide_type": "subslide"
    }
   },
   "source": [
    "Plot it over a range of $x = 0$ to $5$ (use `np.linspace()` with 100 values)."
   ]
  },
  {
   "cell_type": "code",
   "execution_count": null,
   "metadata": {
    "slideshow": {
     "slide_type": "-"
    }
   },
   "outputs": [],
   "source": [
    "x = np.linspace(0, 5, 100)\n",
    "fig, ax = plt.subplots(figsize=(4, 3))\n",
    "ax.plot(x, F(x))\n",
    "ax.grid()\n",
    "plt.show()"
   ]
  },
  {
   "cell_type": "markdown",
   "metadata": {
    "slideshow": {
     "slide_type": "subslide"
    }
   },
   "source": [
    "Looking at the plot, you should see three zero crossings. Use `optimize.fsolve()` with estimates of 1, 2.5, and 4.5 in a list to find the locations of the zeros. Use a print statement to display all of the zeros."
   ]
  },
  {
   "cell_type": "code",
   "execution_count": null,
   "metadata": {},
   "outputs": [],
   "source": [
    "# fill in the fsolve() arguments\n",
    "z = optimize.fsolve()\n",
    "print(f\"Zeros (roots) are located at {z}\")"
   ]
  },
  {
   "cell_type": "markdown",
   "metadata": {
    "slideshow": {
     "slide_type": "subslide"
    }
   },
   "source": [
    "**Find local minimums (and maximums) of functions**\n",
    "\n",
    "1. Define and plot a function\n",
    "2. Use `optimize.fminbound()` with the defined function to find the x-location of a local minimum\n",
    "3. Negate the original function\n",
    "4. Use `optimize.fminbound()` with the negated function to find the x-location of a local maximum\n",
    "5. Pass results to the original function to get the y-values"
   ]
  },
  {
   "cell_type": "markdown",
   "metadata": {
    "slideshow": {
     "slide_type": "subslide"
    }
   },
   "source": [
    "Use `optimize.fminbound()` with bounds of $2$ to $5$ to find the location of the local mimimum of $F(x)$. Then pass the result to `F(x)` to find the $y$-value."
   ]
  },
  {
   "cell_type": "code",
   "execution_count": null,
   "metadata": {},
   "outputs": [],
   "source": [
    "# find the location of the local minimum of 'F' between 2 and 5 and assign the result\n",
    "# to the variable 'ymin_loc' and print it\n",
    "ymin_loc = \n",
    "print(ymin_loc)"
   ]
  },
  {
   "cell_type": "code",
   "execution_count": null,
   "metadata": {},
   "outputs": [],
   "source": [
    "# find the value of the local minimum and assign to the variable 'ymin_val' and print it\n",
    "ymin_val = \n",
    "print(ymin_val)"
   ]
  },
  {
   "cell_type": "markdown",
   "metadata": {
    "slideshow": {
     "slide_type": "subslide"
    }
   },
   "source": [
    "Create a new function `Fneg` that is the negative of `F`. Then use bounds of 0 to 2 to find the location of the local maximum using `optimize.fminbound()` with `Fneg`. Pass this result to `F(x)` to find the $y$-value of the local maximum."
   ]
  },
  {
   "cell_type": "code",
   "execution_count": null,
   "metadata": {},
   "outputs": [],
   "source": [
    "# create 'Fneg' as a lambda function that calls the negative of 'F' \n",
    "Fneg = "
   ]
  },
  {
   "cell_type": "code",
   "execution_count": null,
   "metadata": {},
   "outputs": [],
   "source": [
    "# find the location of the local maximum using 'Fneg' between 0 and 2 and assign the\n",
    "# result to the variable 'ymax_loc' and print it\n",
    "ymax_loc = \n",
    "print(ymax_loc)"
   ]
  },
  {
   "cell_type": "code",
   "execution_count": null,
   "metadata": {},
   "outputs": [],
   "source": [
    "# find the value of the local maximum and assign to the variable 'ymax_val' and print it\n",
    "ymax_val = \n",
    "print(ymax_val)"
   ]
  },
  {
   "cell_type": "markdown",
   "metadata": {
    "slideshow": {
     "slide_type": "subslide"
    }
   },
   "source": [
    "Print the locations and values of the local minimum and maximum."
   ]
  },
  {
   "cell_type": "code",
   "execution_count": null,
   "metadata": {},
   "outputs": [],
   "source": [
    "# print the results\n",
    "print(f\"Local minimum at ({ymin_loc:f}, {ymin_val:f})\")\n",
    "print(f\"Local maximum at ({ymax_loc:f}, {ymax_val:f})\")"
   ]
  },
  {
   "cell_type": "markdown",
   "metadata": {
    "slideshow": {
     "slide_type": "slide"
    }
   },
   "source": [
    "**Numerical integration using `integrate.quad()`**\n",
    "\n",
    "Create the function `g`. Use  `integrate.quad(func, lower, upper)` to perform numerical integration on the defined function between 1 and 6.\n",
    "\n",
    "$g(x) = \\displaystyle\\frac{2x^2}{\\sqrt{1 + x}}$"
   ]
  },
  {
   "cell_type": "code",
   "execution_count": null,
   "metadata": {},
   "outputs": [],
   "source": [
    "# define the lambda function g\n"
   ]
  },
  {
   "cell_type": "code",
   "execution_count": null,
   "metadata": {},
   "outputs": [],
   "source": [
    "# use integrate.quad() between 1 and 6\n"
   ]
  },
  {
   "cell_type": "markdown",
   "metadata": {
    "slideshow": {
     "slide_type": "slide"
    }
   },
   "source": [
    "Define an anonymous function $\\displaystyle f(x) = 2\\sqrt{1+\\frac{4h^2x^2}{a^4}}$ and assign $a=80$ and $h=18$. Then use `integrate.quad()` to integrate the function between $0$ and $a$."
   ]
  },
  {
   "cell_type": "code",
   "execution_count": null,
   "metadata": {},
   "outputs": [],
   "source": [
    "# define the lambda function f\n"
   ]
  },
  {
   "cell_type": "code",
   "execution_count": null,
   "metadata": {},
   "outputs": [],
   "source": [
    "# assign 80 to a and 18 to h\n"
   ]
  },
  {
   "cell_type": "code",
   "execution_count": null,
   "metadata": {},
   "outputs": [],
   "source": [
    "# integrate between 0 and a\n"
   ]
  },
  {
   "cell_type": "markdown",
   "metadata": {
    "slideshow": {
     "slide_type": "slide"
    }
   },
   "source": [
    "Integrate $\\displaystyle h(x) = \\frac{e^{2x}}{x}$ between $1$ and $2$ using `integrate.quad()`. This time don't create an anonymous function first, just put the `lambda` expression directly into the `integrate.quad()` function."
   ]
  },
  {
   "cell_type": "code",
   "execution_count": null,
   "metadata": {},
   "outputs": [],
   "source": []
  },
  {
   "cell_type": "markdown",
   "metadata": {
    "slideshow": {
     "slide_type": "slide"
    }
   },
   "source": [
    "**Integration using `trapz(y, x)`**\n",
    "\n",
    "Create an array $t$ that starts with 0 and ends with 7 with steps of 1 using `np.arange()`. Also create an array $v$ with the following values [0, 14, 39, 69, 95, 114, 129, 139] multiplied by 5280/3600. Create a $t,v$ plot of the data points then use both `np.trapz()` and `integrate.trapz()` to find the area under the curve. Did the two functions provide the same results?"
   ]
  },
  {
   "cell_type": "code",
   "execution_count": null,
   "metadata": {},
   "outputs": [],
   "source": [
    "# create t\n"
   ]
  },
  {
   "cell_type": "code",
   "execution_count": null,
   "metadata": {},
   "outputs": [],
   "source": [
    "# create v\n"
   ]
  },
  {
   "cell_type": "code",
   "execution_count": null,
   "metadata": {
    "slideshow": {
     "slide_type": "subslide"
    }
   },
   "outputs": [],
   "source": [
    "# plot\n",
    "fig, ax = plt.subplots(figsize=(6, 4))\n",
    "ax.plot(t, v, \"-ro\")\n",
    "plt.show()"
   ]
  },
  {
   "cell_type": "code",
   "execution_count": null,
   "metadata": {
    "slideshow": {
     "slide_type": "subslide"
    }
   },
   "outputs": [],
   "source": [
    "# np.trapz()\n"
   ]
  },
  {
   "cell_type": "code",
   "execution_count": null,
   "metadata": {},
   "outputs": [],
   "source": [
    "# integrate.trapz()\n"
   ]
  },
  {
   "cell_type": "markdown",
   "metadata": {
    "slideshow": {
     "slide_type": "slide"
    }
   },
   "source": [
    "**Numerical differentiation using `scipy.misc.derivative()`**\n",
    "\n",
    "From `scipy.misc` import the `derivative` function. Create an anonymous function $h(x) = x\\cos(x)$. Then find the first derivative at x = 0, $\\pi/4$, $\\pi/3$, $\\pi/2$, and $\\pi$ in individual code cells. Use a spacing (`dx`) of $1\\times10^{-6}$; i.e. `dx=1e-6`. In the last code cell find the first derivative at all five values by passing an array (not a list) as the second argument."
   ]
  },
  {
   "cell_type": "code",
   "execution_count": null,
   "metadata": {},
   "outputs": [],
   "source": [
    "from scipy.misc import derivative"
   ]
  },
  {
   "cell_type": "code",
   "execution_count": null,
   "metadata": {},
   "outputs": [],
   "source": [
    "# define function h\n"
   ]
  },
  {
   "cell_type": "code",
   "execution_count": null,
   "metadata": {
    "slideshow": {
     "slide_type": "subslide"
    }
   },
   "outputs": [],
   "source": [
    "# first derivative at 0\n"
   ]
  },
  {
   "cell_type": "code",
   "execution_count": null,
   "metadata": {},
   "outputs": [],
   "source": [
    "# first derivative at pi/4\n"
   ]
  },
  {
   "cell_type": "code",
   "execution_count": null,
   "metadata": {
    "slideshow": {
     "slide_type": "subslide"
    }
   },
   "outputs": [],
   "source": [
    "# first derivative at pi/3\n"
   ]
  },
  {
   "cell_type": "code",
   "execution_count": null,
   "metadata": {},
   "outputs": [],
   "source": [
    "# first derivative at pi/2\n"
   ]
  },
  {
   "cell_type": "code",
   "execution_count": null,
   "metadata": {
    "slideshow": {
     "slide_type": "subslide"
    }
   },
   "outputs": [],
   "source": [
    "# first derivative at pi\n"
   ]
  },
  {
   "cell_type": "code",
   "execution_count": null,
   "metadata": {},
   "outputs": [],
   "source": [
    "# first derivative at all 5 locations using an array\n"
   ]
  },
  {
   "cell_type": "markdown",
   "metadata": {
    "slideshow": {
     "slide_type": "slide"
    }
   },
   "source": [
    "Create an anonymous function $f(x) = \\sin(x)$ and an array named `x` of 100 $x$-values from $0$ to $2\\pi$. Find the derivative of $f$ at `x` with `dx=1e-6` and `n=1` and assign the results to the name `df`. Then plot `x, f(x)` (the original function $f$) and `x, df` (the derivative of $f$). Make the original a solid red line and the derivative a dashed blue line. Add a legend to the plot before showing it."
   ]
  },
  {
   "cell_type": "code",
   "execution_count": null,
   "metadata": {},
   "outputs": [],
   "source": [
    "# define f\n"
   ]
  },
  {
   "cell_type": "code",
   "execution_count": null,
   "metadata": {},
   "outputs": [],
   "source": [
    "# create x\n"
   ]
  },
  {
   "cell_type": "code",
   "execution_count": null,
   "metadata": {},
   "outputs": [],
   "source": [
    "# find derivative and name it df\n"
   ]
  },
  {
   "cell_type": "code",
   "execution_count": null,
   "metadata": {
    "slideshow": {
     "slide_type": "subslide"
    }
   },
   "outputs": [],
   "source": [
    "# plot 'x, f(x)' and 'x, df'\n",
    "fig, ax = plt.subplots()\n",
    "ax.plot(x, f(x), '-r', label=\"sin(x)\")\n",
    "ax.plot(x, df, '--b', label=\"df sin(x)\")\n",
    "ax.legend()\n",
    "plt.show()"
   ]
  },
  {
   "cell_type": "markdown",
   "metadata": {
    "slideshow": {
     "slide_type": "slide"
    }
   },
   "source": [
    "**Wrap it up**\n",
    "\n",
    "Click on the **Save** button and then the **Close and halt** button when you are done before closing the tab."
   ]
  }
 ],
 "metadata": {
  "celltoolbar": "Slideshow",
  "kernelspec": {
   "display_name": "Python 3 (ipykernel)",
   "language": "python",
   "name": "python3"
  },
  "language_info": {
   "codemirror_mode": {
    "name": "ipython",
    "version": 3
   },
   "file_extension": ".py",
   "mimetype": "text/x-python",
   "name": "python",
   "nbconvert_exporter": "python",
   "pygments_lexer": "ipython3",
   "version": "3.9.15"
  },
  "varInspector": {
   "cols": {
    "lenName": 16,
    "lenType": 16,
    "lenVar": 40
   },
   "kernels_config": {
    "python": {
     "delete_cmd_postfix": "",
     "delete_cmd_prefix": "del ",
     "library": "var_list.py",
     "varRefreshCmd": "print(var_dic_list())"
    },
    "r": {
     "delete_cmd_postfix": ") ",
     "delete_cmd_prefix": "rm(",
     "library": "var_list.r",
     "varRefreshCmd": "cat(var_dic_list()) "
    }
   },
   "types_to_exclude": [
    "module",
    "function",
    "builtin_function_or_method",
    "instance",
    "_Feature"
   ],
   "window_display": false
  }
 },
 "nbformat": 4,
 "nbformat_minor": 4
}
