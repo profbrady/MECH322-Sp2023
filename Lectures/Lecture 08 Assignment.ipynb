{
 "cells": [
  {
   "cell_type": "markdown",
   "metadata": {
    "slideshow": {
     "slide_type": "slide"
    }
   },
   "source": [
    "# Lecture 8 Assignment\n",
    "## Python Intro to Plotting\n",
    "___"
   ]
  },
  {
   "cell_type": "markdown",
   "metadata": {
    "slideshow": {
     "slide_type": "slide"
    }
   },
   "source": [
    "**Importing the required modules**\n",
    "\n",
    "Execute the following code cell to import both the `math` and `matplotlib.pyplot` modules for use in the rest of this document. Notice that we are using the `plt` shortcut (alias) for the name of the `matplotlib.pyplot` module."
   ]
  },
  {
   "cell_type": "code",
   "execution_count": null,
   "metadata": {},
   "outputs": [],
   "source": [
    "import math\n",
    "import matplotlib.pyplot as plt"
   ]
  },
  {
   "cell_type": "markdown",
   "metadata": {
    "slideshow": {
     "slide_type": "slide"
    }
   },
   "source": [
    "**Plotting the same $x,y$ values three different ways**\n",
    "\n",
    "Execute the following code cells to generate (nearly) identical $x,y$-plots using lists `x` and `y` based on the three examples shown above."
   ]
  },
  {
   "cell_type": "code",
   "execution_count": null,
   "metadata": {},
   "outputs": [],
   "source": [
    "x = [1, 2, 3, 5, 7, 7.5, 8, 10]\n",
    "y = [2, 6.5, 7, 7, 5.5, 4, 6, 8]"
   ]
  },
  {
   "cell_type": "code",
   "execution_count": null,
   "metadata": {
    "slideshow": {
     "slide_type": "slide"
    }
   },
   "outputs": [],
   "source": [
    "# Create a figure and then add an axes to plot on\n",
    "fig = plt.figure()\n",
    "ax = fig.add_axes([0, 0, 1, 1])\n",
    "ax.plot(x, y)"
   ]
  },
  {
   "cell_type": "code",
   "execution_count": null,
   "metadata": {
    "slideshow": {
     "slide_type": "subslide"
    }
   },
   "outputs": [],
   "source": [
    "# Create a figure and then add subplots to plot on\n",
    "fig = plt.figure()\n",
    "ax = fig.add_subplot(111)\n",
    "ax.plot(x, y)"
   ]
  },
  {
   "cell_type": "code",
   "execution_count": null,
   "metadata": {
    "slideshow": {
     "slide_type": "subslide"
    }
   },
   "outputs": [],
   "source": [
    "# Create a figure and axes at the same time with subplots()\n",
    "fig, ax = plt.subplots()\n",
    "ax.plot(x, y)"
   ]
  },
  {
   "cell_type": "markdown",
   "metadata": {
    "slideshow": {
     "slide_type": "slide"
    }
   },
   "source": [
    "**Plotting just $x$ or $y$ values**\n",
    "\n",
    "Execute the following three code cells to see what happens when only `x` or `y` is used in the plotting command (the last example is using a subplot that is 1 row by 2 columns in order to place the plots next to each other)."
   ]
  },
  {
   "cell_type": "code",
   "execution_count": null,
   "metadata": {
    "slideshow": {
     "slide_type": "subslide"
    }
   },
   "outputs": [],
   "source": [
    "# Just plot the x values\n",
    "fig, ax = plt.subplots()\n",
    "ax.plot(x)"
   ]
  },
  {
   "cell_type": "code",
   "execution_count": null,
   "metadata": {
    "slideshow": {
     "slide_type": "subslide"
    }
   },
   "outputs": [],
   "source": [
    "# Just plot the y values\n",
    "fig, ax = plt.subplots()\n",
    "ax.plot(y)"
   ]
  },
  {
   "cell_type": "code",
   "execution_count": null,
   "metadata": {
    "slideshow": {
     "slide_type": "subslide"
    }
   },
   "outputs": [],
   "source": [
    "# Plot x values in on axes and y values in another\n",
    "fig, (ax1, ax2) = plt.subplots(1, 2)\n",
    "ax1.plot(x)\n",
    "ax2.plot(y)"
   ]
  },
  {
   "cell_type": "markdown",
   "metadata": {
    "slideshow": {
     "slide_type": "slide"
    }
   },
   "source": [
    "**Setting the figure size and dpi with `.subplots()`**\n",
    "\n",
    "Edit then run the following code cell with the `plt.subplots()` arguments for `figsize` and `dpi` set to `(4,3)` and `150` to see the affects on the plot."
   ]
  },
  {
   "cell_type": "code",
   "execution_count": null,
   "metadata": {
    "slideshow": {
     "slide_type": "slide"
    }
   },
   "outputs": [],
   "source": [
    "# Add arguments for figsize of (4, 3) and dpi of 150\n",
    "fig, ax = plt.subplots()\n",
    "ax.plot(x, y)"
   ]
  },
  {
   "cell_type": "markdown",
   "metadata": {
    "slideshow": {
     "slide_type": "slide"
    }
   },
   "source": [
    "**Create the function `frange()` for non-integer ranges**\n",
    "\n",
    "$\\displaystyle x_i = (x_{upper}-x_{lower})\\frac{i}{(n-1)} + x_{lower}$\n",
    "\n",
    "Define a function called `frange(lower, upper, n=100)` (short for floating point range) that uses the above expression to create and return a list of `n` values with a lower limit of `lower` and an upper limit of `upper`.  Use list a comprehension to create the list within the function. Make sure you use `n=100` as the last parameter (referred to as a keyword parameter) when defining the function to set the default `n` value to $100$ and make the last argument optional when calling the function."
   ]
  },
  {
   "cell_type": "code",
   "execution_count": null,
   "metadata": {
    "slideshow": {
     "slide_type": "subslide"
    }
   },
   "outputs": [],
   "source": [
    "# define the frange function in this cell\n"
   ]
  },
  {
   "cell_type": "markdown",
   "metadata": {
    "slideshow": {
     "slide_type": "subslide"
    }
   },
   "source": [
    "Test the `frange()` function by creating a list named `a` with limits of $-2$  and $4$ that has a $100$ values. Then print `a` and use `len(a)` to make sure that the function returned the correct number of values."
   ]
  },
  {
   "cell_type": "code",
   "execution_count": null,
   "metadata": {},
   "outputs": [],
   "source": [
    "# create 'a' from -2 to 4 with 100 values\n"
   ]
  },
  {
   "cell_type": "code",
   "execution_count": null,
   "metadata": {
    "slideshow": {
     "slide_type": "subslide"
    }
   },
   "outputs": [],
   "source": [
    "# print 'a'\n"
   ]
  },
  {
   "cell_type": "code",
   "execution_count": null,
   "metadata": {
    "slideshow": {
     "slide_type": "subslide"
    }
   },
   "outputs": [],
   "source": [
    "# find the length of 'a'\n"
   ]
  },
  {
   "cell_type": "markdown",
   "metadata": {
    "slideshow": {
     "slide_type": "slide"
    }
   },
   "source": [
    "**Defining a function to use with a list comprehension for plotting**\n",
    "\n",
    "Use your list named `a` and a list comprehension to create a list named `b` from the following expression:\n",
    "\n",
    "$\\displaystyle b = 3.5^{(-0.5a)}\\cos{(6a)}$\n",
    "\n",
    "Create a function named `bfunc(a)` (in the first code cell) and use it to create list `b` (in the second code cell). You will need to use `cos()` from the `math` module in your function (include an `import` statement in the function)."
   ]
  },
  {
   "cell_type": "code",
   "execution_count": null,
   "metadata": {
    "slideshow": {
     "slide_type": "-"
    }
   },
   "outputs": [],
   "source": [
    "# define bfunc()\n"
   ]
  },
  {
   "cell_type": "code",
   "execution_count": null,
   "metadata": {
    "slideshow": {
     "slide_type": "subslide"
    }
   },
   "outputs": [],
   "source": [
    "# create the list `b` then print it\n"
   ]
  },
  {
   "cell_type": "markdown",
   "metadata": {
    "slideshow": {
     "slide_type": "slide"
    }
   },
   "source": [
    "**Options to make plots look nicer with...**\n",
    "\n",
    "- Line colors\n",
    "- Line styles\n",
    "- Markers\n",
    "\n",
    "Add a string with one or more of these in a `plot()` command"
   ]
  },
  {
   "cell_type": "markdown",
   "metadata": {
    "slideshow": {
     "slide_type": "subslide"
    }
   },
   "source": [
    "Common color indicators:\n",
    "\n",
    "- `r` = red\n",
    "- `g` = green\n",
    "- `b` = blue\n",
    "- `c` = cyan\n",
    "- `m` = magenta\n",
    "- `y` = yellow \n",
    "- `k` = black\n",
    "- `w` = white"
   ]
  },
  {
   "cell_type": "markdown",
   "metadata": {
    "slideshow": {
     "slide_type": "subslide"
    }
   },
   "source": [
    "Common linestyle indicators:\n",
    "- `-` = solid\n",
    "- `--` = dashed\n",
    "- `-.` = dash-dot\n",
    "- `:` = dotted"
   ]
  },
  {
   "cell_type": "markdown",
   "metadata": {
    "slideshow": {
     "slide_type": "subslide"
    }
   },
   "source": [
    "Common marker indicators:\n",
    "\n",
    "- `.` = point\n",
    "- `x` and `X` = $\\times$'s\n",
    "- `+` and `P` = plus signs\n",
    "- `o` = circle\n",
    "- `d` and `D` = diamonds\n",
    "- `s` = square\n",
    "- `^`, `v`, `<`, and `>` = triangles\n",
    "- `h` and `H` = hexagons\n",
    "- `*` = star\n",
    "- `p` = pentagon\n",
    "- `8` = octagon"
   ]
  },
  {
   "cell_type": "markdown",
   "metadata": {
    "slideshow": {
     "slide_type": "slide"
    }
   },
   "source": [
    "**Marker indicators and linestyles illustrated**\n",
    "\n",
    "The following code cell creates a \"plot\" of all of the common marker indicators and linestyles. *Matplotlib* automatically cycles through different colors for different plots in the same space."
   ]
  },
  {
   "cell_type": "code",
   "execution_count": null,
   "metadata": {
    "scrolled": true,
    "slideshow": {
     "slide_type": "subslide"
    }
   },
   "outputs": [],
   "source": [
    "fig = plt.figure(figsize=(6,1))\n",
    "ax = fig.add_axes([0,0,1,1])\n",
    "for i,item in enumerate(['-','--','-.',':']):\n",
    "    ax.plot([0, 17], [2*i+2, 2*i+2], item, lw=2.5)\n",
    "for i,item in enumerate('.xX+PodDs^v<>hH*p8'):\n",
    "    ax.plot(i, 0, item, ms=10)\n",
    "    \n",
    "ax.set_axis_off()\n",
    "ax.set_ylim(-1, 9)\n",
    "plt.show()"
   ]
  },
  {
   "cell_type": "markdown",
   "metadata": {
    "slideshow": {
     "slide_type": "slide"
    }
   },
   "source": [
    "**Format a plot's line (curve)**\n",
    "\n",
    "Plot $a,b$ with a solid red line that is 2.0 wide. Include `plt.show()` as the last command. "
   ]
  },
  {
   "cell_type": "code",
   "execution_count": null,
   "metadata": {},
   "outputs": [],
   "source": [
    "# use \"-r\" to get a solid red line and lw=2 for width of 2\n"
   ]
  },
  {
   "cell_type": "markdown",
   "metadata": {
    "slideshow": {
     "slide_type": "slide"
    }
   },
   "source": [
    "**Create a basic plot with features and styles**\n",
    "\n",
    "Use our `frange()` function and list comprehension to create two lists, `x` and `y`, based on the following information. \n",
    "\n",
    "$\\displaystyle -5 \\leq x \\leq 10$  with $100$ values and $\\displaystyle y = \\frac{5\\sin{x}}{x + e^{-0.75x}} - \\frac{3x}{5}$"
   ]
  },
  {
   "cell_type": "code",
   "execution_count": null,
   "metadata": {},
   "outputs": [],
   "source": [
    "# define a function for calculating 'y'\n"
   ]
  },
  {
   "cell_type": "code",
   "execution_count": null,
   "metadata": {
    "slideshow": {
     "slide_type": "subslide"
    }
   },
   "outputs": [],
   "source": [
    "# create list 'x' from -5 to 10 with 100 values\n"
   ]
  },
  {
   "cell_type": "code",
   "execution_count": null,
   "metadata": {},
   "outputs": [],
   "source": [
    "# create list 'y' using list a comprehension and the yfunc()\n"
   ]
  },
  {
   "cell_type": "markdown",
   "metadata": {
    "slideshow": {
     "slide_type": "subslide"
    }
   },
   "source": [
    "Now plot $x,y$ with the following options and don't forget to end with `plt.show()`\n",
    "- Green plot line that is 1.5 wide\n",
    "- The title \"A really nice plot\" with a fontsize of 16\n",
    "- The x-axis label \"x-axis\" with a fontsize of 12\n",
    "- The y-axis label \"y-axis\" with a fontsize of 12\n",
    "- Plot limits of -5 and 10 for the x-axis"
   ]
  },
  {
   "cell_type": "code",
   "execution_count": null,
   "metadata": {},
   "outputs": [],
   "source": []
  },
  {
   "cell_type": "markdown",
   "metadata": {
    "slideshow": {
     "slide_type": "slide"
    }
   },
   "source": [
    "**Use a single `plt.plot()` function to plot multiple lines on the same axes**\n",
    "\n",
    "Execute the following code cell to see how this works"
   ]
  },
  {
   "cell_type": "code",
   "execution_count": null,
   "metadata": {
    "slideshow": {
     "slide_type": "subslide"
    }
   },
   "outputs": [],
   "source": [
    "# Multiple plot lines in the same axes with 1 plot()\n",
    "x = frange(-2, 4)\n",
    "y = [3*x**3 - 26*x + 6 for x in x]\n",
    "yd = [9*x**2 - 26 for x in x]\n",
    "ydd = [18*x for x in x]\n",
    "fig, ax = plt.subplots()\n",
    "ax.plot(x, y, '-b', x, yd, '--r', x, ydd, ':k')\n",
    "plt.show()"
   ]
  },
  {
   "cell_type": "markdown",
   "metadata": {
    "slideshow": {
     "slide_type": "slide"
    }
   },
   "source": [
    "**Use multiple `plt.plot()` functions to plot multiple lines on the same axes**\n",
    "\n",
    "Make the above plot using three separate `plt.plot()` commands. Remember to use `plt.show()` as the last command in the cell."
   ]
  },
  {
   "cell_type": "code",
   "execution_count": null,
   "metadata": {
    "slideshow": {
     "slide_type": "subslide"
    }
   },
   "outputs": [],
   "source": [
    "# Use 3 plt.plot() calls; x,y is \"-b\", x,yd is \"--r\", and x,ydd is \":k\""
   ]
  },
  {
   "cell_type": "markdown",
   "metadata": {
    "slideshow": {
     "slide_type": "slide"
    }
   },
   "source": [
    "**Stacked subplots**\n",
    "\n",
    "Execute the following to create a set of stacked subplots."
   ]
  },
  {
   "cell_type": "code",
   "execution_count": null,
   "metadata": {
    "slideshow": {
     "slide_type": "subslide"
    }
   },
   "outputs": [],
   "source": [
    "# Stacked subplots\n",
    "x = frange(0, 10)\n",
    "y1 = [x*math.cos(x) for x in x]\n",
    "y2 = [math.exp(-0.2*x)*math.cos(x) for x in x]\n",
    "\n",
    "fig, (ax1, ax2) = plt.subplots(2, 1, figsize=(6,6), dpi=100)\n",
    "ax1.plot(x, y1)\n",
    "ax2.plot(x, y2, 'r--')\n",
    "plt.show()"
   ]
  },
  {
   "cell_type": "markdown",
   "metadata": {
    "slideshow": {
     "slide_type": "slide"
    }
   },
   "source": [
    "**Create a polar plot using `.add_axes()`**\n",
    "\n",
    "Run the following code to create a polar plot. Notice that the method `.plot()` is still used to create the plot. However, `plt.figure()` along with `.add_axes()` is used to create the axes object and `polar=True` is added as a keyword argument after the list containing the size information. The two arguments in `.plot()` are the angular (in radians) and the radial positions of the points (both lists) when using it to create a polar plot."
   ]
  },
  {
   "cell_type": "code",
   "execution_count": null,
   "metadata": {
    "slideshow": {
     "slide_type": "subslide"
    }
   },
   "outputs": [],
   "source": [
    "t = frange(0, 5*math.pi, 200) # 200 points from 0 to 5pi radians\n",
    "r = [3*math.cos(0.5*t)**2 + t for t in t]\n",
    "fig = plt.figure(figsize=(4,4), dpi=100)\n",
    "ax = fig.add_axes([0, 0, 1, 1], polar=True)\n",
    "ax.plot(t, r)\n",
    "ax.set_ylim(0, 20) # ylim sets the radial limits for polar plots\n",
    "plt.show()"
   ]
  },
  {
   "cell_type": "markdown",
   "metadata": {
    "slideshow": {
     "slide_type": "slide"
    }
   },
   "source": [
    "**Create a polar plot using `.subplots()`**\n",
    "\n",
    "Another option is to use the `.subplots()` method to create the figure and add the keyword argument `subplot_kw={'polar':True}`. Execute the following code to create the same polar plot as above."
   ]
  },
  {
   "cell_type": "code",
   "execution_count": null,
   "metadata": {
    "slideshow": {
     "slide_type": "subslide"
    }
   },
   "outputs": [],
   "source": [
    "t = frange(0, 5*math.pi, 200) # 200 points from 0 to 5pi radians\n",
    "r = [3*math.cos(0.5*t)**2 + t for t in t]\n",
    "fig, ax = plt.subplots(figsize=(4,4), dpi=100, subplot_kw={'polar':True})\n",
    "ax.plot(t, r)\n",
    "ax.set_ylim(0, 20) # ylim sets the radial limits for polar plots\n",
    "plt.show()"
   ]
  },
  {
   "cell_type": "markdown",
   "metadata": {
    "slideshow": {
     "slide_type": "slide"
    }
   },
   "source": [
    "**Create a histogram**\n",
    "\n",
    "Histograms are quite easy to make as well. We are importing the `random` module and using its `normalvariate()` function to create a list of random numbers that fit in a normal distribution. But the `.hist()` method simply needs a list of values and the number of bins desired. Read about the command to see other options."
   ]
  },
  {
   "cell_type": "code",
   "execution_count": null,
   "metadata": {
    "slideshow": {
     "slide_type": "subslide"
    }
   },
   "outputs": [],
   "source": [
    "import random\n",
    "mean = 50\n",
    "std = 10\n",
    "y = [random.normalvariate(mean, std) for x in range(1000)]\n",
    "fig, ax = plt.subplots(figsize=(6,4), dpi=100)\n",
    "ax.hist(y, 10)     # 10 bins\n",
    "ax.set_xlim(0, 100)\n",
    "ax.grid(True)\n",
    "plt.show()"
   ]
  },
  {
   "cell_type": "markdown",
   "metadata": {
    "slideshow": {
     "slide_type": "slide"
    }
   },
   "source": [
    "**A practice problem**\n",
    "\n",
    "Plot the following expression together as a class.\n",
    "\n",
    "$\\displaystyle x(t)=\\frac{2f_0}{\\omega_n^2-\\omega^2}\\,\\, \\sin{\\left(\\left(\\omega_n-\\omega\\right)\\frac{t}{2}\\right)} \\sin{\\left(\\left(\\omega_n+\\omega\\right)\\frac{t}{2}\\right)}$\n",
    "\n",
    "Use $f_0=12\\text{ N/kg}$, $\\omega_n=10\\text{ rad/s}$, and $\\omega=12\\text{ rad/s}$ in order to plot $x(t)$ as a function of $t$ for $0\\leq t \\leq 10\\text{ s}$ with $500$ values for $t$."
   ]
  },
  {
   "cell_type": "code",
   "execution_count": null,
   "metadata": {},
   "outputs": [],
   "source": [
    "# Step 1: define the function `xfunc(t, f_0, w_n, w)`\n"
   ]
  },
  {
   "cell_type": "code",
   "execution_count": null,
   "metadata": {
    "slideshow": {
     "slide_type": "subslide"
    }
   },
   "outputs": [],
   "source": [
    "# Step 2: create the list `t` from 0 to 10 with 500 values\n"
   ]
  },
  {
   "cell_type": "code",
   "execution_count": null,
   "metadata": {},
   "outputs": [],
   "source": [
    "# Step 3: create the list `x` using `xfunc()`\n"
   ]
  },
  {
   "cell_type": "code",
   "execution_count": null,
   "metadata": {
    "slideshow": {
     "slide_type": "subslide"
    }
   },
   "outputs": [],
   "source": [
    "# Step 4: plot t, x in red with line width of 3\n"
   ]
  },
  {
   "cell_type": "markdown",
   "metadata": {
    "slideshow": {
     "slide_type": "slide"
    }
   },
   "source": [
    "**A cool math plot**\n",
    "\n",
    "Execute the following code cell that uses `if-elif-else` statements and random values in a `for` loop to create the values for plotting [**Sierpinski's Triangle**](https://en.wikipedia.org/wiki/Sierpinski_triangle)."
   ]
  },
  {
   "cell_type": "code",
   "execution_count": null,
   "metadata": {
    "cocalc": {
     "outputs": {
      "0": {
       "name": "input",
       "opts": {
        "password": false,
        "prompt": "How many trials? "
       },
       "output_type": "stream",
       "value": "2000"
      }
     }
    },
    "slideshow": {
     "slide_type": "subslide"
    }
   },
   "outputs": [],
   "source": [
    "# Sierpinski's Triangle\n",
    "import math\n",
    "from numpy.random import randint\n",
    "from matplotlib import pyplot as plt\n",
    "x = [0]\n",
    "y = [0]\n",
    "n = int(input(\"How many trials? \"))\n",
    "for k in range(1, n):\n",
    "    choice = randint(3)\n",
    "    if choice == 0:\n",
    "        x.append(0.5*x[-1])\n",
    "        y.append(0.5*y[-1])\n",
    "    elif choice == 1:\n",
    "        x.append(0.5*x[-1] + 0.25)\n",
    "        y.append(0.5*y[-1] + math.sqrt(3)/4)\n",
    "    else:\n",
    "        x.append(0.5*x[-1] + 0.5)\n",
    "        y.append(0.5*y[-1])\n",
    "\n",
    "fig, ax = plt.subplots(figsize=(6,6), dpi=150)\n",
    "ax.plot(x, y, 'g.')\n",
    "ax.set_title(\"Sierpinski's Triangle\")\n",
    "ax.axis('off')\n",
    "plt.show()"
   ]
  },
  {
   "cell_type": "markdown",
   "metadata": {
    "slideshow": {
     "slide_type": "slide"
    }
   },
   "source": [
    "**Na, Na, Na, Na, Na, Na, Na, Na, Na, Na, Na, Na, Na, Na, Na, ...**"
   ]
  },
  {
   "cell_type": "code",
   "execution_count": null,
   "metadata": {
    "slideshow": {
     "slide_type": "subslide"
    }
   },
   "outputs": [],
   "source": [
    "fig, ax = plt.subplots(figsize=(8,6), dpi=120)\n",
    "\n",
    "x1 = frange(-8, 8, 200)\n",
    "y1 = [4*math.sqrt(-(x/8)**2 + 1) for x in x1]\n",
    "y2 = [-4*math.sqrt(-(x/8)**2 + 1) for x in x1]\n",
    "ax.fill_between(x1, y1, y2, color='gold')\n",
    "ax.plot(x1, y1, c='black', lw=3)\n",
    "ax.plot(x1, y2, c='black', lw=3)\n",
    "\n",
    "x3 = frange(-7, -3, 100)\n",
    "y3= [3*math.sqrt(-(x/7)**2 + 1) for x in x3]\n",
    "x4 = frange(3, 7, 100)\n",
    "y4 = [3*math.sqrt(-(x/7)**2 + 1) for x in x4]\n",
    "ax.fill_between(x3, y3, y2=0, color='black')\n",
    "ax.fill_between(x4, y4, y2=0, color='black')\n",
    "\n",
    "x5 = frange(-7, -4, 100)\n",
    "y5 = [-3*math.sqrt(-(x/7)**2 + 1) for x in x5]\n",
    "x6 = frange(4, 7, 100)\n",
    "y6 = [-3*math.sqrt(-(x/7)**2 + 1) for x in x6]\n",
    "ax.fill_between(x5, y5, y2=0, color='black')\n",
    "ax.fill_between(x6, y6, y2=0, color='black')\n",
    "\n",
    "x7 = frange(-4, 4, 200)\n",
    "y7 = [abs(x/2) - (3*math.sqrt(33) - 7)/112*x**2 + math.sqrt(1 - (abs(abs(x) - 2) - 1)**2) - 3 for x in x7]\n",
    "ax.fill_between(x7, y7, y2=0, color='black')\n",
    "\n",
    "x8 = frange(-1, -0.75, 10)\n",
    "x9 = frange(0.75, 1, 10)\n",
    "y8 = [9 - 8*abs(x) for x in x8]\n",
    "y9 = [9 - 8*abs(x) for x in x9]\n",
    "ax.fill_between(x8, y8, y2=0, color='black')\n",
    "ax.fill_between(x9, y9, y2=0, color='black')\n",
    "\n",
    "x10 = frange(-0.75, -0.5, 10)\n",
    "x10.extend(frange(0.5, 0.75, 10))\n",
    "y10 = [0.75 + 3*abs(x) for x in x10]\n",
    "ax.fill_between(x10, y10, y2=0, color='black')\n",
    "\n",
    "x11 = frange(-3, -1, 100)\n",
    "y11 = [1.5 + 0.5*x - 6*math.sqrt(10)/14*(math.sqrt(3 - x**2 - 2*x) - 2) for x in x11]\n",
    "x12 = frange(1, 3, 100)\n",
    "y12 = [1.5 - 0.5*x - 6*math.sqrt(10)/14*(math.sqrt(3 - x**2 + 2*x) - 2) for x in x12]\n",
    "ax.fill_between(x11, y11, y2=0, color='black')\n",
    "ax.fill_between(x12, y12, y2=0, color='black')\n",
    "\n",
    "ax.axis([-9, 9, -5, 5])\n",
    "ax.tick_params(axis='both', which='both', bottom=False, left=False, labelbottom=False, labelleft=False)\n",
    "ax.set_facecolor('black')\n",
    "\n",
    "plt.show()"
   ]
  },
  {
   "cell_type": "markdown",
   "metadata": {
    "slideshow": {
     "slide_type": "slide"
    }
   },
   "source": [
    "**Wrap it up**\n",
    "\n",
    "Click on the **Save** button and then the **Close and halt** button when you are done before closing the tab."
   ]
  }
 ],
 "metadata": {
  "kernelspec": {
   "display_name": "Python 3 (ipykernel)",
   "language": "python",
   "name": "python3"
  },
  "language_info": {
   "codemirror_mode": {
    "name": "ipython",
    "version": 3
   },
   "file_extension": ".py",
   "mimetype": "text/x-python",
   "name": "python",
   "nbconvert_exporter": "python",
   "pygments_lexer": "ipython3",
   "version": "3.9.15"
  },
  "varInspector": {
   "cols": {
    "lenName": 16,
    "lenType": 16,
    "lenVar": 40
   },
   "kernels_config": {
    "python": {
     "delete_cmd_postfix": "",
     "delete_cmd_prefix": "del ",
     "library": "var_list.py",
     "varRefreshCmd": "print(var_dic_list())"
    },
    "r": {
     "delete_cmd_postfix": ") ",
     "delete_cmd_prefix": "rm(",
     "library": "var_list.r",
     "varRefreshCmd": "cat(var_dic_list()) "
    }
   },
   "types_to_exclude": [
    "module",
    "function",
    "builtin_function_or_method",
    "instance",
    "_Feature"
   ],
   "window_display": false
  }
 },
 "nbformat": 4,
 "nbformat_minor": 4
}
