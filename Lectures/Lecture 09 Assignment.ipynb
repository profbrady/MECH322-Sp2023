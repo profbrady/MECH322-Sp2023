{
 "cells": [
  {
   "cell_type": "markdown",
   "metadata": {
    "slideshow": {
     "slide_type": "slide"
    }
   },
   "source": [
    "# Lecture 09\n",
    "## CircuitPython\n",
    "___"
   ]
  },
  {
   "cell_type": "markdown",
   "metadata": {
    "slideshow": {
     "slide_type": "slide"
    }
   },
   "source": [
    "**Instructions for Running *CircuitPython* code on the CPB**\n",
    "\n",
    "- Download the *Mu Editor* (or similar *CircuitPython* aware editor)\n",
    "- Connect a CPB to your computer then start *Mu*\n",
    "- Write/save scripts to `code.py` on the CPB (replacing any existing code)\n",
    "  - Saving will automatically cause the board to restart\n",
    "  - `code.py` will automatically run after each restart"
   ]
  },
  {
   "cell_type": "markdown",
   "metadata": {
    "slideshow": {
     "slide_type": "slide"
    }
   },
   "source": [
    "***Mu* features**\n",
    "\n",
    "- *Serial* button opens a command line (REPL)\n",
    "- Click in the REPL\n",
    "  - CTRL-C interrupts execution\n",
    "  - CTRL-D restarts execution\n",
    "- Printed output displays in the REPL\n",
    "- Input commands receive input from the REPL"
   ]
  },
  {
   "cell_type": "markdown",
   "metadata": {
    "slideshow": {
     "slide_type": "slide"
    }
   },
   "source": [
    "**Common *CircuitPython* Modules**\n",
    "\n",
    "- Nearly everything that you have already learned about *Python* can be used when programming in *CircuitPython*\n",
    "- What’s new is the addition of special modules for interacting with external devices\n",
    "- You need to import these modules in order to... \n",
    "  - Turn on/off lights, motors, etc. \n",
    "  - Read the input from buttons and sensors"
   ]
  },
  {
   "cell_type": "markdown",
   "metadata": {
    "slideshow": {
     "slide_type": "slide"
    }
   },
   "source": [
    "- At the top of *CircuitPython* scripts, you may need to add one or more of the following imports\n",
    "  ```\n",
    "  import board        # access to board pin names\n",
    "  import time         # time functions\n",
    "  import digitalio    # on/off inputs/outputs\n",
    "  import analogio     # variable inputs/outputs\n",
    "  import pulseio      # pulsed inputs/outputs\n",
    "  import pwmio        # pulse width modulation outputs\n",
    "  import simpleio     # miscellaneous input/output support\n",
    "  import neopixel     # access to multicolored LEDs\n",
    "  import random       # random numbers\n",
    "  ```"
   ]
  },
  {
   "cell_type": "markdown",
   "metadata": {
    "slideshow": {
     "slide_type": "slide"
    }
   },
   "source": [
    "- The CPB has an additional, very powerful module that can be used\n",
    "  - It allows easy interaction with the many built-in devices and sensors\n",
    "  - `from adafruit_circuitplayground import cp`\n",
    "  - When using `cp` you generally don't need to use `digitalio`, `analogio`, and `neopixel`"
   ]
  },
  {
   "cell_type": "markdown",
   "metadata": {
    "slideshow": {
     "slide_type": "slide"
    }
   },
   "source": [
    "***CircuitPython* Libraries to Install**\n",
    "\n",
    "- You will need to install a number of libraries to the CPB board\n",
    "- Download and unzip the latest CircuitPython libraries from https://circuitpython.org/libraries\n",
    "- Drag (or copy) each from the downloaded `lib` folder to the `lib` folder on the CPB\n",
    "  - Some are folders\n",
    "  - Some are individual files (have the `.mpy` extension)"
   ]
  },
  {
   "cell_type": "markdown",
   "metadata": {
    "slideshow": {
     "slide_type": "slide"
    }
   },
   "source": [
    "The libraries are...\n",
    "\n",
    "adafruit_ble, adafruit_bluefruit_connect, adafruit_bus_device, adafruit_character_lcd, adafruit_circuitplayground, adafruit_debouncer.mpy, adafruit_displayio_ssd1306.mpy, adafruit_display_shapes, adafruit_display_text, adafruit_hid, adafruit_lis3dh.mpy, adafruit_motor, adafruit_register, adafruit_ssd1306.mpy, adafruit_thermistor.mpy, adafruit_waveform, neopixel.mpy, simpleio.mpy"
   ]
  },
  {
   "cell_type": "markdown",
   "metadata": {
    "slideshow": {
     "slide_type": "slide"
    }
   },
   "source": [
    "**The `board` Module**\n",
    "\n",
    "- The `board` module provides access to the board pin and interface names\n",
    "- For instance...\n",
    "  - `board.D0` refers to digital input/output (I/O) pin `0`\n",
    "  - `board.A0` refers to analog input pin `0`\n",
    "- Most of the pins/pads can be referred to by various names\n",
    "- Assign descriptive variable names to board-level names, such as `button_pin = board.D0`\n",
    "- With the device connected, use `dir(board)` from the REPL to see the supported `board` pins"
   ]
  },
  {
   "cell_type": "markdown",
   "metadata": {
    "slideshow": {
     "slide_type": "slide"
    }
   },
   "source": [
    "![adafruit_products_CPB_Front.jpg](adafruit_products_CPB_Front.jpg)"
   ]
  },
  {
   "cell_type": "markdown",
   "metadata": {
    "slideshow": {
     "slide_type": "slide"
    }
   },
   "source": [
    "Most of the pads around the perimeter of the CPB are associated with more than one item from the `board` list.\n",
    "\n",
    "- **AUDIO (D12 or SPEAKER)**: digital I/O and PWM out\n",
    "- **A1 (D6)**: analog input, digital I/O, PWM out, and capacitive touch\n",
    "- **A2 (D9)**: analog input, digital I/O, PWM out, and capacitive touch\n",
    "- **A3 (D10)**: analog input, digital I/O, PWM out, and capacitive touch\n",
    "- **A4 (D3)**: analog input, digital I/O, PWM out, and capacitive touch\n",
    "- **A5 (D2)**: analog input, digital I/O, PWM out, and capacitive touch\n",
    "- **A6 (RX or D0)**: analog input, digital I/O, PWM out, and capacitive touch\n",
    "- **TX (D1)**: analog input, digital I/O, PWM out, and capacitive touch"
   ]
  },
  {
   "cell_type": "markdown",
   "metadata": {
    "slideshow": {
     "slide_type": "slide"
    }
   },
   "source": [
    "The built-in devices are also generally associated with more than one `board` item.\n",
    "\n",
    "- **L (D13)**: red LED\n",
    "- **BUTTON_A (D4)**: momentary push button\n",
    "- **BUTTON_B (D5)**: momentary push button\n",
    "- **SLIDE_SWITCH (D7)**: \"on/off\" slider\n",
    "- **NEOPIXEL (D8)**: 10 multi-color LEDs\n",
    "- **LIGHT (A8)**: light sensor\n",
    "- **TEMPERATURE (A9)**: temperature sensor"
   ]
  },
  {
   "cell_type": "markdown",
   "metadata": {
    "slideshow": {
     "slide_type": "slide"
    }
   },
   "source": [
    "**The `time` Module**\n",
    "\n",
    "The `time` module contains two often-used time-related functions\n",
    "\n",
    "- `time.sleep()`\n",
    "- `time.monotonic()`"
   ]
  },
  {
   "cell_type": "markdown",
   "metadata": {
    "slideshow": {
     "slide_type": "subslide"
    }
   },
   "source": [
    "`time.sleep()`\n",
    "- Requires an argument in seconds and causes the processor to pause for that amount of time\n",
    "- Outputs that were turned on before a `sleep` command will remain on while the processor is \"sleeping\"\n",
    "- Example: `time.sleep(0.5)` will cause the processor to pause (sleep) for 0.5 seconds\n",
    "- **Note:** No other commands execute while the processor sleeps"
   ]
  },
  {
   "cell_type": "markdown",
   "metadata": {
    "slideshow": {
     "slide_type": "subslide"
    }
   },
   "source": [
    "`time.monotonic()`\n",
    "- Does not accept any arguments\n",
    "- Returns the time in seconds (a float) since the last processor reset\n",
    "- The values `time.monotonic()` returns continue to get larger until a processor reset/restart\n",
    "- The CPB does not keep a real clock time/date\n",
    "- Allows timing between events by comparing the value of `time.monotonic()` at one point in a script versus another\n",
    "- Using `time.monotonic()` instead of `time.sleep()` will allow the processor to keep doing work instead of totally pausing"
   ]
  },
  {
   "cell_type": "markdown",
   "metadata": {
    "slideshow": {
     "slide_type": "subslide"
    }
   },
   "source": [
    "**Using `time.monotonic()`**\n",
    "\n",
    "- Save the current clock time to a variable; `old_time` in this example\n",
    "- Turn on an LED by setting its value to `True`\n",
    "- Check `time.monotonic()` each pass through a `while` loop to see if at least 3 seconds have elapsed since `old_time` was set\n",
    "- If 3 seconds have passed, the LED is changed to the opposite state and `time_old` is set to the new `time.monotonic()` value\n",
    "- This code will create a blinking LED circuit where the LED blinks every 3 seconds without using `time.sleep()`"
   ]
  },
  {
   "cell_type": "code",
   "execution_count": null,
   "metadata": {
    "slideshow": {
     "slide_type": "subslide"
    }
   },
   "outputs": [],
   "source": [
    "time_old = time.monotonic()\n",
    "LED1.value = True\n",
    "while True:\n",
    "  if time.monotonic() >= time_old + 3:     # at least 3 seconds has elapsed\n",
    "      LED1.value = not LED1.value\n",
    "      time_old = time.monotonic()          # reset `time_old` to the clock time"
   ]
  },
  {
   "cell_type": "markdown",
   "metadata": {
    "slideshow": {
     "slide_type": "slide"
    }
   },
   "source": [
    "**The `digitalio` Module**\n",
    "\n",
    "- The `digitalio` module is used for interacting with on/off style inputs and outputs, like...\n",
    "  - Simple push buttons or toggle switches (inputs)\n",
    "  - LED lights or fixed speed motors (outputs)\n",
    "- `digitalio.DigitalInOut()` initializes a pin to be used for digital (on/off) I/O"
   ]
  },
  {
   "cell_type": "markdown",
   "metadata": {
    "slideshow": {
     "slide_type": "subslide"
    }
   },
   "source": [
    "The following sequence of commands sets up `board.D0` as a digital input named `button1`\n",
    "- All digital I/O pins default to the `INPUT` state when initialized\n",
    "- The second line in each of the following is not necessarily required when a pin/pad is used as a digital input"
   ]
  },
  {
   "cell_type": "code",
   "execution_count": null,
   "metadata": {
    "slideshow": {
     "slide_type": "-"
    }
   },
   "outputs": [],
   "source": [
    "# option 1\n",
    "button1 = digitalio.DigitalInOut(board.D0)\n",
    "button1.direction = digitalio.Direction.INPUT"
   ]
  },
  {
   "cell_type": "code",
   "execution_count": null,
   "metadata": {
    "slideshow": {
     "slide_type": "-"
    }
   },
   "outputs": [],
   "source": [
    "# option 2\n",
    "button1 = digitalio.DigitalInOut(board.D0)\n",
    "button1.switch_to_input()"
   ]
  },
  {
   "cell_type": "markdown",
   "metadata": {
    "slideshow": {
     "slide_type": "subslide"
    }
   },
   "source": [
    "The following code initializes `board.D13` as a digital output named `LED1`\n",
    "- On the CPB `board.D13` is assigned to an on-board red LED\n",
    "- Initializing a pin as an output **always** requires setting a direction\n",
    "- The example code illustrates two ways to set the direction"
   ]
  },
  {
   "cell_type": "code",
   "execution_count": null,
   "metadata": {
    "slideshow": {
     "slide_type": "-"
    }
   },
   "outputs": [],
   "source": [
    "# option 1\n",
    "LED1 = digitalio.DigitalInOut(board.D13)\n",
    "LED1.direction = digitalio.Direction.OUTPUT"
   ]
  },
  {
   "cell_type": "code",
   "execution_count": null,
   "metadata": {
    "slideshow": {
     "slide_type": "-"
    }
   },
   "outputs": [],
   "source": [
    "# option 2\n",
    "LED1 = digitalio.DigitalInOut(board.D13)\n",
    "LED1.switch_to_output()"
   ]
  },
  {
   "cell_type": "markdown",
   "metadata": {
    "slideshow": {
     "slide_type": "slide"
    }
   },
   "source": [
    "External circuits with buttons/switches or LEDs almost always need to incorporate resistors\n",
    "- When used with LEDs, resistors keep the LEDs from burning out due to too much current\n",
    "- With buttons/switches, resistors \"anchor\" the voltage when the button is not activated\n",
    "- Such resistors are called pull-up or pull-down resistors"
   ]
  },
  {
   "cell_type": "markdown",
   "metadata": {
    "slideshow": {
     "slide_type": "subslide"
    }
   },
   "source": [
    "- Pull-down resistors anchor the signal to low voltage (0 V or `False`) when not actuated\n",
    "- Pull-up resistors anchor the signal to high voltage (3.3 V or `True`) when not actuated\n",
    "- For the built-in buttons and slide switch these resistors are included, but need to be activated\n",
    "    - The buttons use pull-down resistors, i.e their values are `False` when not pressed\n",
    "    - The slide switch uses a pull-up resistor; setting the value to `True` when not switched"
   ]
  },
  {
   "cell_type": "code",
   "execution_count": null,
   "metadata": {
    "slideshow": {
     "slide_type": "subslide"
    }
   },
   "outputs": [],
   "source": [
    "# button_a will be False when not pressed and True when pressed\n",
    "button_a = digitalio.DigitalInOut(board.BUTTON_A)\n",
    "button_a.switch_to_input(pull=digitalio.Pull.DOWN)"
   ]
  },
  {
   "cell_type": "code",
   "execution_count": null,
   "metadata": {
    "slideshow": {
     "slide_type": "-"
    }
   },
   "outputs": [],
   "source": [
    "# slider will be False when slid right and True when slid left\n",
    "slider = digitalio.DigitalInOut(board.SLIDE_SWITCH)\n",
    "slider.switch_to_input(pull=digitalio.Pull.UP)"
   ]
  },
  {
   "cell_type": "markdown",
   "metadata": {
    "slideshow": {
     "slide_type": "slide"
    }
   },
   "source": [
    "Reading the state of digital inputs, such as `button_a`, is done with the `.value` method\n",
    "- For example, `button_a.value` results in...\n",
    "  - `True` (pressed based on the previous code)\n",
    "  - `False` (not pressed based on the previous code)\n",
    "- Getting the `.value` is typically done as part of an `if` statement (as shown below)\n",
    "- `True` could mean either pressed or not pressed depending upon wiring (see information on pull up/down resistors)"
   ]
  },
  {
   "cell_type": "markdown",
   "metadata": {
    "slideshow": {
     "slide_type": "subslide"
    }
   },
   "source": [
    "Set the state of a digital output using `.value`\n",
    "- For example, set the `LED1` to either on or off by setting its value to `True` or `False`\n",
    "  - `LED1.value = True` will turn the LED on\n",
    "  - `LED1.value = False` will turn the LED off\n",
    "- The following code will turn on `LED1` any time `button_a` is `True`"
   ]
  },
  {
   "cell_type": "code",
   "execution_count": null,
   "metadata": {
    "slideshow": {
     "slide_type": "subslide"
    }
   },
   "outputs": [],
   "source": [
    "if button_a.value:      # same as button_a.value == True\n",
    "    LED1.value = True\n",
    "else:\n",
    "    LED1.value = False"
   ]
  },
  {
   "cell_type": "markdown",
   "metadata": {
    "slideshow": {
     "slide_type": "subslide"
    }
   },
   "source": [
    "- A more *Pythonic* method to do the same thing as above is shown below\n",
    "  - The state of `LED1` is set the same as the state of `button_a`\n",
    "  - Any time `button_a.value` is `True` then `LED.value` will also be `True`\n",
    "  - Notice that no `if` or `else` statements are needed"
   ]
  },
  {
   "cell_type": "code",
   "execution_count": null,
   "metadata": {},
   "outputs": [],
   "source": [
    "LED1.value = button_a.value"
   ]
  },
  {
   "cell_type": "markdown",
   "metadata": {
    "slideshow": {
     "slide_type": "slide"
    }
   },
   "source": [
    "Reference: [CircuitPython Basics: Digital Inputs & Outputs](https://learn.adafruit.com/circuitpython-digital-inputs-and-outputs)"
   ]
  },
  {
   "cell_type": "markdown",
   "metadata": {
    "slideshow": {
     "slide_type": "slide"
    }
   },
   "source": [
    "**More on Resistors with Buttons**\n",
    "- Whether a switch is `True` or `False` when pressed or not depends upon how it is wired\n",
    "- Pull-up resistor with `button1`\n",
    "  - One leg is connected to the input pin with an external resistor also connected from that leg to 3.3 V\n",
    "  - Other leg is connected to ground\n",
    "  - When not-pressed, the voltage is pulled-up to 3.3 V and `button1.value` is `True`\n",
    "  - When pressed, `button1.value` is `False`"
   ]
  },
  {
   "cell_type": "markdown",
   "metadata": {
    "slideshow": {
     "slide_type": "subslide"
    }
   },
   "source": [
    "The CPB includes internal resistors at each digital pin\n",
    "- When using an internal resistor, **do not** wire an external resistor\n",
    "- If using the internal resistor, one leg of the switch is wired to the digital pin and the other leg to ground\n",
    "- After setting the pin direction to input in the code, use code like one of the following...\n",
    "  - `button1.pull = digitalio.Pull.UP`\n",
    "  - `button1.switch_to_input(pull=digitalio.Pull.UP)`"
   ]
  },
  {
   "cell_type": "markdown",
   "metadata": {
    "slideshow": {
     "slide_type": "subslide"
    }
   },
   "source": [
    "- Using the internal resistors with switches (push buttons) requires...\n",
    "  - A little bit more coding\n",
    "  - A little less wiring\n",
    "- Regardless of which methodology is chosen, be careful to not blend them together"
   ]
  },
  {
   "cell_type": "markdown",
   "metadata": {
    "slideshow": {
     "slide_type": "slide"
    }
   },
   "source": [
    "**Example: Blink the red LED**\n",
    "\n",
    "Use `digitalio` to blink the red LED (`board.D13` or `board.L`) on the CPB.\n",
    "\n",
    "Replace all code in `code.py` on the CPB with the code from the following cell and make sure it works.\n",
    "\n",
    "*Quick quiz*: What does the `while True:` statement do?\n",
    "\n",
    "Change the rate at which the LED blinks to 3 seconds. Add a `print()` statement to display the status of the LED as \"On\" or \"Off\" to the REPL.\n"
   ]
  },
  {
   "cell_type": "code",
   "execution_count": null,
   "metadata": {
    "slideshow": {
     "slide_type": "subslide"
    }
   },
   "outputs": [],
   "source": [
    "# Blinking LED\n",
    "# Use the Serial button in Mu to print the light status as\n",
    "# \"On\" or \"Off\". Change the rate of blinking to 3 seconds.\n",
    "\n",
    "import board\n",
    "import digitalio\n",
    "import time\n",
    "\n",
    "LED = digitalio.DigitalInOut(board.D13)\n",
    "LED.switch_to_output()\n",
    "\n",
    "LED.value = False  # turn the LED \"Off\" to start\n",
    "\n",
    "while True:\n",
    "    LED.value = not LED.value    # alternate the LED value between True and False\n",
    "    time.sleep(1.0)"
   ]
  },
  {
   "cell_type": "markdown",
   "metadata": {
    "slideshow": {
     "slide_type": "slide"
    }
   },
   "source": [
    "**Example: Turn light on and off with the slider switch**\n",
    "\n",
    "Fix the `digitalio` definitions to use the appropriate names from `board` for `slider` and `red_LED`. Add a single statement inside the loop to turn `red_LED` on and off with `slider`."
   ]
  },
  {
   "cell_type": "code",
   "execution_count": null,
   "metadata": {
    "slideshow": {
     "slide_type": "-"
    }
   },
   "outputs": [],
   "source": [
    "import board\n",
    "import digitalio\n",
    "\n",
    "slider = digitalio.DigitalInOut()   # finish this definition\n",
    "slider.switch_to_input(pull=digitalio.Pull.UP)\n",
    "\n",
    "red_LED = digitalio.DigitalInOut()  # finish this definition\n",
    "red_LED.direction = digitalio.Direction.OUTPUT\n",
    "\n",
    "while True:\n",
    "    # add statement here"
   ]
  },
  {
   "cell_type": "markdown",
   "metadata": {
    "slideshow": {
     "slide_type": "slide"
    }
   },
   "source": [
    "**The `analogio` Module**\n",
    "\n",
    "- Commands and functions in the `analogio` module are typically used to read variable signals from analog devices like...\n",
    "  - Potentiometers\n",
    "  - Temperature sensors\n",
    "  - Light sensors\n",
    "  - Flex sensors\n",
    "- The voltage readings from these types of sensors often vary linearly between a low and high"
   ]
  },
  {
   "cell_type": "markdown",
   "metadata": {
    "slideshow": {
     "slide_type": "subslide"
    }
   },
   "source": [
    "The CPB boards have 3.3 V inputs/outputs\n",
    "- The board converts analog inputs into numeric values for use in a script\n",
    "- Adafruit boards divide the low to high voltage signals into 16-bits values\n",
    "  - 0 V equates to a numeric value of `0`\n",
    "  - 3.3 V equates to a numeric value of `65535` $(2^{16}-1)$\n",
    "- All analog pins in `board` start with the letter `A`\n",
    "- The CPB includes six analog pins/pads; `board.A1` through `board.A6`"
   ]
  },
  {
   "cell_type": "markdown",
   "metadata": {
    "slideshow": {
     "slide_type": "subslide"
    }
   },
   "source": [
    "Initialize `board.A1` as an analog input and read its value like the following"
   ]
  },
  {
   "cell_type": "code",
   "execution_count": null,
   "metadata": {
    "slideshow": {
     "slide_type": "-"
    }
   },
   "outputs": [],
   "source": [
    "light_sensor = analogio.AnalogIn(board.A1)\n",
    "light_sensor.value"
   ]
  },
  {
   "cell_type": "markdown",
   "metadata": {
    "slideshow": {
     "slide_type": "subslide"
    }
   },
   "source": [
    "- The `.reference_voltage` analog input attribute can be used to check the reference voltage level (usually 3.3 V)\n",
    "- The following code from Adafruit could be used to convert an input reading to an associated voltage"
   ]
  },
  {
   "cell_type": "code",
   "execution_count": null,
   "metadata": {
    "slideshow": {
     "slide_type": "-"
    }
   },
   "outputs": [],
   "source": [
    "light_sensor.value / 65535 * light_sensor.reference_voltage"
   ]
  },
  {
   "cell_type": "markdown",
   "metadata": {
    "slideshow": {
     "slide_type": "subslide"
    }
   },
   "source": [
    "The CPB does not have a true analog output pin (pad)\n",
    "- It is replaced by `AUDIO` to provide for audio output to either the internal speaker or an external device\n",
    "- Some other Adafruit boards have one or more true analog output (often `A0`)\n",
    "- Analog outputs can be set to values between 0 and 65535 (0 to 3.3 V)\n",
    "- The following code illustrates the initialization for an analog pin and setting a value"
   ]
  },
  {
   "cell_type": "code",
   "execution_count": null,
   "metadata": {},
   "outputs": [],
   "source": [
    "var_LED = analogio.AnalogOut(board.A0)\n",
    "var_LED.value = 50000   # about 76.3% of full voltage"
   ]
  },
  {
   "cell_type": "markdown",
   "metadata": {
    "slideshow": {
     "slide_type": "slide"
    }
   },
   "source": [
    "Reference: [CircuitPython Basics: Analog Inputs & Outputs](https://learn.adafruit.com/circuitpython-basics-analog-inputs-and-outputs)"
   ]
  },
  {
   "cell_type": "markdown",
   "metadata": {
    "slideshow": {
     "slide_type": "slide"
    }
   },
   "source": [
    "**Example: Use `analogio` to read the value of the light sensor**\n",
    "\n",
    "Import and use the `analogio` module to read the value of the light sensor and print it to the REPL. Add an expression so that the value is only read every 2 seconds."
   ]
  },
  {
   "cell_type": "code",
   "execution_count": null,
   "metadata": {},
   "outputs": [],
   "source": [
    "import time\n",
    "import analogio\n",
    "\n",
    "light_sensor = analogio.AnalogIn()   # finish this definition\n",
    "\n",
    "while True:\n",
    "    # finish the expression below to assign the sensor value to a variable\n",
    "    light_value = \n",
    "    print(\"The light level is {}\".format(light_value))\n",
    "    # add code below so the light level is only read and printed every 2 seconds\n",
    "    "
   ]
  },
  {
   "cell_type": "markdown",
   "metadata": {
    "slideshow": {
     "slide_type": "slide"
    }
   },
   "source": [
    "**The `pwmio` Module**\n",
    "\n",
    "- All of the digital I/O pins on the CPB can be configured to act kind of like analog outputs\n",
    "- This is done using a technique called **Pulse Width Modulation (PWM)**\n",
    "- PWM acts like an analog output by pulsing the output between high and low at a particular frequency\n",
    "- It gives the appearance of a variable output value\n",
    "- This works well with devices like...\n",
    "  - LEDs\n",
    "  - Hobby motors\n",
    "  - Servos"
   ]
  },
  {
   "cell_type": "markdown",
   "metadata": {
    "slideshow": {
     "slide_type": "subslide"
    }
   },
   "source": [
    "- The `pwmio` module is used when dealing with PWM outputs\n",
    "- Example\n",
    "  - `D6` is initialized as a PWM output\n",
    "  - Output value is set using the `.duty_cycle` attribute\n",
    "  - Duty cycle values must be integers from `0` (off) to `65535` (fully on)"
   ]
  },
  {
   "cell_type": "code",
   "execution_count": null,
   "metadata": {
    "slideshow": {
     "slide_type": "-"
    }
   },
   "outputs": [],
   "source": [
    "motor_pin = board.D6\n",
    "motor = pwmio.PWMOut(motor_pin)\n",
    "motor.duty_cycle = 42500"
   ]
  },
  {
   "cell_type": "markdown",
   "metadata": {
    "slideshow": {
     "slide_type": "subslide"
    }
   },
   "source": [
    "- The following code snippet sets the duty cycle as a percentage of full on\n",
    "- The example is setting the value to 66%"
   ]
  },
  {
   "cell_type": "code",
   "execution_count": null,
   "metadata": {
    "slideshow": {
     "slide_type": "-"
    }
   },
   "outputs": [],
   "source": [
    "percentage = 66\n",
    "motor.duty_cycle = int(percentage / 100 * 65535)"
   ]
  },
  {
   "cell_type": "markdown",
   "metadata": {
    "slideshow": {
     "slide_type": "slide"
    }
   },
   "source": [
    "**Example: Increase/decrease the red LED brightness using `pwmio.PWMOut`**\n",
    "\n",
    "Use the following code to brighten the red LED from off to fully on. Add a second loop to dim it from fully on to off."
   ]
  },
  {
   "cell_type": "code",
   "execution_count": null,
   "metadata": {},
   "outputs": [],
   "source": [
    "import time\n",
    "import pwmio\n",
    "\n",
    "red_LED = pwmio.PWMOut()    # complete this definition\n",
    "red_LED.duty_cycle = 0      # start with the light off\n",
    "\n",
    "while True:\n",
    "    # brighten the light from low to high\n",
    "    for intensity in range(0, 65536, 64):\n",
    "        # set the duty cycle of the red LED to `intensity`\n",
    "        \n",
    "        time.sleep(0.005)\n",
    "    # add a second loop that fades the light from high to low\n",
    "    \n",
    "    "
   ]
  },
  {
   "cell_type": "markdown",
   "metadata": {
    "slideshow": {
     "slide_type": "slide"
    }
   },
   "source": [
    "**The `simpleio` Module**\n",
    "\n",
    "The `simpleio` module provides for a number of specialized helper commands/functions, including...\n",
    "- `tone()`\n",
    "- `map_range()`\n",
    "- `DigitalOut()`\n",
    "- `DigitalIn()`"
   ]
  },
  {
   "cell_type": "markdown",
   "metadata": {
    "slideshow": {
     "slide_type": "subslide"
    }
   },
   "source": [
    "**`tone()`**\n",
    "- The `tone(pin, frequency, duration)` function will generate a tone to play via a PWM output\n",
    "- The frequency argument is in hertz and the duration is in seconds\n",
    "- The duration argument is optional; if not used it defaults to 1 second"
   ]
  },
  {
   "cell_type": "markdown",
   "metadata": {
    "slideshow": {
     "slide_type": "subslide"
    }
   },
   "source": [
    "**`map_range()`**\n",
    "- The `map_range(x, in_min, in_max, out_min, out_max)` function scales `x` from one range to another\n",
    "- For example, `map_range(5000, 0, 65535, 0, 768)` scales the value `5000`...\n",
    "    - From a of range of `0` to `65535` to a new range of `0` to `768`\n",
    "    - The return value in this example will be about `58`\n",
    "    - This is helpful when input devices use a different low-high range than output devices"
   ]
  },
  {
   "cell_type": "markdown",
   "metadata": {
    "slideshow": {
     "slide_type": "subslide"
    }
   },
   "source": [
    "**`DigitalOut()` and `DigitalIn()`**\n",
    "- Duplicate functionality from the `digitalio` module\n",
    "- They simplify the initialization of digital inputs and outputs\n",
    "- Example code snippet shown below"
   ]
  },
  {
   "cell_type": "code",
   "execution_count": null,
   "metadata": {
    "slideshow": {
     "slide_type": "-"
    }
   },
   "outputs": [],
   "source": [
    "LED2 = simpleio.DigitalOut(board.D3)\n",
    "Button2 = simpleio.DigitalIn(board.D4)\n",
    "LED2.value = False\n",
    "Button2.value"
   ]
  },
  {
   "cell_type": "markdown",
   "metadata": {
    "slideshow": {
     "slide_type": "slide"
    }
   },
   "source": [
    "**Example: Use `map_range` from `simpleio` to scale a light level value**\n",
    "\n",
    "Scale the light level value from the built-in light sensor from a range of 0-62000 to an integer range of 0-10. Print both the raw and scaled values every 1 second to the REPL."
   ]
  },
  {
   "cell_type": "code",
   "execution_count": null,
   "metadata": {},
   "outputs": [],
   "source": [
    "import board\n",
    "import time\n",
    "import simpleio\n",
    "import analogio\n",
    "\n",
    "light_level = analogio.AnalogIn(board.LIGHT)\n",
    "\n",
    "while True:\n",
    "    # Read, scale, and print the light level every second"
   ]
  },
  {
   "cell_type": "markdown",
   "metadata": {
    "slideshow": {
     "slide_type": "slide"
    }
   },
   "source": [
    "**The `random` Module**\n",
    "\n",
    "- The `random` module is used to generate pseudo-random numbers for... \n",
    "  - Script testing\n",
    "  - Game play\n",
    "  - Other purposes\n",
    "- The included functions work like the *Python* random number generation functions previously used"
   ]
  },
  {
   "cell_type": "markdown",
   "metadata": {
    "slideshow": {
     "slide_type": "subslide"
    }
   },
   "source": [
    "The available `random` functions include\n",
    "- `random.random(x)`: float between 0 and 1.0, not including 1.0\n",
    "- `random.randrange(stop)`: integer between 0 and `stop`, not including stop\n",
    "- `random.randrange(start, stop, step)`: integer between `start` and `stop`, not including stop, with the interval `step`\n",
    "- `random.randint(start, stop)`: integer between `start` and `stop`, inclusive\n",
    "- `random.choice(x)`: random item from sequence `x`"
   ]
  },
  {
   "cell_type": "markdown",
   "metadata": {
    "slideshow": {
     "slide_type": "slide"
    }
   },
   "source": [
    "**The `displayio` Module**\n",
    "\n",
    "The `displayio` and some of its related the modules (`terminalio`, `adafruit_display_text`, and `adafruit_displayio_ssd1306`) can be used to send text (and images and shapes) to external displays. The MECH 322 course kits include an Adafruit 0.91 inch 128x32 pixels monochrome OLED display that communicates with the CPB (or other *CircuitPython* boards) via the $I^2C$ protocol. Also included in the kit are cables with a Stemma QT connector on one end for connecting to the display and banana clips on the other end for connecting to I2C on the CPB. The wires are color-coded; red = 3.3V, black = ground, blue = SDA, and yellow = SCL."
   ]
  },
  {
   "cell_type": "markdown",
   "metadata": {
    "slideshow": {
     "slide_type": "subslide"
    }
   },
   "source": [
    "A fair amount of code is needed to setup, initialize, and update the display with *CircuitPython*. Below is annotated code that sends three lines of text to the display. The third line updates each time through the `while True` loop. The general steps that are needed when using the display board are:"
   ]
  },
  {
   "cell_type": "markdown",
   "metadata": {
    "slideshow": {
     "slide_type": "subslide"
    }
   },
   "source": [
    "1. Import the required modules\n",
    "2. Release all existing connected displays\n",
    "3. Use `displayio.I2CDisplay()` to initialize and name the hardware connection\n",
    "    - Named `display_bus` in the sample code\n",
    "    - `board.I2C()` is the connection type\n",
    "    - `device_address=0x3c` for our display"
   ]
  },
  {
   "cell_type": "markdown",
   "metadata": {
    "slideshow": {
     "slide_type": "subslide"
    }
   },
   "source": [
    "4. Create and name a display object using `adafruit_displayio_ssd1306.SSD1306()`\n",
    "    - Named `display` in the sample code\n",
    "    - Use the hardware connection named `display_bus`\n",
    "    - Set `width=128` and `height=32`\n",
    "5. Set the font to be used for text"
   ]
  },
  {
   "cell_type": "markdown",
   "metadata": {
    "slideshow": {
     "slide_type": "subslide"
    }
   },
   "source": [
    "6. Create `adafruit_display_text.label.Label` objects for each line of text\n",
    "    - Named `text_line` in the sample code\n",
    "    - The sample code uses a list with three objects; one for each line of text\n",
    "    - Using `terminalio.FONT` yields 21 characters per line with the sample code settings"
   ]
  },
  {
   "cell_type": "markdown",
   "metadata": {
    "slideshow": {
     "slide_type": "subslide"
    }
   },
   "source": [
    "7. Create and name a `displayio.Group` into which the text objects are placed\n",
    "    - Named `text_display` in the sample code\n",
    "    - The sample is located at the upper left corner of the display (0,0)\n",
    "\n",
    "8. Use `display.show()` to push the `displayio.Group` object to the physical display"
   ]
  },
  {
   "cell_type": "markdown",
   "metadata": {
    "slideshow": {
     "slide_type": "subslide"
    }
   },
   "source": [
    "9. Update the text in each `adafruit_display_text` object using the `.text` property\n",
    "    - `text_display[0].text = \"Hello\"`\n",
    "    - Will display `Hello` to the first line of the display used in the sample code\n",
    "10. Use string functions and objects to create your your desired display text"
   ]
  },
  {
   "cell_type": "markdown",
   "metadata": {
    "slideshow": {
     "slide_type": "subslide"
    }
   },
   "source": [
    "Steps 1-8 are needed for any script that uses the display board from the kit. The sample code for display initialization can be copied and pasted into your `code.py` script. Those lines are essentially all of the lines before `while True:` except the `time.sleep()` command. Only the starting text needs to be changed. It is okay to initially fill with blanks, i.e. `\" \"*21`. You can also change the number of items in `text_line` and the x and y start values for only one or two lines of text if required."
   ]
  },
  {
   "cell_type": "code",
   "execution_count": null,
   "metadata": {
    "slideshow": {
     "slide_type": "subslide"
    }
   },
   "outputs": [],
   "source": [
    "\"\"\"\n",
    "stemma qt to alligator clips\n",
    "red:    3.3V\n",
    "black:  GND\n",
    "blue:   SDA\n",
    "yellow: SCL\n",
    "\"\"\"\n",
    "\n",
    "# import all modules needed for using the oled display\n",
    "import board\n",
    "import time\n",
    "import displayio\n",
    "import terminalio\n",
    "import adafruit_displayio_ssd1306\n",
    "from adafruit_display_text import label\n",
    "\n",
    "# release all existing displays (otherwise errors on restart)\n",
    "displayio.release_displays()\n",
    "\n",
    "#### configure display hardware ####\n",
    "# uses I2C with a specific address (on back of board)\n",
    "display_bus = displayio.I2CDisplay(board.I2C(), device_address=0x3c)\n",
    "# there is a specific module for our display board series\n",
    "display = adafruit_displayio_ssd1306.SSD1306(display_bus, width=128, height=32)\n",
    "\n",
    "#### configure text display ####\n",
    "# assign font from terminalio\n",
    "font = terminalio.FONT\n",
    "\n",
    "# create 3 text 'adafruit_display_text.label' objects in a list\n",
    "# font is 8 pixels high and display is 32 pixels high\n",
    "# each line of text is initialized with 21 blank characters\n",
    "# maximum number of characters with the terminalio font is 21\n",
    "text_line = [\n",
    "    label.Label(font=font, text=' ' * 21, color=(255, 255, 255), x=2, y=3),\n",
    "    label.Label(font=font, text=' ' * 21, color=(255, 255, 255), x=2, y=13),\n",
    "    label.Label(font=font, text=' ' * 21, color=(255, 255, 255), x=2, y=25)\n",
    "]\n",
    "\n",
    "# The following lines can be used to set the point on a text line that is used\n",
    "# for referencing its position.\n",
    "# (0, 0) is the upper left corner, (0.5, 0.0) is the center/top of the text\n",
    "# The anchored_position may have to be adjusted to place the text precisely\n",
    "\n",
    "# text_line[0].anchor_point = (0.5, 0.0)\n",
    "# text_line[0].anchored_position = (64, 3)\n",
    "\n",
    "# create a 'displayio.Group' object named 'text_display' object\n",
    "# to hold the 3 lines of text\n",
    "# starts at the upper, left corner of the screen (0, 0)\n",
    "text_display = displayio.Group(x=0, y=0)\n",
    "\n",
    "# show the 'text_display' group\n",
    "display.show(text_display)\n",
    "\n",
    "# initialize 3 lines of text and append them to the group object\n",
    "# 20 characters maximum for each line\n",
    "line = [\" Hello, Brian Brady!\", \"-\" * 21, \"CircuitPy for the win\"]\n",
    "for i in range(3):\n",
    "    text_line[i].text = line[i]\n",
    "    text_display.append(text_line[i])\n",
    "\n",
    "time.sleep(2)\n",
    "\n",
    "while True:\n",
    "    # change the text on a line by the updating its '.text' property\n",
    "    # the following line clears it\n",
    "    text_line[2].text = ''\n",
    "    # loop through 20 iterations\n",
    "    for i in range(20):\n",
    "        # this option will display 12345678901234567890\n",
    "        # on the bottom line adding one digit per iteration\n",
    "        # text_line[2].text += str((i+1) % 10)\n",
    "\n",
    "        # this option will display a * that moves across the\n",
    "        # screen one character space per iteration\n",
    "        # text_line[2].text = \" \"*i + \"*\"\n",
    "\n",
    "        # this option will display *'s across the screen on\n",
    "        # the bottom line that equal the iteration value + 1\n",
    "        text_line[2].text = \"*\" * (i + 1)\n",
    "        time.sleep(0.5)"
   ]
  },
  {
   "cell_type": "markdown",
   "metadata": {
    "slideshow": {
     "slide_type": "slide"
    }
   },
   "source": [
    "**The `adafruit_circuitplayground` Helper Module for CPB**\n",
    "\n",
    "- Adafruit created a helper module specifically for the Circuit Playground series of boards\n",
    "- The CPB is the newest and fastest of this series\n",
    "- `adafruit_circuitplayground` makes it much easier to access and use the built-in devices\n",
    "- Requires specific modules be installed and available in the `lib` folder\n",
    "- The `adafruit_circuitplayground` module requires more drive space and memory\n",
    "- The CPB board has more than enough resources for this to not be an issue"
   ]
  },
  {
   "cell_type": "markdown",
   "metadata": {
    "slideshow": {
     "slide_type": "slide"
    }
   },
   "source": [
    "**Required Modules in the `lib` Folder**\n",
    "\n",
    "- The `adafruit_circuitplayground` module performs the following imports to perform its tasks\n",
    "- However, you will not not be able to directly access these modules in your code unless you explicitly import them yourself\n",
    "- They are only local to the `adafruit_circuitplayground` functions"
   ]
  },
  {
   "cell_type": "raw",
   "metadata": {
    "slideshow": {
     "slide_type": "subslide"
    }
   },
   "source": [
    "import math\n",
    "import array\n",
    "import time\n",
    "try:\n",
    "    import audiocore\n",
    "except ImportError:\n",
    "    import audioio as audiocore\n",
    "import adafruit_lis3dh\n",
    "import adafruit_thermistor\n",
    "import analogio\n",
    "import board\n",
    "import busio\n",
    "import digitalio\n",
    "import neopixel\n",
    "import touchio\n",
    "import gamepad\n",
    "import audiopwmio\n",
    "import audiobusio\n"
   ]
  },
  {
   "cell_type": "markdown",
   "metadata": {
    "slideshow": {
     "slide_type": "subslide"
    }
   },
   "source": [
    "- Of the above modules, only the following are not part of the standard *CircuitPython* library\n",
    "- They will need to be installed in the `lib` folder of `CIRCUITPY`\n",
    "\n",
    "  - `adafruit_bus_device`\n",
    "  - `adafruit_lis3dh.mpy`\n",
    "  - `adafruit_thermistor.mpy`\n",
    "  - `neopixel.mpy`"
   ]
  },
  {
   "cell_type": "markdown",
   "metadata": {
    "slideshow": {
     "slide_type": "subslide"
    }
   },
   "source": [
    "**Importing the `adafruit_circuitplayground` Module**\n",
    "\n",
    "Use the following command to import this module for use on the CPB\n",
    "\n",
    "``` \n",
    "from adafruit_circuitplayground import cp\n",
    "```"
   ]
  },
  {
   "cell_type": "markdown",
   "metadata": {},
   "source": [
    "**Available `cp.` Commands**\n",
    "\n",
    "- Following are most of the commands available after importing `adafruit_circuitplayground`\n",
    "- All of the commands need to start with `cp.` to access the commands from the imported module"
   ]
  },
  {
   "cell_type": "markdown",
   "metadata": {
    "slideshow": {
     "slide_type": "slide"
    }
   },
   "source": [
    "**Buttons, Switch, and Red LED**\n",
    "\n",
    "- `cp.button_a` returns the value of `board.BUTTON_A` (pressed is `True`)\n",
    "- `cp.button_b` returns the value of `board.BUTTON_B` (pressed is `True`)\n",
    "- `cp.were_pressed` returns a set containing which buttons have been pressed since the last request\n",
    "- `cp.switch` returns the value of `board.SLIDE_SWITCH` (left is `True`)\n",
    "- `cp.red_led` sets the value of the red LED, i.e. `cp.red_led = True`"
   ]
  },
  {
   "cell_type": "markdown",
   "metadata": {
    "slideshow": {
     "slide_type": "slide"
    }
   },
   "source": [
    "***NeoPixels***\n",
    "\n",
    "`cp.pixels` works with the 10 multi-colored `board.NEOPIXEL` LEDs\n",
    "- `cp.pixels.n` returns the number of NeoPixels\n",
    "- `cp.pixels.auto_write`\n",
    "  - If `False`, then `cp.pixels.show()` is required to make changes active\n",
    "  - If `True` (which is the default), changes become active immediately\n",
    "- `cp.pixels.show()` will activate any color/brightness changes when `cp.pixels.auto_write = False`\n"
   ]
  },
  {
   "cell_type": "markdown",
   "metadata": {
    "slideshow": {
     "slide_type": "subslide"
    }
   },
   "source": [
    "- `cp.pixels.brightness`\n",
    "  - `cp.pixels.brightness = 0` is off\n",
    "  - `cp.pixels.brightness = 1` is the brightest\n",
    "  - `cp.pixels.brightness = 0.3` is 30% brightness"
   ]
  },
  {
   "cell_type": "markdown",
   "metadata": {
    "slideshow": {
     "slide_type": "subslide"
    }
   },
   "source": [
    "- `cp.pixels[n] = (R, G, B)` sets the color of NeoPixel `n`\n",
    "  - The color is a tuple containing red, green, and blue values\n",
    "  - Values for each color range from 0 to 255\n",
    "- `cp.pixels[m:n] = (R, G, B)*(n-m)` sets the color of `m` thru `n-1`\n",
    "- `cp.pixels[:n] = (R, G, B)*n` sets the color of the first `n` pixels\n",
    "- `cp.pixels[-m:] = (R, G, B)*m` sets the color of the last `m` pixels\n",
    "- `cp.pixels[n]` returns the current color values for NeoPixel `n`\n",
    "- `cp.pixels.fill((R, G, B))` sets the colors of all NeoPixels"
   ]
  },
  {
   "cell_type": "markdown",
   "metadata": {
    "slideshow": {
     "slide_type": "subslide"
    }
   },
   "source": [
    "**Example: using a loop to turn on only one NeoPixel at a time from 0 thru 9 with all others turned off**"
   ]
  },
  {
   "cell_type": "code",
   "execution_count": null,
   "metadata": {
    "slideshow": {
     "slide_type": "-"
    }
   },
   "outputs": [],
   "source": [
    "cp.pixels.auto_write = False\n",
    "COLOR = (0, 255, 0)\n",
    "OFF = (0, 0, 0)\n",
    "for i in range(10):\n",
    "    cp.pixels.fill(OFF)\n",
    "    cp.pixels[i] = COLOR\n",
    "    cp.pixels.show()\n",
    "    time.sleep(0.5)"
   ]
  },
  {
   "cell_type": "markdown",
   "metadata": {
    "slideshow": {
     "slide_type": "subslide"
    }
   },
   "source": [
    "**Example: using slicing to gradually turn on all pixels**"
   ]
  },
  {
   "cell_type": "code",
   "execution_count": null,
   "metadata": {
    "slideshow": {
     "slide_type": "-"
    }
   },
   "outputs": [],
   "source": [
    "cp.pixels.auto_write = True\n",
    "COLOR = (0, 255, 0)\n",
    "OFF = (0, 0, 0)\n",
    "cp.pixels.fill(OFF)\n",
    "for i in range(1, 11):\n",
    "    cp.pixels[:i] = COLOR * i\n",
    "    time.sleep(0.5)"
   ]
  },
  {
   "cell_type": "markdown",
   "metadata": {
    "slideshow": {
     "slide_type": "slide"
    }
   },
   "source": [
    "**Accelerometer**\n",
    "\n",
    "- `cp.acceleration` returns the x, y, and z acceleration values as a tuple\n",
    "  - Example, `x, y, z = cp.acceleration`\n",
    "  - `cp.acceleration.x` returns just the acceleration in the x-direction\n",
    "  - `cp.acceleration.y` returns just the acceleration in the y-direction\n",
    "  - `cp.acceleration.z` returns just the acceleration in the z-direction\n",
    "- `cp.tapped` returns `True` if a single (or double) tap has been detected after `cp.detect_taps = 1` (or `2`) has been set\n",
    "- `cp.shake(shake_threshold)` returns `True` if a shake that exceeds the threshold argument is detected"
   ]
  },
  {
   "cell_type": "markdown",
   "metadata": {
    "slideshow": {
     "slide_type": "slide"
    }
   },
   "source": [
    "**Light, Temperature, and Touch**\n",
    "\n",
    "- `cp.light` returns the light sensor value (values range from about 0 to 320)\n",
    "- `cp.temperature` returns the value of the temperature sensor in degrees C\n",
    "- `cp.touch_A1` returns `True` if capacative touch pad `A1` is touched (can be used with `A1`-`A6` and `TX`)"
   ]
  },
  {
   "cell_type": "markdown",
   "metadata": {
    "slideshow": {
     "slide_type": "slide"
    }
   },
   "source": [
    "**Light, Temperature, and Touch, and Sound**\n",
    "\n",
    "- `cp.light` returns the light sensor value (values range from about 0 to 320)\n",
    "- `cp.temperature` returns the value of the temperature sensor in degrees C\n",
    "- `cp.play_tone(frequency, duration)` plays a tone to the speaker for a specific duration (seconds)\n",
    "  - Middle C is 262 Hz\n",
    "  - A above middle C is 440 Hz\n",
    "- `cp.start_tone(frequency)` starts playing a tone to the speaker\n",
    "- `cp.stop_tone()` stops any currently playing tone\n",
    "- `cp.touch_A1` returns `True` if capacative touch pad `A1` is touched (can be used with `A1`-`A6` and `TX`)\n",
    "- `cp.play_file(\"sample.wav\")` plays the file \"samle.wav\" to the speaker (must be a small, 22Khz (or lower), 16 bit PCM, mono  .wav file)\n",
    "- `cp.loud_sound(threshold)` returns `True` if a sound above the threshold (default is 200) was detected\n",
    "- `cp.sound_level` returns a float of the existing sound level"
   ]
  },
  {
   "cell_type": "markdown",
   "metadata": {
    "slideshow": {
     "slide_type": "slide"
    }
   },
   "source": [
    "**Example: Blink the red LED using the `cp` module**\n",
    "\n",
    " Copy the previously used code and modify it to use the appropriate commands from the `adafruit_circuitplayground` module (i.e. `cp`) to blink the red LED."
   ]
  },
  {
   "cell_type": "code",
   "execution_count": null,
   "metadata": {},
   "outputs": [],
   "source": []
  },
  {
   "cell_type": "markdown",
   "metadata": {
    "slideshow": {
     "slide_type": "slide"
    }
   },
   "source": [
    "**Example: Play a note on the speaker when a touch pad is touched**\n",
    "\n",
    "Use `cp.start_tone()` and `cp.stop_tone()` to play a 440 Hz note on the speaker whenever `cp.touch_A4` is touched."
   ]
  },
  {
   "cell_type": "code",
   "execution_count": null,
   "metadata": {},
   "outputs": [],
   "source": [
    "from adafruit_circuitplayground import cp\n",
    "\n",
    "while True:\n",
    "    # add a condition to the if statement and code for both cases\n",
    "    if :\n",
    "        \n",
    "    else:\n",
    "        "
   ]
  },
  {
   "cell_type": "markdown",
   "metadata": {
    "slideshow": {
     "slide_type": "slide"
    }
   },
   "source": [
    "**Example: Read the light level**\n",
    "\n",
    "Use `cp.light` to simply read the light level every second and print the results to the REPL as a tuple. Show the plotter in *Mu* to see the results graphically."
   ]
  },
  {
   "cell_type": "code",
   "execution_count": null,
   "metadata": {},
   "outputs": [],
   "source": [
    "from adafruit_circuitplayground import cp\n",
    "import time\n",
    "\n",
    "while True:\n",
    "    continue # replace this line"
   ]
  },
  {
   "cell_type": "markdown",
   "metadata": {
    "slideshow": {
     "slide_type": "slide"
    }
   },
   "source": [
    "**Example: Read and plot the acceleration values**\n",
    "\n",
    "Use `cp.acceleration` to read the acceleration in all 3 directions and assign the values to the variables `x`, `y`, and `z`. Print the variables as a tuple every second and show the plotter in *Mu* to see the results graphically."
   ]
  },
  {
   "cell_type": "code",
   "execution_count": null,
   "metadata": {
    "slideshow": {
     "slide_type": "-"
    }
   },
   "outputs": [],
   "source": [
    "from adafruit_circuitplayground import cp\n",
    "import time\n",
    "\n",
    "while True:\n",
    "    # Put code here for reading accelerometer and printing it every second"
   ]
  },
  {
   "cell_type": "markdown",
   "metadata": {
    "slideshow": {
     "slide_type": "slide"
    }
   },
   "source": [
    "**Just for fun**\n",
    "\n",
    "Replace `code.py` on the CPB with the following code. Notice the use of a dictionary."
   ]
  },
  {
   "cell_type": "code",
   "execution_count": null,
   "metadata": {
    "slideshow": {
     "slide_type": "subslide"
    }
   },
   "outputs": [],
   "source": [
    "# CPB Buzzer Music\n",
    "# for CPB internal speaker\n",
    "# verified\n",
    "\n",
    "from adafruit_circuitplayground.bluefruit import cp\n",
    "import time\n",
    "\n",
    "\n",
    "tempo = 70/1000\n",
    "\n",
    "beats = [2, 2, 2, 2, 4, 1, 6, 8, 1, 2, 2, 2, 2, \n",
    "         4, 1, 6, 6, 1, 2, 4, 2, 2, 2, 2, 6, 4, \n",
    "         6, 2, 6, 4, 6, 8, 4, 2, 2, 2, 2, 4, 6, \n",
    "         10, 2, 2, 2, 2, 6, 4, 6, 2, 4, 2, 2, 2, \n",
    "         2, 6, 4, 6, 2, 6, 4, 6, 8]\n",
    "\n",
    "notes = ['c', 'd', 'f', 'd', 'a', ' ','a', 'g', ' ', \n",
    "         'c', 'd', 'f', 'd', 'g', ' ', 'g', 'f', ' ', \n",
    "         'e', 'd', 'c', 'd', 'f', 'd', 'f', 'g', 'e', \n",
    "         'd', 'c', 'c', 'g', 'f', ' ','c', 'd', 'f', \n",
    "         'd', 'a', 'a', 'g', 'c', 'd', 'f', 'd', 'C', \n",
    "         'e','f', 'e', 'd', 'c', 'd', 'f', 'd', 'f', \n",
    "         'g', 'e', 'd','c', 'c', 'g', 'f']\n",
    "\n",
    "names = [\"c\",\"d\",\"e\",\"f\",\"g\",\"a\",\"b\",\"C\"]\n",
    "frequencies = [262,294,330,349,392,440,494,523]\n",
    "frequency = dict(zip(names, frequencies))\n",
    "\n",
    "songLength = len(beats)\n",
    "\n",
    "print()\n",
    "print('You have been...\\n')\n",
    "\n",
    "\n",
    "for note, beat in zip(notes, beats):\n",
    "    print(note, end=\" \")\n",
    "    duration = beat*tempo\n",
    "    if note == \" \":\n",
    "        time.sleep(duration)\n",
    "    else:\n",
    "        cp.play_tone(frequency[note], duration)\n",
    "\n",
    "print('\\n')\n",
    "print(chr(82)+chr(73)+chr(67)+chr(75),end=\" \")\n",
    "print(chr(82)+chr(79)+chr(76)+chr(76)+chr(69)+chr(68))"
   ]
  },
  {
   "cell_type": "markdown",
   "metadata": {
    "slideshow": {
     "slide_type": "slide"
    }
   },
   "source": [
    "**Wrap it up**\n",
    "\n",
    "Click on the **Save** button and then **Close and halt** from the **File** menu when you are done before closing the tab."
   ]
  }
 ],
 "metadata": {
  "kernelspec": {
   "display_name": "Python 3 (ipykernel)",
   "language": "python",
   "name": "python3"
  },
  "language_info": {
   "codemirror_mode": {
    "name": "ipython",
    "version": 3
   },
   "file_extension": ".py",
   "mimetype": "text/x-python",
   "name": "python",
   "nbconvert_exporter": "python",
   "pygments_lexer": "ipython3",
   "version": "3.9.15"
  },
  "nteract": {
   "version": "0.21.0"
  },
  "varInspector": {
   "cols": {
    "lenName": 16,
    "lenType": 16,
    "lenVar": 40
   },
   "kernels_config": {
    "python": {
     "delete_cmd_postfix": "",
     "delete_cmd_prefix": "del ",
     "library": "var_list.py",
     "varRefreshCmd": "print(var_dic_list())"
    },
    "r": {
     "delete_cmd_postfix": ") ",
     "delete_cmd_prefix": "rm(",
     "library": "var_list.r",
     "varRefreshCmd": "cat(var_dic_list()) "
    }
   },
   "types_to_exclude": [
    "module",
    "function",
    "builtin_function_or_method",
    "instance",
    "_Feature"
   ],
   "window_display": false
  }
 },
 "nbformat": 4,
 "nbformat_minor": 4
}
