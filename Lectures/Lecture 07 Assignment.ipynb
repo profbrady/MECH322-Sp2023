{
 "cells": [
  {
   "cell_type": "markdown",
   "metadata": {
    "slideshow": {
     "slide_type": "slide"
    }
   },
   "source": [
    "# Lecture 7 Assignment\n",
    "## Dictionaries and Files\n",
    "___"
   ]
  },
  {
   "cell_type": "markdown",
   "metadata": {
    "slideshow": {
     "slide_type": "slide"
    }
   },
   "source": [
    "**Review creating lists**\n",
    "\n",
    "Create a list with 4 strings named `string_list` and print it. Also, create a tuple with 4 numeric values named `num_tuple` and print it."
   ]
  },
  {
   "cell_type": "code",
   "execution_count": null,
   "metadata": {},
   "outputs": [],
   "source": []
  },
  {
   "cell_type": "markdown",
   "metadata": {
    "slideshow": {
     "slide_type": "slide"
    }
   },
   "source": [
    "- Lists and tuples hold (or contain) objects so are sometimes referred to as containers\n",
    "- You can also call them collections since they can hold a collection of objects\n",
    "- Another useful data type that is also a container or collection is the **dictionary**"
   ]
  },
  {
   "cell_type": "markdown",
   "metadata": {
    "slideshow": {
     "slide_type": "slide"
    }
   },
   "source": [
    "**Create an empty dictionary**\n",
    "\n",
    "Create the empty dictionary `MECH_classes` and then add the key-value pair `'MECH 111':'MET Seminar'` to it. Print the dictionary when done."
   ]
  },
  {
   "cell_type": "code",
   "execution_count": null,
   "metadata": {},
   "outputs": [],
   "source": []
  },
  {
   "cell_type": "markdown",
   "metadata": {
    "slideshow": {
     "slide_type": "slide"
    }
   },
   "source": [
    "**Create a dictionary using curly braces and one key-value pair**\n",
    "\n",
    "Create `MECH_classes` dictionary again using the direct method with a key-value pair inside of curly braces and then print it."
   ]
  },
  {
   "cell_type": "code",
   "execution_count": null,
   "metadata": {},
   "outputs": [],
   "source": []
  },
  {
   "cell_type": "markdown",
   "metadata": {
    "slideshow": {
     "slide_type": "slide"
    }
   },
   "source": [
    "**Create a dictionary using `dict()`**\n",
    "\n",
    "Use the `dict()` function to create and then print the same dictionary with the classes MECH 111 and MECH 122."
   ]
  },
  {
   "cell_type": "code",
   "execution_count": null,
   "metadata": {},
   "outputs": [],
   "source": []
  },
  {
   "cell_type": "markdown",
   "metadata": {
    "slideshow": {
     "slide_type": "slide"
    }
   },
   "source": [
    "**Create a dictionary from lists and/or tuples**\n",
    "\n",
    "You can use one list or tuple that contains your desired keys and another that contains the matching values and zip them together inside a call to `dict()`. Use `string_list` and `num_tuple` to create and print the dictionary named `my_dict`."
   ]
  },
  {
   "cell_type": "code",
   "execution_count": null,
   "metadata": {},
   "outputs": [],
   "source": []
  },
  {
   "cell_type": "markdown",
   "metadata": {
    "slideshow": {
     "slide_type": "slide"
    }
   },
   "source": [
    "**Simple string keys**\n",
    "\n",
    "If you have simple string keys (no spaces), you can create a dictionary using keyword arguments like the following code cell."
   ]
  },
  {
   "cell_type": "code",
   "execution_count": null,
   "metadata": {},
   "outputs": [],
   "source": [
    "MECH_faculty = dict(Brady='JOH 422',\n",
    "        Hollenbeck='JOH 410',\n",
    "        Stein='JOH 407',\n",
    "        Wiltshire='JOH 409')\n",
    "print(MECH_faculty)"
   ]
  },
  {
   "cell_type": "markdown",
   "metadata": {
    "slideshow": {
     "slide_type": "slide"
    }
   },
   "source": [
    "**Non-string keys**\n",
    "\n",
    "Not all dictionaries need to use strings as keys. The following dictionary definition is a valid one even though the keys are not all the same type. Execute it to be sure."
   ]
  },
  {
   "cell_type": "code",
   "execution_count": null,
   "metadata": {
    "slideshow": {
     "slide_type": "subslide"
    }
   },
   "outputs": [],
   "source": [
    "import math\n",
    "my_dict = {\n",
    "    1: 'one',\n",
    "    2: 'two',\n",
    "    math.e: 'e',\n",
    "    3: 'three',\n",
    "    'pi': math.pi,\n",
    "    4: 'four',\n",
    "    5: 'five',\n",
    "    6: 'scared',\n",
    "    7: 'ate nine',\n",
    "    8: 'eight',\n",
    "    9: None\n",
    "}\n",
    "print(my_dict)"
   ]
  },
  {
   "cell_type": "markdown",
   "metadata": {
    "slideshow": {
     "slide_type": "slide"
    }
   },
   "source": [
    "**Material property dictionary**\n",
    "\n",
    "Execute the code cell below to create a small material property dictionary. This dictionary uses lists for the material properties (just the USCS and SI yield strengths in ksi and MPa at this time). You would need to know which list index is associated with each property to use the values in this dictionary."
   ]
  },
  {
   "cell_type": "code",
   "execution_count": null,
   "metadata": {},
   "outputs": [],
   "source": [
    "material = {\"Steel ASTM-A36\":[36, 250],\n",
    "           \"Aluminum 2104-T6\":[60, 410],\n",
    "           \"Bronze cold-rolled\":[75, 772],\n",
    "           \"Nickel Alloy\":[60, 414]}"
   ]
  },
  {
   "cell_type": "markdown",
   "metadata": {
    "slideshow": {
     "slide_type": "slide"
    }
   },
   "source": [
    "**Morse code dictionary**\n",
    "\n",
    "Execute the code cell below to define the function `string_to_morse(string)`. In the second cell call the function with the string of your choice (no exclamation points)."
   ]
  },
  {
   "cell_type": "code",
   "execution_count": null,
   "metadata": {
    "slideshow": {
     "slide_type": "subslide"
    }
   },
   "outputs": [],
   "source": [
    "def string_to_morse(string):\n",
    "    to_morse = {'A':'.-', 'B':'-...',\n",
    "            'C':'-.-.', 'D':'-..', 'E':'.',\n",
    "            'F':'..-.', 'G':'--.', 'H':'....',\n",
    "            'I':'..', 'J':'.---', 'K':'-.-',\n",
    "            'L':'.-..', 'M':'--', 'N':'-.',\n",
    "            'O':'---', 'P':'.--.', 'Q':'--.-',\n",
    "            'R':'.-.', 'S':'...', 'T':'-',\n",
    "            'U':'..-', 'V':'...-', 'W':'.--',\n",
    "            'X':'-..-', 'Y':'-.--', 'Z':'--..',\n",
    "            '1':'.----', '2':'..---', '3':'...--',\n",
    "            '4':'....-', '5':'.....', '6':'-....',\n",
    "            '7':'--...', '8':'---..', '9':'----.',\n",
    "            '0':'-----', ',':'--..--', '.':'.-.-.-',\n",
    "            '?':'..--..', '/':'-..-.', '-':'-....-',\n",
    "            '(':'-.--.', ')':'-.--.-'}\n",
    "    test_string = string.upper()\n",
    "    morse_string = \"\"\n",
    "    for character in test_string:\n",
    "        morse_string += to_morse.get(character, \" \") + \" \"\n",
    "    return morse_string"
   ]
  },
  {
   "cell_type": "code",
   "execution_count": null,
   "metadata": {},
   "outputs": [],
   "source": [
    "# test the function"
   ]
  },
  {
   "cell_type": "markdown",
   "metadata": {
    "slideshow": {
     "slide_type": "slide"
    }
   },
   "source": [
    "**Accessing dictionary values**\n",
    "\n",
    "Access Mr. Stein's office location from `MECH_faculty` and print it. In a separate code cell try to access Mr. Brady by using `MECH_faculty[0]`."
   ]
  },
  {
   "cell_type": "code",
   "execution_count": null,
   "metadata": {},
   "outputs": [],
   "source": []
  },
  {
   "cell_type": "code",
   "execution_count": null,
   "metadata": {},
   "outputs": [],
   "source": []
  },
  {
   "cell_type": "markdown",
   "metadata": {
    "slideshow": {
     "slide_type": "slide"
    }
   },
   "source": [
    "Access the properties for \"Nickel Alloy\" from the `material` dictionary."
   ]
  },
  {
   "cell_type": "code",
   "execution_count": null,
   "metadata": {},
   "outputs": [],
   "source": []
  },
  {
   "cell_type": "markdown",
   "metadata": {
    "slideshow": {
     "slide_type": "slide"
    }
   },
   "source": [
    "Access the USCS yield strength for Aluminum 2014-T6 from the `material` dictionary."
   ]
  },
  {
   "cell_type": "code",
   "execution_count": null,
   "metadata": {},
   "outputs": [],
   "source": []
  },
  {
   "cell_type": "markdown",
   "metadata": {
    "slideshow": {
     "slide_type": "slide"
    }
   },
   "source": [
    "Try accessing \"MECH 499\" from the `MECH_classes` dictionary."
   ]
  },
  {
   "cell_type": "code",
   "execution_count": null,
   "metadata": {},
   "outputs": [],
   "source": []
  },
  {
   "cell_type": "markdown",
   "metadata": {
    "slideshow": {
     "slide_type": "slide"
    }
   },
   "source": [
    "Test if `\"Stainless Steel\"` is a valid key in the `material` dictionary."
   ]
  },
  {
   "cell_type": "code",
   "execution_count": null,
   "metadata": {},
   "outputs": [],
   "source": []
  },
  {
   "cell_type": "markdown",
   "metadata": {
    "slideshow": {
     "slide_type": "slide"
    }
   },
   "source": [
    "Determine how many key-value pairs there are in the dictionary `material`."
   ]
  },
  {
   "cell_type": "code",
   "execution_count": null,
   "metadata": {},
   "outputs": [],
   "source": []
  },
  {
   "cell_type": "markdown",
   "metadata": {
    "slideshow": {
     "slide_type": "slide"
    }
   },
   "source": [
    "**Adding to an existing dictionary**\n",
    "\n",
    "Add MECH 211 to `MECH_classes` and change the class name of MECH 122. Print the dictionary after making these changes."
   ]
  },
  {
   "cell_type": "code",
   "execution_count": null,
   "metadata": {},
   "outputs": [],
   "source": []
  },
  {
   "cell_type": "code",
   "execution_count": null,
   "metadata": {},
   "outputs": [],
   "source": []
  },
  {
   "cell_type": "markdown",
   "metadata": {
    "slideshow": {
     "slide_type": "slide"
    }
   },
   "source": [
    "**Nesting dictionaries**\n",
    "\n",
    "Execute the following code cell to create the dictionary `material_2`. Print the dictionary and then access the USCS ultimate strength for nickel alloy."
   ]
  },
  {
   "cell_type": "code",
   "execution_count": null,
   "metadata": {},
   "outputs": [],
   "source": [
    "material_2 = {\"Steel ASTM-A36\":{\"yield strength\":{\"uscs\":36, \"si\":250}, \n",
    "                                \"ultimate strength\":{\"uscs\":60, \"si\":400}},\n",
    "           \"Aluminum 2104-T6\":{\"yield strength\":{\"uscs\":60, \"si\":410}, \n",
    "                               \"ultimate strength\":{\"uscs\":70, \"si\":480}},\n",
    "           \"Bronze cold-rolled\":{\"yield strength\":{\"uscs\":75, \"si\":772}, \n",
    "                                 \"ultimate strength\":{\"uscs\":100, \"si\":515}},\n",
    "           \"Nickel Alloy\":{\"yield strength\":{\"uscs\":60, \"si\":414}, \n",
    "                           \"ultimate strength\":{\"uscs\":80, \"si\":552}}}"
   ]
  },
  {
   "cell_type": "code",
   "execution_count": null,
   "metadata": {},
   "outputs": [],
   "source": [
    "# print it"
   ]
  },
  {
   "cell_type": "code",
   "execution_count": null,
   "metadata": {},
   "outputs": [],
   "source": [
    "# USCS ultimate strength for nickel alloy"
   ]
  },
  {
   "cell_type": "markdown",
   "metadata": {
    "slideshow": {
     "slide_type": "slide"
    }
   },
   "source": [
    "**Display dictionary methods**"
   ]
  },
  {
   "cell_type": "code",
   "execution_count": null,
   "metadata": {},
   "outputs": [],
   "source": [
    "print([n for n in list(dir(dict)) if \"__\" not in n])"
   ]
  },
  {
   "cell_type": "markdown",
   "metadata": {
    "slideshow": {
     "slide_type": "slide"
    }
   },
   "source": [
    "**Using dictionary methods**\n",
    "\n",
    "Use the appropriate dictionary methods to perform the following tasks using the `MECH_classes` dictionary\n",
    "\n",
    "- Show all of the key-value pairs as tuples using the `dict.items()` method\n",
    "- Show just the keys using the `dict.keys()` method\n",
    "- Show just the values using the `dict.values()` method\n",
    "- Add \"MECH 212\", \"MECH 222\", and \"MECH 223\" with values of `None` for each (this will require using two methods, `dict.update()` and `dict.fromkeys()` in a single expression)\n",
    "\n",
    "Print `MECH_classes` when you are done"
   ]
  },
  {
   "cell_type": "code",
   "execution_count": null,
   "metadata": {
    "slideshow": {
     "slide_type": "slide"
    }
   },
   "outputs": [],
   "source": [
    "# all key-value pairs as tuples\n"
   ]
  },
  {
   "cell_type": "code",
   "execution_count": null,
   "metadata": {},
   "outputs": [],
   "source": [
    "# just the keys\n"
   ]
  },
  {
   "cell_type": "code",
   "execution_count": null,
   "metadata": {
    "slideshow": {
     "slide_type": "slide"
    }
   },
   "outputs": [],
   "source": [
    "# just the values\n"
   ]
  },
  {
   "cell_type": "code",
   "execution_count": null,
   "metadata": {},
   "outputs": [],
   "source": [
    "# add MECH 212, MECH 222, and MECH 223 with values of None\n"
   ]
  },
  {
   "cell_type": "code",
   "execution_count": null,
   "metadata": {},
   "outputs": [],
   "source": [
    "# print MECH_classes\n"
   ]
  },
  {
   "cell_type": "markdown",
   "metadata": {
    "slideshow": {
     "slide_type": "slide"
    }
   },
   "source": [
    "**An example to count occurances of characters**\n",
    "\n",
    "A common use for a dictionary is to count the number of occurrences of characters in a string or numbers in a list. The following function definition will count the number of each different character in the string and assign the counts to a dictionary. See how it works by counting the characters in the string \"My name is Inigo Montoya, you killed by father, prepare to die!\""
   ]
  },
  {
   "cell_type": "code",
   "execution_count": null,
   "metadata": {
    "slideshow": {
     "slide_type": "slide"
    }
   },
   "outputs": [],
   "source": [
    "def count_chars(string):\n",
    "    string = string.lower()\n",
    "    count_dict = {}\n",
    "    for char in string:\n",
    "        if char in count_dict:\n",
    "            count_dict[char] += 1\n",
    "        else:\n",
    "            count_dict[char] = 1\n",
    "    return count_dict"
   ]
  },
  {
   "cell_type": "code",
   "execution_count": null,
   "metadata": {},
   "outputs": [],
   "source": [
    "# My name is Inigo Montoya, you killed by father, prepare to die!"
   ]
  },
  {
   "cell_type": "markdown",
   "metadata": {
    "slideshow": {
     "slide_type": "slide"
    }
   },
   "source": [
    "**A better version**\n",
    "\n",
    "A better version of the `count_chars(string)` function would use `count_dict[char] = count_dict.get(char, 0) + 1` instead of the `if-else` statement block. Using a default value of `0` in the `.get()` method causes it to add a key for `char` and assign it the value 0 if `char` is not already a key. Then the expression adds 1 to the value and assigns it to `char` in the dictionary. If the a key for `char` already exists, its current value is retrieved, incremented by one, and assigned back to `char` in the dictionary.\n",
    "\n",
    "Edit the function definition in the code cell below to use the expression described above. Test the function with the string \"the quick brown fox jumps over the lazy dog.\""
   ]
  },
  {
   "cell_type": "code",
   "execution_count": null,
   "metadata": {
    "slideshow": {
     "slide_type": "subslide"
    }
   },
   "outputs": [],
   "source": [
    "# Make this function better by using the .get() method instead of if-else\n",
    "def count_chars(string):\n",
    "    string = string.lower()\n",
    "    count_dict = {}\n",
    "    for char in string:\n",
    "        if char in count_dict:\n",
    "            count_dict[char] += 1\n",
    "        else:\n",
    "            count_dict[char] = 1\n",
    "    return count_dict"
   ]
  },
  {
   "cell_type": "code",
   "execution_count": null,
   "metadata": {},
   "outputs": [],
   "source": [
    "# the quick brown fox jumps over the lazy dog"
   ]
  },
  {
   "cell_type": "markdown",
   "metadata": {
    "slideshow": {
     "slide_type": "slide"
    }
   },
   "source": [
    "**Testing the above function**\n",
    "\n",
    "The string used above has at least one of each letter from the English alphabet. If you assign the function call to a variable, like `string_count`, then use `sorted(string_count)` it is fairly easy to verify this. The sorted dictionary sorts by and only shows the keys.\n",
    "\n",
    "Perform the calling and sorting as described above."
   ]
  },
  {
   "cell_type": "code",
   "execution_count": null,
   "metadata": {},
   "outputs": [],
   "source": []
  },
  {
   "cell_type": "markdown",
   "metadata": {
    "slideshow": {
     "slide_type": "slide"
    }
   },
   "source": [
    "**Converting a string to a set**\n",
    "\n",
    "Convert the string \"the quick brown fox jumps over the lazy dog\" to a set in the first code cell and assign it to the variable name `string_set`. In the next cell print both the original set and a sorted version of the set."
   ]
  },
  {
   "cell_type": "code",
   "execution_count": null,
   "metadata": {},
   "outputs": [],
   "source": [
    "\"the quick brown fox jumps over the lazy dog\""
   ]
  },
  {
   "cell_type": "code",
   "execution_count": null,
   "metadata": {},
   "outputs": [],
   "source": []
  },
  {
   "cell_type": "markdown",
   "metadata": {
    "slideshow": {
     "slide_type": "slide"
    }
   },
   "source": [
    "**Reading a text file**\n",
    "\n",
    "Type and execute the following two lines in the following code cell. Then in second code cell display `file_string`.\n",
    "\n",
    "```python\n",
    "with open(\"data file.txt\") as my_file:\n",
    "    file_string = my_file.read()\n",
    "```"
   ]
  },
  {
   "cell_type": "code",
   "execution_count": null,
   "metadata": {},
   "outputs": [],
   "source": []
  },
  {
   "cell_type": "code",
   "execution_count": null,
   "metadata": {},
   "outputs": [],
   "source": []
  },
  {
   "cell_type": "markdown",
   "metadata": {
    "slideshow": {
     "slide_type": "slide"
    }
   },
   "source": [
    "**Using `.readlines()` instead**\n",
    "\n",
    "Copy your code from above into the first code cell below and edit it so that it uses `.readlines()` instead of `.read()` and assign the results to `file_list` instead of `file_string`. Use the second code cell to display the results."
   ]
  },
  {
   "cell_type": "code",
   "execution_count": null,
   "metadata": {},
   "outputs": [],
   "source": []
  },
  {
   "cell_type": "code",
   "execution_count": null,
   "metadata": {},
   "outputs": [],
   "source": []
  },
  {
   "cell_type": "markdown",
   "metadata": {
    "slideshow": {
     "slide_type": "slide"
    }
   },
   "source": [
    "**Writing to a text file**\n",
    "\n",
    "Change the following code so that the file uses your first name (not mine) and the first string in the list uses your first name (again, not mine). Execute the code cell to create the file. In the next empty code cell write the code necessary to read your new file and put its contents into a list and print the list."
   ]
  },
  {
   "cell_type": "code",
   "execution_count": null,
   "metadata": {},
   "outputs": [],
   "source": [
    "string_list = [\"My name is Brian.\\n\", \"I work at Ferris.\"]\n",
    "with open(\"brian file.txt\", \"w\") as new_file:\n",
    "    new_file.writelines(string_list)"
   ]
  },
  {
   "cell_type": "code",
   "execution_count": null,
   "metadata": {},
   "outputs": [],
   "source": []
  },
  {
   "cell_type": "code",
   "execution_count": null,
   "metadata": {},
   "outputs": [],
   "source": []
  },
  {
   "cell_type": "markdown",
   "metadata": {
    "slideshow": {
     "slide_type": "slide"
    }
   },
   "source": [
    "**Read a csv file using `.readlines()`**\n",
    "\n",
    "Make a text file named `my_csv_file.csv` using a plain text editor that looks like the following (make sure you do not include any spaces after commas).\n",
    "\n",
    "```python\n",
    "\"x\",\"y\"\n",
    "0,0\n",
    "1,2\n",
    "3,6\n",
    "4,8\n",
    "5,10\n",
    "```\n",
    "\n",
    "Then execute the following code cell to read it and place each line into a list."
   ]
  },
  {
   "cell_type": "code",
   "execution_count": null,
   "metadata": {
    "slideshow": {
     "slide_type": "subslide"
    }
   },
   "outputs": [],
   "source": [
    "with open(\"my_csv_file.csv\", \"r\") as csv_file:\n",
    "    csv_list = csv_file.readlines()\n",
    "print(csv_list)"
   ]
  },
  {
   "cell_type": "markdown",
   "metadata": {
    "slideshow": {
     "slide_type": "slide"
    }
   },
   "source": [
    "**A good CSV example**\n",
    "\n",
    "The next code cell iterates though the list of strings that the `.readlines()` method created and strips all newline characters. It also creates a list called `headings` containing the two strings from the first line. It also splits all lines after the first at the comma, converts the strings to floats, and places the x and y values into separate lists. This is not difficult code, but not all that simple either."
   ]
  },
  {
   "cell_type": "code",
   "execution_count": null,
   "metadata": {
    "slideshow": {
     "slide_type": "subslide"
    }
   },
   "outputs": [],
   "source": [
    "x = []\n",
    "y = []\n",
    "for n, string in enumerate(csv_list):\n",
    "    new_string = string.strip(\"\\n\")\n",
    "    if n == 0:\n",
    "        new_string = new_string.strip('\"')\n",
    "        headings = new_string.split('\",\"')\n",
    "    else:\n",
    "        xy_pair = [float(n) for n in new_string.split(\",\")]\n",
    "        x.append(xy_pair[0])\n",
    "        y.append(xy_pair[1])\n",
    "\n",
    "print(headings)\n",
    "print(x)\n",
    "print(y)"
   ]
  },
  {
   "cell_type": "markdown",
   "metadata": {
    "slideshow": {
     "slide_type": "slide"
    }
   },
   "source": [
    "**Using the `csv` module instead**"
   ]
  },
  {
   "cell_type": "code",
   "execution_count": null,
   "metadata": {},
   "outputs": [],
   "source": [
    "import csv\n",
    "with open(\"my_csv_file.csv\") as csvfile:\n",
    "    csv_reader = csv.reader(csvfile, quoting=csv.QUOTE_NONNUMERIC)\n",
    "    csv_list = list(csv_reader)\n",
    "    headings = csv_list[0]\n",
    "    x = [n[0] for n in csv_list[1:]]\n",
    "    y = [n[1] for n in csv_list[1:]]\n",
    "\n",
    "print(headings)\n",
    "print(x)\n",
    "print(y)"
   ]
  },
  {
   "cell_type": "markdown",
   "metadata": {
    "slideshow": {
     "slide_type": "slide"
    }
   },
   "source": [
    "**Pandas are not just lazy bears**\n",
    "\n",
    "Execute the following code cell to import *Pandas* and create a DataFrame from our CSV file. In separate code cells create lists that contain the CSV headings, the $x$ values, and the $y$ values. Print all three lists."
   ]
  },
  {
   "cell_type": "code",
   "execution_count": null,
   "metadata": {
    "slideshow": {
     "slide_type": "slide"
    }
   },
   "outputs": [],
   "source": [
    "import pandas as pd\n",
    "csv_df = pd.read_csv(\"my_csv_file.csv\")"
   ]
  },
  {
   "cell_type": "code",
   "execution_count": null,
   "metadata": {},
   "outputs": [],
   "source": [
    "# list of the CSV headings\n"
   ]
  },
  {
   "cell_type": "code",
   "execution_count": null,
   "metadata": {},
   "outputs": [],
   "source": [
    "# list of the x values\n"
   ]
  },
  {
   "cell_type": "code",
   "execution_count": null,
   "metadata": {},
   "outputs": [],
   "source": [
    "# list of the y values\n"
   ]
  },
  {
   "cell_type": "code",
   "execution_count": null,
   "metadata": {},
   "outputs": [],
   "source": [
    "print(headings)\n",
    "print(x)\n",
    "print(y)"
   ]
  },
  {
   "cell_type": "markdown",
   "metadata": {
    "slideshow": {
     "slide_type": "slide"
    }
   },
   "source": [
    "**Wrap it up**\n",
    "\n",
    "Click on the **Save** button and then the **Close and halt** button when you are done before closing your tab."
   ]
  }
 ],
 "metadata": {
  "kernelspec": {
   "display_name": "Python 3 (ipykernel)",
   "language": "python",
   "name": "python3"
  },
  "language_info": {
   "codemirror_mode": {
    "name": "ipython",
    "version": 3
   },
   "file_extension": ".py",
   "mimetype": "text/x-python",
   "name": "python",
   "nbconvert_exporter": "python",
   "pygments_lexer": "ipython3",
   "version": "3.9.15"
  },
  "varInspector": {
   "cols": {
    "lenName": 16,
    "lenType": 16,
    "lenVar": 40
   },
   "kernels_config": {
    "python": {
     "delete_cmd_postfix": "",
     "delete_cmd_prefix": "del ",
     "library": "var_list.py",
     "varRefreshCmd": "print(var_dic_list())"
    },
    "r": {
     "delete_cmd_postfix": ") ",
     "delete_cmd_prefix": "rm(",
     "library": "var_list.r",
     "varRefreshCmd": "cat(var_dic_list()) "
    }
   },
   "types_to_exclude": [
    "module",
    "function",
    "builtin_function_or_method",
    "instance",
    "_Feature"
   ],
   "window_display": false
  },
  "vscode": {
   "interpreter": {
    "hash": "aee8b7b246df8f9039afb4144a1f6fd8d2ca17a180786b69acc140d282b71a49"
   }
  }
 },
 "nbformat": 4,
 "nbformat_minor": 4
}
