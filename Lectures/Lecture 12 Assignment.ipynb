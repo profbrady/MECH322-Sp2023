{
 "cells": [
  {
   "cell_type": "markdown",
   "metadata": {
    "slideshow": {
     "slide_type": "slide"
    }
   },
   "source": [
    "# Lecture 12 Assignment\n",
    "## *NumPy* Matrix Operations\n",
    "___"
   ]
  },
  {
   "cell_type": "code",
   "execution_count": null,
   "metadata": {
    "slideshow": {
     "slide_type": "subslide"
    }
   },
   "outputs": [],
   "source": [
    "import numpy as np"
   ]
  },
  {
   "cell_type": "markdown",
   "metadata": {
    "slideshow": {
     "slide_type": "slide"
    }
   },
   "source": [
    "**Reviewing element-by-element array operations**\n",
    "\n",
    "Create and name the following arrays and perform the math indicated.\n",
    "\n",
    "$\\displaystyle A=\n",
    "\\left[ \\begin{array}{ccc}\n",
    "1 & 4 & 3\\\\\n",
    "2 & 6 & 1\\\\\n",
    "5 & 2 & 8\\end{array} \\right]$\n",
    "$ \\qquad\\qquad\\qquad\\qquad\\displaystyle B=\n",
    "\\left[ \\begin{array}{ccc}\n",
    "5 & 3 & 8\\\\\n",
    "9 & -4 & 7\\\\\n",
    "0 & 5 & -1\\end{array} \\right]$"
   ]
  },
  {
   "cell_type": "code",
   "execution_count": null,
   "metadata": {},
   "outputs": [],
   "source": [
    "# define 'A'\n"
   ]
  },
  {
   "cell_type": "code",
   "execution_count": null,
   "metadata": {},
   "outputs": [],
   "source": [
    "# define 'B'\n"
   ]
  },
  {
   "cell_type": "markdown",
   "metadata": {
    "slideshow": {
     "slide_type": "subslide"
    }
   },
   "source": [
    "$\\displaystyle f=\n",
    "\\left[ \\begin{array}{ccc}\n",
    "1 & 4 & 7 & 10 & 13 & 16\\end{array} \\right]$\n",
    "$\\qquad\\displaystyle g=\n",
    "\\left[ \\begin{array}{ccc}\n",
    "2 & 4 & 6 & 8 & 10 & 12\\end{array} \\right]$"
   ]
  },
  {
   "cell_type": "code",
   "execution_count": null,
   "metadata": {
    "slideshow": {
     "slide_type": "-"
    }
   },
   "outputs": [],
   "source": [
    "# define 'f'\n"
   ]
  },
  {
   "cell_type": "code",
   "execution_count": null,
   "metadata": {},
   "outputs": [],
   "source": [
    "# define 'g' (use arange())\n"
   ]
  },
  {
   "cell_type": "markdown",
   "metadata": {
    "slideshow": {
     "slide_type": "subslide"
    }
   },
   "source": [
    "1. Add $A$ and $B$\n",
    "1. Subtract $B$ from $A$\n",
    "1. Subtract $A$ from $B$\n",
    "1. Add $f$ and $g$\n",
    "1. Subtract $g$ from $f$"
   ]
  },
  {
   "cell_type": "code",
   "execution_count": null,
   "metadata": {
    "slideshow": {
     "slide_type": "subslide"
    }
   },
   "outputs": [],
   "source": [
    "# add 'A' and 'B'\n"
   ]
  },
  {
   "cell_type": "code",
   "execution_count": null,
   "metadata": {},
   "outputs": [],
   "source": [
    "# subtract 'B' from 'A'\n"
   ]
  },
  {
   "cell_type": "code",
   "execution_count": null,
   "metadata": {},
   "outputs": [],
   "source": [
    "# subtract 'A' from 'B'\n"
   ]
  },
  {
   "cell_type": "code",
   "execution_count": null,
   "metadata": {
    "slideshow": {
     "slide_type": "subslide"
    }
   },
   "outputs": [],
   "source": [
    "# add 'f' and 'g'\n"
   ]
  },
  {
   "cell_type": "code",
   "execution_count": null,
   "metadata": {},
   "outputs": [],
   "source": [
    "# subtract 'g' from 'f'\n"
   ]
  },
  {
   "cell_type": "markdown",
   "metadata": {
    "slideshow": {
     "slide_type": "slide"
    }
   },
   "source": [
    "Execute the code cells below to define and assign arrays $X$ and $Y$ and then try to use standard element-by-element multiplication with them.\n",
    "\n",
    "$X=\n",
    "\\left[ \\begin{array}{ccc}\n",
    "1 & 4 & 2\\\\\n",
    "5 & 7 & 3\\\\\n",
    "9 & 1 & 6\\\\\n",
    "4 & 2 & 8\\end{array} \\right]$ \n",
    "$Y=\n",
    "\\left[ \\begin{array}{ccc}\n",
    "6 & 1\\\\\n",
    "2 & 5\\\\\n",
    "7 & 3\\end{array} \\right]$"
   ]
  },
  {
   "cell_type": "code",
   "execution_count": null,
   "metadata": {},
   "outputs": [],
   "source": [
    "X = np.array([[1, 4, 2], [5, 7, 3], [9, 1, 6], [4, 2, 8]], float)\n",
    "Y = np.array([[6, 1], [2, 5], [7, 3]], float)"
   ]
  },
  {
   "cell_type": "code",
   "execution_count": null,
   "metadata": {
    "slideshow": {
     "slide_type": "subslide"
    }
   },
   "outputs": [],
   "source": [
    "# multiply `X` by `Y` and assign to `C` then display `C`\n"
   ]
  },
  {
   "cell_type": "code",
   "execution_count": null,
   "metadata": {
    "slideshow": {
     "slide_type": "subslide"
    }
   },
   "outputs": [],
   "source": [
    "# multiply `Y` by `X` and assign to `D` then display `D`\n"
   ]
  },
  {
   "cell_type": "code",
   "execution_count": null,
   "metadata": {
    "slideshow": {
     "slide_type": "subslide"
    }
   },
   "outputs": [],
   "source": [
    "# try again using the dot() function\n",
    "np.dot(X, Y)"
   ]
  },
  {
   "cell_type": "markdown",
   "metadata": {
    "slideshow": {
     "slide_type": "slide"
    }
   },
   "source": [
    "Try the same thing with the following code cells that use arrays $F$ and $G$. What is different?\n",
    "\n",
    "$F =\n",
    "\\left[ \\begin{array}{cc}\n",
    "7 & 4 \\\\\n",
    "-3 & 9 \\end{array} \\right]$ \n",
    "$\\qquad\\qquad G  =\n",
    "\\left[ \\begin{array}{ccc}\n",
    "4 & 2\\\\\n",
    "1 & 6\\end{array} \\right]$"
   ]
  },
  {
   "cell_type": "code",
   "execution_count": null,
   "metadata": {},
   "outputs": [],
   "source": [
    "# create `F` and `G`\n"
   ]
  },
  {
   "cell_type": "code",
   "execution_count": null,
   "metadata": {
    "slideshow": {
     "slide_type": "subslide"
    }
   },
   "outputs": [],
   "source": [
    "# `F` times `G`\n"
   ]
  },
  {
   "cell_type": "code",
   "execution_count": null,
   "metadata": {},
   "outputs": [],
   "source": [
    "# `G` times `F`\n"
   ]
  },
  {
   "cell_type": "markdown",
   "metadata": {
    "slideshow": {
     "slide_type": "slide"
    }
   },
   "source": [
    "**Matrix multiplication using `np.dot()`**\n",
    "\n",
    "In the following cells use the `np.dot()` function to perform matrix multiplcation on arrays $F$ and $G$ with $F$ first then $G$ first. Does the order of operations matter?"
   ]
  },
  {
   "cell_type": "code",
   "execution_count": null,
   "metadata": {},
   "outputs": [],
   "source": [
    "# matrix multiply F by G\n"
   ]
  },
  {
   "cell_type": "code",
   "execution_count": null,
   "metadata": {},
   "outputs": [],
   "source": [
    "# matrix multiply G by F\n"
   ]
  },
  {
   "cell_type": "markdown",
   "metadata": {
    "slideshow": {
     "slide_type": "slide"
    }
   },
   "source": [
    "Starting with *Python 3.5*, *NumPy* allows matrix multiplication using the `@` operator as well as the `np.dot()` function. For example, `A@B` is the same is `np.dot(A, B)`. Try it out on $F$ and $G$ in the following code cell."
   ]
  },
  {
   "cell_type": "code",
   "execution_count": null,
   "metadata": {},
   "outputs": [],
   "source": [
    "# use the @ operator to matrix multiply F by G\n"
   ]
  },
  {
   "cell_type": "markdown",
   "metadata": {
    "slideshow": {
     "slide_type": "slide"
    }
   },
   "source": [
    "**Matrix multiplication with 1-dimensional arrays**\n",
    "\n",
    "Execute the following code to assign arrays $AV$, $BV$, and $CV$. Use a *NumPy* function or method to find the shape of each in the next three code cells. You should see that $BV$ and $CV$ have the same number of items but a different shape.\n",
    "\n",
    "Then use the remaining code cells to peform the following **matrix** multiplication operations (use `np.dot()` or the `@` operator)\n",
    "\n",
    "1. $AV \\times BV$\n",
    "2. $BV \\times AV$\n",
    "3. $AV \\times CV$\n",
    "4. $CV \\times AV$"
   ]
  },
  {
   "cell_type": "code",
   "execution_count": null,
   "metadata": {
    "slideshow": {
     "slide_type": "subslide"
    }
   },
   "outputs": [],
   "source": [
    "AV = np.array([2, 5, 1])\n",
    "BV = np.array([3, 1, 4])\n",
    "CV = np.array([[3], [1], [4]])"
   ]
  },
  {
   "cell_type": "code",
   "execution_count": null,
   "metadata": {},
   "outputs": [],
   "source": [
    "# shape of 'AV'\n"
   ]
  },
  {
   "cell_type": "code",
   "execution_count": null,
   "metadata": {},
   "outputs": [],
   "source": [
    "# shape of 'BV'\n"
   ]
  },
  {
   "cell_type": "code",
   "execution_count": null,
   "metadata": {},
   "outputs": [],
   "source": [
    "# shape of 'CV'\n"
   ]
  },
  {
   "cell_type": "code",
   "execution_count": null,
   "metadata": {
    "slideshow": {
     "slide_type": "subslide"
    }
   },
   "outputs": [],
   "source": [
    "# 'AV' times 'BV'\n"
   ]
  },
  {
   "cell_type": "code",
   "execution_count": null,
   "metadata": {},
   "outputs": [],
   "source": [
    "# 'BV' times 'AV'\n"
   ]
  },
  {
   "cell_type": "code",
   "execution_count": null,
   "metadata": {},
   "outputs": [],
   "source": [
    "# 'AV' times 'CV'\n"
   ]
  },
  {
   "cell_type": "code",
   "execution_count": null,
   "metadata": {},
   "outputs": [],
   "source": [
    "# 'CV' times 'AV'\n"
   ]
  },
  {
   "cell_type": "markdown",
   "metadata": {
    "slideshow": {
     "slide_type": "slide"
    }
   },
   "source": [
    "**Inverses, identity matrix, and determinants**\n",
    "\n",
    "Execute the provided `import` statement. Then create array $A$ in the indicated code cell. In the remaining code cells perform requested operations\n",
    "\n",
    "1. Find the inverse of $A$ and assign it to $B$ then display $B$\n",
    "1. Invert $B$\n",
    "1. Matrix mulitply $A\\times B$\n",
    "1. Matrix multiply $B \\times A$\n",
    "1. Find the determinant of $A$"
   ]
  },
  {
   "cell_type": "code",
   "execution_count": null,
   "metadata": {
    "slideshow": {
     "slide_type": "-"
    }
   },
   "outputs": [],
   "source": [
    "from numpy import linalg as la"
   ]
  },
  {
   "cell_type": "markdown",
   "metadata": {
    "slideshow": {
     "slide_type": "subslide"
    }
   },
   "source": [
    "$A=\n",
    "\\left[ \\begin{array}{ccc}\n",
    "2 & 1 & 4\\\\\n",
    "4 & 1 & 8\\\\\n",
    "2 & -1 & 3\\end{array} \\right]$ "
   ]
  },
  {
   "cell_type": "code",
   "execution_count": null,
   "metadata": {},
   "outputs": [],
   "source": [
    "# define 'A'\n"
   ]
  },
  {
   "cell_type": "code",
   "execution_count": null,
   "metadata": {
    "slideshow": {
     "slide_type": "subslide"
    }
   },
   "outputs": [],
   "source": [
    "# assign inverse of 'A' to 'B' and display it\n"
   ]
  },
  {
   "cell_type": "code",
   "execution_count": null,
   "metadata": {},
   "outputs": [],
   "source": [
    "# invert 'B'\n"
   ]
  },
  {
   "cell_type": "code",
   "execution_count": null,
   "metadata": {
    "slideshow": {
     "slide_type": "subslide"
    }
   },
   "outputs": [],
   "source": [
    "# 'A' times 'B'\n"
   ]
  },
  {
   "cell_type": "code",
   "execution_count": null,
   "metadata": {},
   "outputs": [],
   "source": [
    "# 'B' times 'A'\n"
   ]
  },
  {
   "cell_type": "code",
   "execution_count": null,
   "metadata": {},
   "outputs": [],
   "source": [
    "# determinant of 'A'\n"
   ]
  },
  {
   "cell_type": "markdown",
   "metadata": {
    "slideshow": {
     "slide_type": "slide"
    }
   },
   "source": [
    "**Solving equations**\n",
    "\n",
    "Perform the following tasks in the provided code cells to solve the following:\n",
    "\n",
    "$4 x_1 - 2 x_2 + 6 x_3 = 8\\\\\n",
    "2 x_1 + 8 x_2 + 2 x_3 = 4\\\\\n",
    "6 x_1 + 10 x_2 + 3 x_3 = 1$"
   ]
  },
  {
   "cell_type": "markdown",
   "metadata": {
    "slideshow": {
     "slide_type": "subslide"
    }
   },
   "source": [
    "1. Define the left hand side array and give it a name\n",
    "2. Define the right hand side array and give it a name\n",
    "3. Calculate the determinant of the left hand side array to ensure the system is solvable\n",
    "4. Solve for $x$ using the previously introduced *NumPy* linear algebra functions\n",
    "5. Print $x$"
   ]
  },
  {
   "cell_type": "markdown",
   "metadata": {
    "slideshow": {
     "slide_type": "subslide"
    }
   },
   "source": [
    "$ \\left[ \\begin{array}{ccc}\n",
    "4 & -2 & 6\\\\\n",
    "2 & 8 & 2\\\\\n",
    "6 & 10 & 3\\end{array} \\right]\n",
    "\\left[ \\begin{array}{c}\n",
    "x_1 \\\\\n",
    "x_2 \\\\\n",
    "x_3 \\end{array} \\right] = \n",
    "\\left[ \\begin{array}{c}\n",
    "8 \\\\\n",
    "4 \\\\\n",
    "1 \\end{array} \\right]$"
   ]
  },
  {
   "cell_type": "code",
   "execution_count": null,
   "metadata": {},
   "outputs": [],
   "source": [
    "# define and name LHS array\n"
   ]
  },
  {
   "cell_type": "code",
   "execution_count": null,
   "metadata": {},
   "outputs": [],
   "source": [
    "# define and name RHS array\n"
   ]
  },
  {
   "cell_type": "code",
   "execution_count": null,
   "metadata": {
    "slideshow": {
     "slide_type": "subslide"
    }
   },
   "outputs": [],
   "source": [
    "# determinant of LHS array; is it solvable?\n"
   ]
  },
  {
   "cell_type": "code",
   "execution_count": null,
   "metadata": {},
   "outputs": [],
   "source": [
    "# solve for 'x' using matrix multiplication\n"
   ]
  },
  {
   "cell_type": "code",
   "execution_count": null,
   "metadata": {},
   "outputs": [],
   "source": [
    "# print results\n"
   ]
  },
  {
   "cell_type": "code",
   "execution_count": null,
   "metadata": {},
   "outputs": [],
   "source": [
    "# test the solution\n"
   ]
  },
  {
   "cell_type": "markdown",
   "metadata": {
    "slideshow": {
     "slide_type": "slide"
    }
   },
   "source": [
    "**Use `la.solve()`**\n",
    "\n",
    "- *NumPy* provides for a more efficient method within the linear algebra module to solve sets of equations\n",
    "- The magical function `la.solve()`\n",
    "- This function takes two arguments\n",
    "  - The first is the LHS array\n",
    "  - The second is the RHS array\n",
    "\n",
    "Use the `la.solve()` function to solve the same set of equations as above. Perform just the solving step in the code cell below."
   ]
  },
  {
   "cell_type": "code",
   "execution_count": null,
   "metadata": {
    "slideshow": {
     "slide_type": "subslide"
    }
   },
   "outputs": [],
   "source": [
    "# use la.solve using your arrays from above\n"
   ]
  },
  {
   "cell_type": "markdown",
   "metadata": {
    "slideshow": {
     "slide_type": "slide"
    }
   },
   "source": [
    "Solve for $x$ (the array of unkowns $x_1$, $x_2$, and $x_3$) in the following cells just using the `la.solve()` function. Be sure to define and name the LHS and RHS arrays first. This time, however, when you create the RHS array, make it a vertical array.\n",
    "\n",
    "$ \\qquad\\qquad\\left[ \\begin{array}{ccc}\n",
    "4 & 2 & 6\\\\\n",
    "-2 & 8 & 10\\\\\n",
    "6 & 2 & 3\\end{array} \\right]\n",
    "\\left[ \\begin{array}{c}\n",
    "x_1 \\\\\n",
    "x_2 \\\\\n",
    "x_3 \\end{array} \\right] = \n",
    "\\left[ \\begin{array}{c}\n",
    "8 \\\\\n",
    "4 \\\\\n",
    "0 \\end{array} \\right]$"
   ]
  },
  {
   "cell_type": "code",
   "execution_count": null,
   "metadata": {},
   "outputs": [],
   "source": [
    "# define the left hand side array\n"
   ]
  },
  {
   "cell_type": "code",
   "execution_count": null,
   "metadata": {},
   "outputs": [],
   "source": [
    "# define the right hand side array\n"
   ]
  },
  {
   "cell_type": "code",
   "execution_count": null,
   "metadata": {
    "slideshow": {
     "slide_type": "subslide"
    }
   },
   "outputs": [],
   "source": [
    "# solve for 'x' using la.solve()\n"
   ]
  },
  {
   "cell_type": "code",
   "execution_count": null,
   "metadata": {},
   "outputs": [],
   "source": [
    "# what if RHS was vertical (3x1 array)?"
   ]
  },
  {
   "cell_type": "code",
   "execution_count": null,
   "metadata": {
    "slideshow": {
     "slide_type": "subslide"
    }
   },
   "outputs": [],
   "source": [
    "# what if each equation set needed solving for different RHS values?\n",
    "RHS2 = np.array([[8, 16, 24],\n",
    "                 [4, 8, 12],\n",
    "                 [0, 0, 0]])"
   ]
  },
  {
   "cell_type": "code",
   "execution_count": null,
   "metadata": {},
   "outputs": [],
   "source": [
    "la.solve(LHS, RHS2)"
   ]
  },
  {
   "cell_type": "markdown",
   "metadata": {
    "slideshow": {
     "slide_type": "slide"
    }
   },
   "source": [
    "**Dot and cross products**\n",
    "\n",
    "Execute the first code cell below to define $a$ and $b$. Then perform the dot product and cross product using both `(a, b)` and `(b, a)`."
   ]
  },
  {
   "cell_type": "code",
   "execution_count": null,
   "metadata": {},
   "outputs": [],
   "source": [
    "a = np.array([1, 2, 3])\n",
    "b = np.array([3, 4, 5])"
   ]
  },
  {
   "cell_type": "code",
   "execution_count": null,
   "metadata": {
    "slideshow": {
     "slide_type": "-"
    }
   },
   "outputs": [],
   "source": [
    "# dot product of (a, b)\n"
   ]
  },
  {
   "cell_type": "code",
   "execution_count": null,
   "metadata": {},
   "outputs": [],
   "source": [
    "# dot product of (b, a)\n"
   ]
  },
  {
   "cell_type": "code",
   "execution_count": null,
   "metadata": {
    "slideshow": {
     "slide_type": "subslide"
    }
   },
   "outputs": [],
   "source": [
    "# cross product of (a, b)\n"
   ]
  },
  {
   "cell_type": "code",
   "execution_count": null,
   "metadata": {},
   "outputs": [],
   "source": [
    "# cross product of (b, a)\n"
   ]
  },
  {
   "cell_type": "markdown",
   "metadata": {
    "slideshow": {
     "slide_type": "slide"
    }
   },
   "source": [
    "**Wrap it up**\n",
    "\n",
    "Click on the **Save** button and then the **Close and halt** button when you are done before closing the tab."
   ]
  }
 ],
 "metadata": {
  "kernelspec": {
   "display_name": "Python 3 (ipykernel)",
   "language": "python",
   "name": "python3"
  },
  "language_info": {
   "codemirror_mode": {
    "name": "ipython",
    "version": 3
   },
   "file_extension": ".py",
   "mimetype": "text/x-python",
   "name": "python",
   "nbconvert_exporter": "python",
   "pygments_lexer": "ipython3",
   "version": "3.9.15"
  },
  "varInspector": {
   "cols": {
    "lenName": 16,
    "lenType": 16,
    "lenVar": 40
   },
   "kernels_config": {
    "python": {
     "delete_cmd_postfix": "",
     "delete_cmd_prefix": "del ",
     "library": "var_list.py",
     "varRefreshCmd": "print(var_dic_list())"
    },
    "r": {
     "delete_cmd_postfix": ") ",
     "delete_cmd_prefix": "rm(",
     "library": "var_list.r",
     "varRefreshCmd": "cat(var_dic_list()) "
    }
   },
   "types_to_exclude": [
    "module",
    "function",
    "builtin_function_or_method",
    "instance",
    "_Feature"
   ],
   "window_display": false
  }
 },
 "nbformat": 4,
 "nbformat_minor": 4
}
