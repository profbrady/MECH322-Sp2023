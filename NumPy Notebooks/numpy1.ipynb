{
 "cells": [
  {
   "cell_type": "markdown",
   "metadata": {
    "collapsed": false,
    "jupyter": {
     "source_hidden": true
    }
   },
   "source": [
    "# NumPy 1 - Array Practice"
   ]
  },
  {
   "cell_type": "code",
   "execution_count": 0,
   "metadata": {
    "collapsed": false
   },
   "outputs": [
   ],
   "source": [
    "name = \"Your name here\"\n",
    "\"Name:\" + name.upper()"
   ]
  },
  {
   "cell_type": "markdown",
   "metadata": {
    "collapsed": false
   },
   "source": [
    "## Instructions\n",
    "\n",
    "**Use *NumPy* versions of math operations where available.** For example, use `np.tan(np.radians(85))` instead of `math.tan(math.radians(85))`. Note that *NumPy* does not have a factorial function so you will need to import it from the math module.\n",
    "\n",
    "**Do not assign results to variables unless specified in an exercise's instructions.**\n",
    "\n",
    "Finish the assignment by...\n",
    "  - Saving your Jupyter Notebook and downloading it as a notebook (.ipynb) file (do not change the file name)\n",
    "  - Submitting the notebook file to the NumPy 1 assignment via Canvas\n",
    "  - Verifying that the auto grader marked each problem correct\n",
    "  - Fixing errors and resubmitting as necessary until the due date\n",
    "\n",
    "Your score will be determined by the auto grader results after the due date. Keep in mind that the auto grader may run additional tests on your final submission than were ran when the assignment was submitted."
   ]
  },
  {
   "cell_type": "markdown",
   "metadata": {
    "collapsed": false
   },
   "source": [
    "**Execute the following cell to import *NumPy* and change display/print settings for *NumPy* arrays**"
   ]
  },
  {
   "cell_type": "code",
   "execution_count": 0,
   "metadata": {
    "collapsed": false
   },
   "outputs": [
   ],
   "source": [
    "import numpy as np\n",
    "import math\n",
    "np.set_printoptions(precision=5, suppress=True)"
   ]
  },
  {
   "cell_type": "markdown",
   "metadata": {
    "collapsed": false
   },
   "source": [
    "**Exercise 1**\n",
    "\n",
    "Create an array with the following elements: $ 8, 10/4, 12\\times1.4, 51, \\tan85^{\\circ}, \\sqrt{26}, 0.15$\n",
    "\n",
    "Your completed array should have the following values...\n",
    "```\n",
    "array([ 8.     ,  2.5    , 16.8    , 51.     , 11.43005,  5.09902, 0.15   ])\n",
    "```"
   ]
  },
  {
   "cell_type": "code",
   "execution_count": 0,
   "metadata": {
    "collapsed": false
   },
   "outputs": [
   ],
   "source": [
    "# Write your exercise 1 code in this cell only\n"
   ]
  },
  {
   "cell_type": "code",
   "execution_count": 0,
   "metadata": {
    "collapsed": false,
    "deletable": false,
    "editable": false,
    "jupyter": {
     "source_hidden": false
    },
    "nbgrader": {
     "grade": true,
     "grade_id": "exercise_1_autograde",
     "locked": true,
     "points": 0.5,
     "schema_version": 3,
     "solution": false,
     "task": false
    }
   },
   "outputs": [
   ],
   "source": [
    "# Your exercise 1 solution will be autotested/scored here"
   ]
  },
  {
   "cell_type": "markdown",
   "metadata": {
    "collapsed": false
   },
   "source": [
    "**Exercise 2**\n",
    "\n",
    "Create an array with the following elements: $\\displaystyle \\sqrt{15}\\times10^3, \\frac{25}{14-6^2}, \\ln{(35)}/0.4^3, \\frac{\\sin{65^{\\circ}}}{\\cos{80^{\\circ}}}, 129, \\cos^2{(\\pi/20)}$\n",
    "\n",
    "Your completed array should have the following values...\n",
    "```\n",
    "array([3872.98335,   -1.13636,   55.55231,    5.21922,  129.     , 0.97553])\n",
    "```"
   ]
  },
  {
   "cell_type": "code",
   "execution_count": 0,
   "metadata": {
    "collapsed": false
   },
   "outputs": [
   ],
   "source": [
    "# Write your exercise 2 code in this cell only\n"
   ]
  },
  {
   "cell_type": "code",
   "execution_count": 0,
   "metadata": {
    "collapsed": false,
    "deletable": false,
    "editable": false,
    "jupyter": {
     "source_hidden": false
    },
    "nbgrader": {
     "grade": true,
     "grade_id": "exercise_2_autograde",
     "locked": true,
     "points": 0.5,
     "schema_version": 3,
     "solution": false,
     "task": false
    }
   },
   "outputs": [
   ],
   "source": [
    "# Your exercise 2 solution will be autotested/scored here"
   ]
  },
  {
   "cell_type": "markdown",
   "metadata": {
    "collapsed": false
   },
   "source": [
    "**Exercise 3**\n",
    "\n",
    "Create an array that has the following elements: $\\displaystyle 25.5, \\frac{14\\tan{58^{\\circ}}}{(2.1^2 + 11)}, 6!, 2.7^4, 0.0375, \\pi/5$\n",
    "\n",
    "Your completed array should have the following values...\n",
    "```\n",
    "array([ 25.5    ,   1.45391, 720.     ,  53.1441 ,   0.0375 ,   0.62832])\n",
    "```"
   ]
  },
  {
   "cell_type": "code",
   "execution_count": 0,
   "metadata": {
    "collapsed": false
   },
   "outputs": [
   ],
   "source": [
    "# Write your exercise 3 code in this cell only\n"
   ]
  },
  {
   "cell_type": "code",
   "execution_count": 0,
   "metadata": {
    "collapsed": false,
    "deletable": false,
    "editable": false,
    "jupyter": {
     "source_hidden": false
    },
    "nbgrader": {
     "grade": true,
     "grade_id": "exercise_3_autograde",
     "locked": true,
     "points": 0.5,
     "schema_version": 3,
     "solution": false,
     "task": false
    }
   },
   "outputs": [
   ],
   "source": [
    "# Your exercise 3 solution will be autotested/scored here"
   ]
  },
  {
   "cell_type": "markdown",
   "metadata": {
    "collapsed": false
   },
   "source": [
    "**Exercise 4**\n",
    "\n",
    "Create an array that has the following elements: $\\displaystyle \\frac{32}{3.2^2}, \\sin^2{35^{\\circ}}, 6.1, \\ln(29^2), 0.00552, \\ln^2{29}, 133 $\n",
    "\n",
    "Your completed array should have the following values...\n",
    "```\n",
    "array([  3.125  ,   0.32899,   6.1    ,   6.73459,   0.00552,  11.33868, 133.     ])\n",
    "```"
   ]
  },
  {
   "cell_type": "code",
   "execution_count": 0,
   "metadata": {
    "collapsed": false
   },
   "outputs": [
   ],
   "source": [
    "# Write your exercise 4 code in this cell only\n"
   ]
  },
  {
   "cell_type": "code",
   "execution_count": 0,
   "metadata": {
    "collapsed": false,
    "deletable": false,
    "editable": false,
    "jupyter": {
     "source_hidden": false
    },
    "nbgrader": {
     "grade": true,
     "grade_id": "exercise_4_autograde",
     "locked": true,
     "points": 0.5,
     "schema_version": 3,
     "solution": false,
     "task": false
    }
   },
   "outputs": [
   ],
   "source": [
    "# Your exercise 4 solution will be autotested/scored here"
   ]
  },
  {
   "cell_type": "markdown",
   "metadata": {
    "collapsed": false
   },
   "source": [
    "**Exercise 5**\n",
    "\n",
    "Define the variables $x$ = 0.85, $y$ = 12.5, and then use them to create an array with the following elements: $y, y^x, \\ln(y/x), x\\times y, x+y$\n",
    "\n",
    "Your completed array should have the following values...\n",
    "```\n",
    "array([12.5    , 10.625  ,  2.68825, 10.625  , 13.35   ])\n",
    "```"
   ]
  },
  {
   "cell_type": "code",
   "execution_count": 0,
   "metadata": {
    "collapsed": false
   },
   "outputs": [
   ],
   "source": [
    "# Write your exercise 5 code in this cell only\n"
   ]
  },
  {
   "cell_type": "code",
   "execution_count": 0,
   "metadata": {
    "collapsed": false,
    "deletable": false,
    "editable": false,
    "jupyter": {
     "source_hidden": false
    },
    "nbgrader": {
     "grade": true,
     "grade_id": "exercise_5_autograde",
     "locked": true,
     "points": 0.5,
     "schema_version": 3,
     "solution": false,
     "task": false
    }
   },
   "outputs": [
   ],
   "source": [
    "# Your exercise 5 solution will be autotested/scored here"
   ]
  },
  {
   "cell_type": "markdown",
   "metadata": {
    "collapsed": false
   },
   "source": [
    "**Exercise 6**\n",
    "\n",
    "Define the variables $a$ = 3.5, $b$ = -6.4, and then use them to create an array with the following elements: $a, a^2, a/b, a\\cdot b, \\sqrt{a}$\n",
    "\n",
    "Your completed array should have the following values...\n",
    "```\n",
    "array([  3.5    ,  12.25   ,  -0.54688, -22.4    ,   1.87083])\n",
    "```"
   ]
  },
  {
   "cell_type": "code",
   "execution_count": 0,
   "metadata": {
    "collapsed": false
   },
   "outputs": [
   ],
   "source": [
    "# Write your exercise 6 code in this cell only\n"
   ]
  },
  {
   "cell_type": "code",
   "execution_count": 0,
   "metadata": {
    "collapsed": false,
    "deletable": false,
    "editable": false,
    "jupyter": {
     "source_hidden": false
    },
    "nbgrader": {
     "grade": true,
     "grade_id": "exercise_6_autograde",
     "locked": true,
     "points": 0.5,
     "schema_version": 3,
     "solution": false,
     "task": false
    }
   },
   "outputs": [
   ],
   "source": [
    "# Your exercise 6 solution will be autotested/scored here"
   ]
  },
  {
   "cell_type": "markdown",
   "metadata": {
    "collapsed": false
   },
   "source": [
    "#### Note: Use `np.arange()` or `np.linspace()` for exercises 7 through 10"
   ]
  },
  {
   "cell_type": "markdown",
   "metadata": {
    "collapsed": false
   },
   "source": [
    "**Exercise 7**\n",
    "    \n",
    "Create an array in which the first element is 1 and the last element is 43 with an increment of 6, i.e. (1, 7, 13, ... , 43) without manually typing each value."
   ]
  },
  {
   "cell_type": "code",
   "execution_count": 0,
   "metadata": {
    "collapsed": false
   },
   "outputs": [
   ],
   "source": [
    "# Write your exercise 7 code in this cell only\n"
   ]
  },
  {
   "cell_type": "code",
   "execution_count": 0,
   "metadata": {
    "collapsed": false,
    "deletable": false,
    "editable": false,
    "jupyter": {
     "source_hidden": false
    },
    "nbgrader": {
     "grade": true,
     "grade_id": "exercise_7_autograde",
     "locked": true,
     "points": 0.5,
     "schema_version": 3,
     "solution": false,
     "task": false
    }
   },
   "outputs": [
   ],
   "source": [
    "# Your exercise 7 solution will be autotested/scored here"
   ]
  },
  {
   "cell_type": "markdown",
   "metadata": {
    "collapsed": false
   },
   "source": [
    "**Exercise 8**\n",
    "\n",
    "Create an array with 11 equally spaced elements in which the first element is 96 and the last element is 2 without manually typing each value.\n",
    "\n",
    "Your completed array should have the following values...\n",
    "```\n",
    "array([96. , 86.6, 77.2, 67.8, 58.4, 49. , 39.6, 30.2, 20.8, 11.4,  2. ])\n",
    "```"
   ]
  },
  {
   "cell_type": "code",
   "execution_count": 0,
   "metadata": {
    "collapsed": false
   },
   "outputs": [
   ],
   "source": [
    "# Write your exercise 8 code in this cell only\n"
   ]
  },
  {
   "cell_type": "code",
   "execution_count": 0,
   "metadata": {
    "collapsed": false,
    "deletable": false,
    "editable": false,
    "jupyter": {
     "source_hidden": false
    },
    "nbgrader": {
     "grade": true,
     "grade_id": "exercise_8_autograde",
     "locked": true,
     "points": 0.5,
     "schema_version": 3,
     "solution": false,
     "task": false
    }
   },
   "outputs": [
   ],
   "source": [
    "# Your exercise 8 solution will be autotested/scored here"
   ]
  },
  {
   "cell_type": "markdown",
   "metadata": {
    "collapsed": false
   },
   "source": [
    "**Exercise 9**\n",
    "\n",
    "Create an array in which the first element is 26, the elements decrease with an increment of -3.6, and the last element is -10 without typing each value.\n",
    "\n",
    "Your completed array should have the following values...\n",
    "```\n",
    "array([ 26. ,  22.4,  18.8,  15.2,  11.6,   8. ,   4.4,   0.8,  -2.8, -6.4, -10. ])\n",
    "```"
   ]
  },
  {
   "cell_type": "code",
   "execution_count": 0,
   "metadata": {
    "collapsed": false
   },
   "outputs": [
   ],
   "source": [
    "# Write your exercise 9 code in this cell only\n"
   ]
  },
  {
   "cell_type": "code",
   "execution_count": 0,
   "metadata": {
    "collapsed": false,
    "deletable": false,
    "editable": false,
    "jupyter": {
     "source_hidden": false
    },
    "nbgrader": {
     "grade": true,
     "grade_id": "exercise_9_autograde",
     "locked": true,
     "points": 0.5,
     "schema_version": 3,
     "solution": false,
     "task": false
    }
   },
   "outputs": [
   ],
   "source": [
    "# Your exercise 9 solution will be autotested/scored here"
   ]
  },
  {
   "cell_type": "markdown",
   "metadata": {
    "collapsed": false
   },
   "source": [
    "**Exercise 10**\n",
    "\n",
    "Create an array with 9 equally spaced elements in which the first element is -34 and the last element is -7 without manually typing each value.\n",
    "\n",
    "Your completed array should have the following values...\n",
    "```\n",
    "array([-34.   , -30.625, -27.25 , -23.875, -20.5  , -17.125, -13.75 , -10.375,  -7.   ])\n",
    "```"
   ]
  },
  {
   "cell_type": "code",
   "execution_count": 0,
   "metadata": {
    "collapsed": false
   },
   "outputs": [
   ],
   "source": [
    "# Write your exercise 10 code in this cell only\n"
   ]
  },
  {
   "cell_type": "code",
   "execution_count": 0,
   "metadata": {
    "collapsed": false,
    "deletable": false,
    "editable": false,
    "jupyter": {
     "outputs_hidden": false,
     "source_hidden": false
    },
    "nbgrader": {
     "grade": true,
     "grade_id": "exercise_10_autograde",
     "locked": true,
     "points": 0.5,
     "schema_version": 3,
     "solution": false,
     "task": false
    }
   },
   "outputs": [
   ],
   "source": [
    "# Your exercise 10 solution will be autotested/scored here"
   ]
  },
  {
   "cell_type": "markdown",
   "metadata": {
    "collapsed": false
   },
   "source": [
    "**Exercise 11**\n",
    "\n",
    "Use the `np.arange()` and `np.append()` functions together in one expression to create an array named `b` such that `b` has the values [0, 2, 4, 6, 8, 10, 12, 9, 6, 3, 0]. Print `b` after creation."
   ]
  },
  {
   "cell_type": "code",
   "execution_count": 0,
   "metadata": {
    "collapsed": false
   },
   "outputs": [
   ],
   "source": [
    "# Write your exercise 11 code in this cell only\n"
   ]
  },
  {
   "cell_type": "code",
   "execution_count": 0,
   "metadata": {
    "collapsed": false,
    "deletable": false,
    "editable": false,
    "jupyter": {
     "source_hidden": false
    },
    "nbgrader": {
     "grade": true,
     "grade_id": "exercise_11_autograde",
     "locked": true,
     "points": 0.5,
     "schema_version": 3,
     "solution": false,
     "task": false
    }
   },
   "outputs": [
   ],
   "source": [
    "# Your exercise 11 solution will be autotested/scored here"
   ]
  },
  {
   "cell_type": "markdown",
   "metadata": {
    "collapsed": false
   },
   "source": [
    "**Exercise 12**\n",
    "\n",
    "Create the following 2D array `A` by using the `np.linspace()` and `np.arange()` functions to fill the values. Print `A` after creation.\n",
    "\n",
    "$\\qquad\\displaystyle A = \\left[\\begin{array}{ccccccc} 130 & 110 & 90 & 70 & 50 & 30 & 10 \\\\\n",
    "1.0 & 2.83\\bar3 & 4.66\\bar6 & 6.5 & 8.33\\bar3 & 10.16\\bar6 & 12.0 \\\\\n",
    "12 & 22 & 32 & 42 & 52 & 62 & 72\\end{array} \\right]$\n",
    "\n",
    "*Notice that the second row values have repeating digits. This is probably **not** a good place to use a specific step size.*"
   ]
  },
  {
   "cell_type": "code",
   "execution_count": 0,
   "metadata": {
    "collapsed": false
   },
   "outputs": [
   ],
   "source": [
    "# Write your exercise 12 code in this cell only\n"
   ]
  },
  {
   "cell_type": "code",
   "execution_count": 0,
   "metadata": {
    "collapsed": false,
    "deletable": false,
    "editable": false,
    "jupyter": {
     "source_hidden": false
    },
    "nbgrader": {
     "grade": true,
     "grade_id": "exercise_12_autograde",
     "locked": true,
     "points": 0.5,
     "schema_version": 3,
     "solution": false,
     "task": false
    }
   },
   "outputs": [
   ],
   "source": [
    "# Your exercise 12 solution will be autotested/scored here"
   ]
  },
  {
   "cell_type": "markdown",
   "metadata": {
    "collapsed": false
   },
   "source": [
    "**Exercise 13**\n",
    "\n",
    "Create three arrays: $a$ = [3, -1, 5, 11, -4, 2], $b$ = [7, -9, 2, 13, 1, -2], and $c$ = [-2, 4, -7, 8, 0, 9]\n",
    "\n",
    "By slicing the three arrays, create a $3\\times4$ two-dimensional array such that the first, second, and third rows consist of the last four elements of the arrays $a$, $b$, and $c$ respectively. Your completed array should have the following values...\n",
    "\n",
    "```\n",
    "array([[ 5, 11, -4,  2],\n",
    "       [ 2, 13,  1, -2],\n",
    "       [-7,  8,  0,  9]])\n",
    "```"
   ]
  },
  {
   "cell_type": "code",
   "execution_count": 0,
   "metadata": {
    "collapsed": false
   },
   "outputs": [
   ],
   "source": [
    "# Create the initial arrays `a`, `b`, and `c` for exercises 13 and 14 in this cell\n"
   ]
  },
  {
   "cell_type": "code",
   "execution_count": 0,
   "metadata": {
    "collapsed": false
   },
   "outputs": [
   ],
   "source": [
    "# Write your exercise 13 slicing code in this cell only\n"
   ]
  },
  {
   "cell_type": "code",
   "execution_count": 0,
   "metadata": {
    "collapsed": false,
    "deletable": false,
    "editable": false,
    "jupyter": {
     "source_hidden": false
    },
    "nbgrader": {
     "grade": true,
     "grade_id": "exercise_13_autograde",
     "locked": true,
     "points": 0.5,
     "schema_version": 3,
     "solution": false,
     "task": false
    }
   },
   "outputs": [
   ],
   "source": [
    "# Your exercise 13 solution will be autotested/scored here"
   ]
  },
  {
   "cell_type": "markdown",
   "metadata": {
    "collapsed": false
   },
   "source": [
    "**Exercise 14**\n",
    "\n",
    "Using the arrays from **13**, create a $6\\times3$ two-dimensional array such that the first, second, and third columns are the arrays $b$, $c$, and $a$ respectively.\n",
    "\n",
    "*Hint: the `.T` method helps.*\n",
    "\n",
    "Your completed array should have the following values...\n",
    "```\n",
    "array([[ 7, -2,  3],\n",
    "       [-9,  4, -1],\n",
    "       [ 2, -7,  5],\n",
    "       [13,  8, 11],\n",
    "       [ 1,  0, -4],\n",
    "       [-2,  9,  2]])\n",
    "```"
   ]
  },
  {
   "cell_type": "code",
   "execution_count": 0,
   "metadata": {
    "collapsed": false
   },
   "outputs": [
   ],
   "source": [
    "# Write your exercise 14 code in this cell only\n"
   ]
  },
  {
   "cell_type": "code",
   "execution_count": 0,
   "metadata": {
    "collapsed": false,
    "deletable": false,
    "editable": false,
    "jupyter": {
     "source_hidden": false
    },
    "nbgrader": {
     "grade": true,
     "grade_id": "exercise_14_autograde",
     "locked": true,
     "points": 0.5,
     "schema_version": 3,
     "solution": false,
     "task": false
    }
   },
   "outputs": [
   ],
   "source": [
    "# Your exercise 14 solution will be autotested/scored here"
   ]
  },
  {
   "cell_type": "markdown",
   "metadata": {
    "collapsed": false
   },
   "source": [
    "**Exercise 15**\n",
    "\n",
    "Create the following 2D array by first using a **single** `np.arange()` and/or `np.linspace()` to create **one 1D array** with **all** of the values present then change its shape with the `.reshape()` method. Print `A` after creating the array.\n",
    "\n",
    "$\\qquad\\displaystyle A = \\left[ \\begin{array}{cccccc} \n",
    "36 & 34 & 32 & 30 & 28 & 26 \\\\\n",
    "24 & 22 & 20 & 18 & 16 & 14 \\\\\n",
    "12 & 10 & 8 & 6 & 4 & 2 \\end{array}\\right] $\n",
    "\n",
    "Then use slicing do each of the following in their own code cells:\n",
    "- Create a six-element array that contains the elements of the second row of $A$. Your completed array should have the following values...\n",
    "    ```\n",
    "    array([24, 22, 20, 18, 16, 14])\n",
    "    ```\n",
    "- Create a three-element array that contains the elements of the sixth column of $A$. Your completed array should have the following values...\n",
    "    ```\n",
    "    array([26, 14,  2])\n",
    "    ```\n",
    "- Create a five-element array that contains the first two elements of the third row and the last three elements of the first row of $A$. Your completed array should have the following values...\n",
    "    ```\n",
    "    array([12, 10, 30, 28, 26])\n",
    "    ```"
   ]
  },
  {
   "cell_type": "code",
   "execution_count": 0,
   "metadata": {
    "collapsed": false
   },
   "outputs": [
   ],
   "source": [
    "# Create the exercise 15 initial multi-row array in this cell only\n"
   ]
  },
  {
   "cell_type": "code",
   "execution_count": 0,
   "metadata": {
    "collapsed": false,
    "deletable": false,
    "editable": false,
    "jupyter": {
     "source_hidden": false
    },
    "nbgrader": {
     "grade": true,
     "grade_id": "exercise_15_initial_autograde",
     "locked": true,
     "points": 0.5,
     "schema_version": 3,
     "solution": false,
     "task": false
    }
   },
   "outputs": [
   ],
   "source": [
    "# Your exercise 15 initial array solution will be autotested/scored here"
   ]
  },
  {
   "cell_type": "code",
   "execution_count": 0,
   "metadata": {
    "collapsed": false
   },
   "outputs": [
   ],
   "source": [
    "# Write your code for the first part of exercise 15 in this cell only\n"
   ]
  },
  {
   "cell_type": "code",
   "execution_count": 0,
   "metadata": {
    "collapsed": false,
    "deletable": false,
    "editable": false,
    "jupyter": {
     "source_hidden": false
    },
    "nbgrader": {
     "grade": true,
     "grade_id": "exercise_15_part1_autograde",
     "locked": true,
     "points": 0.25,
     "schema_version": 3,
     "solution": false,
     "task": false
    }
   },
   "outputs": [
   ],
   "source": [
    "# Your exercise 15 part 1 solution will be autotested/scored here"
   ]
  },
  {
   "cell_type": "code",
   "execution_count": 0,
   "metadata": {
    "collapsed": false
   },
   "outputs": [
   ],
   "source": [
    "# Write your code for the second part of exercise 15 in this cell only\n"
   ]
  },
  {
   "cell_type": "code",
   "execution_count": 0,
   "metadata": {
    "collapsed": false,
    "deletable": false,
    "editable": false,
    "jupyter": {
     "source_hidden": false
    },
    "nbgrader": {
     "grade": true,
     "grade_id": "exercise_15_part2_autograde",
     "locked": true,
     "points": 0.25,
     "schema_version": 3,
     "solution": false,
     "task": false
    }
   },
   "outputs": [
   ],
   "source": [
    "# Your exercise 15 part 2 solution will be autotested/scored here"
   ]
  },
  {
   "cell_type": "code",
   "execution_count": 0,
   "metadata": {
    "collapsed": false
   },
   "outputs": [
   ],
   "source": [
    "# Write your code for the third part of exercise 15 in this cell only\n"
   ]
  },
  {
   "cell_type": "code",
   "execution_count": 0,
   "metadata": {
    "collapsed": false,
    "deletable": false,
    "editable": false,
    "jupyter": {
     "source_hidden": false
    },
    "nbgrader": {
     "grade": true,
     "grade_id": "exercise_15_part3_autograde",
     "locked": true,
     "points": 0.25,
     "schema_version": 3,
     "solution": false,
     "task": false
    }
   },
   "outputs": [
   ],
   "source": [
    "# Your exercise 15 part 3 solution will be autotested/scored here"
   ]
  },
  {
   "cell_type": "markdown",
   "metadata": {
    "collapsed": false
   },
   "source": [
    "**Exercise 16**\n",
    "\n",
    "Create the following 2D array by using `np.append()`, `np.zeros()`, `np.arange()`, the `.reshape()` method, and `.T` only in one single expression. Each function or method should only be used once.\n",
    "\n",
    "$\\qquad\\displaystyle \\left[\\begin{array}{ccccc}\n",
    "0 & 0 & 0 & 0 & 8 \\\\\n",
    "0 & 0 & 0 & 0 & 7 \\\\\n",
    "0 & 0 & 0 & 0 & 6 \\end{array} \\right]$"
   ]
  },
  {
   "cell_type": "code",
   "execution_count": 0,
   "metadata": {
    "collapsed": false
   },
   "outputs": [
   ],
   "source": [
    "# Write your exercise 16 code in this cell only\n"
   ]
  },
  {
   "cell_type": "code",
   "execution_count": 0,
   "metadata": {
    "collapsed": false,
    "deletable": false,
    "editable": false,
    "jupyter": {
     "source_hidden": false
    },
    "nbgrader": {
     "grade": true,
     "grade_id": "exercise_16_autograde",
     "locked": true,
     "points": 0.75,
     "schema_version": 3,
     "solution": false,
     "task": false
    }
   },
   "outputs": [
   ],
   "source": [
    "# Your exercise 16 solution will be autotested/scored here"
   ]
  },
  {
   "cell_type": "markdown",
   "metadata": {
    "collapsed": false
   },
   "source": [
    "**Exercise 17**\n",
    "\n",
    "Use a single expression to create a six element 1D array such that the first value is 1.1 and the last value is 6.6 and all of the others are zero. Do not directly type the zeros; use NumPy functions or methods.\n",
    "\n",
    "*Hint: this may be a good place to try out* `np.insert()` *or* `np.hstack()`.\n",
    "\n",
    "Your completed array should have the following values...\n",
    "```\n",
    "array([1.1, 0. , 0. , 0. , 0. , 6.6])\n",
    "```"
   ]
  },
  {
   "cell_type": "code",
   "execution_count": 0,
   "metadata": {
    "collapsed": false
   },
   "outputs": [
   ],
   "source": [
    "# Write your exercise 17 code in this cell only\n"
   ]
  },
  {
   "cell_type": "code",
   "execution_count": 0,
   "metadata": {
    "collapsed": false,
    "deletable": false,
    "editable": false,
    "jupyter": {
     "source_hidden": false
    },
    "nbgrader": {
     "grade": true,
     "grade_id": "exercise_17_autograde",
     "locked": true,
     "points": 0.5,
     "schema_version": 3,
     "solution": false,
     "task": false
    }
   },
   "outputs": [
   ],
   "source": [
    "# Your exercise 16 solution will be autotested/scored here"
   ]
  },
  {
   "cell_type": "markdown",
   "metadata": {
    "collapsed": false
   },
   "source": [
    "**Wrap it up**\n",
    "\n",
    "Complete the finishing tasks stated in the instructions.\n"
   ]
  }
 ],
 "metadata": {
  "kernelspec": {
   "display_name": "Python 3 (system-wide)",
   "language": "python",
   "metadata": {
    "cocalc": {
     "description": "Python 3 programming language",
     "priority": 100,
     "url": "https://www.python.org/"
    }
   },
   "name": "python3",
   "resource_dir": "/ext/jupyter/kernels/python3"
  },
  "language_info": {
   "codemirror_mode": {
    "name": "ipython",
    "version": 3
   },
   "file_extension": ".py",
   "mimetype": "text/x-python",
   "name": "python",
   "nbconvert_exporter": "python",
   "pygments_lexer": "ipython3",
   "version": "3.9.7"
  },
  "nbgrader": {
   "__altered": false,
   "__hash": -935192573,
   "_root": {
    "entries": [
     [
      "size",
      5
     ],
     [
      "_root",
      {
       "entries": [
        [
         "__altered",
         false
        ],
        [
         "__hash",
         912286151
        ],
        [
         "_root",
         {
          "entries": [
           [
            "cocalc_minimal_stubs",
            true
           ]
          ],
          "ownerID": {
          }
         }
        ],
        [
         "cocalc_minimal_stubs",
         false
        ],
        [
         "size",
         1
        ]
       ],
       "ownerID": {
       }
      }
     ],
     [
      "__ownerID",
      null
     ],
     [
      "__hash",
      979574263
     ],
     [
      "__altered",
      false
     ],
     [
      "cocalc_minimal_stubs",
      false
     ]
    ],
    "ownerID": {
    }
   },
   "cocalc_minimal_stubs": false,
   "size": 6
  },
  "varInspector": {
   "cols": {
    "lenName": 16,
    "lenType": 16,
    "lenVar": 40
   },
   "kernels_config": {
    "python": {
     "delete_cmd_postfix": "",
     "delete_cmd_prefix": "del ",
     "library": "var_list.py",
     "varRefreshCmd": "print(var_dic_list())"
    },
    "r": {
     "delete_cmd_postfix": ") ",
     "delete_cmd_prefix": "rm(",
     "library": "var_list.r",
     "varRefreshCmd": "cat(var_dic_list()) "
    }
   },
   "types_to_exclude": [
    "module",
    "function",
    "builtin_function_or_method",
    "instance",
    "_Feature"
   ],
   "window_display": false
  }
 },
 "nbformat": 4,
 "nbformat_minor": 4
}