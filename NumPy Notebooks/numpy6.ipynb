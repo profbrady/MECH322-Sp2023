{
 "cells": [
  {
   "cell_type": "markdown",
   "metadata": {
    "collapsed": false,
    "run_control": {
     "frozen": true
    }
   },
   "source": [
    "# NumPy 6 - Calculus Practice"
   ]
  },
  {
   "cell_type": "code",
   "execution_count": 0,
   "metadata": {
    "collapsed": false
   },
   "outputs": [
   ],
   "source": [
    "name = \"Your name here\"\n",
    "\"Name:\" + name.upper()"
   ]
  },
  {
   "cell_type": "markdown",
   "metadata": {
    "collapsed": false
   },
   "source": [
    "## Instructions\n",
    "\n",
    "Follow the instructions provided for each exercise.\n",
    "\n",
    "Finish the assignment by...\n",
    "  - Saving your Jupyter Notebook and downloading it as a notebook (.ipynb) file (do not change the file name)\n",
    "  - Submitting the notebook files to the NumPy 6 assignment via Canvas\n",
    "  - Verifying that the auto grader marked each problem correct\n",
    "  - Fixing errors and resubmitting as necessary until the due date\n",
    "\n",
    "Your score will be determined by the auto grader results after the due date. Keep in mind that the auto grader may run additional tests on your final submission than were ran when the assignment was submitted."
   ]
  },
  {
   "cell_type": "markdown",
   "metadata": {
    "collapsed": false,
    "run_control": {
     "frozen": true
    }
   },
   "source": [
    "**Execute the following code cell to import the necessary modules for this notebook**"
   ]
  },
  {
   "cell_type": "code",
   "execution_count": 0,
   "metadata": {
    "collapsed": false
   },
   "outputs": [
   ],
   "source": [
    "import numpy as np\n",
    "from scipy import integrate, optimize\n",
    "from numpy.polynomial import polynomial as P\n",
    "import matplotlib.pyplot as plt\n",
    "from scipy import stats\n",
    "from scipy.misc import derivative\n",
    "np.set_printoptions(precision=5, suppress=True)"
   ]
  },
  {
   "cell_type": "markdown",
   "metadata": {
    "collapsed": false,
    "run_control": {
     "frozen": true
    }
   },
   "source": [
    "**Exercise 1**\n",
    "    \n",
    "A box of mass $m$ = 25 kg resting on a horizontal surface is being pulled by a rope that is at an angle $\\theta$ from the horizontal. The force required to move the box is given by:\n",
    "\n",
    "$\\qquad\\displaystyle F = \\frac{\\mu\\, m\\, g}{\\cos{\\theta}+\\mu\\cos{\\theta}}$\n",
    "\n",
    "Where $\\mu$ = 0.55 is the coefficient of friction and $g$ = 9.81 m/s$^2$. Determine the angle $\\theta$ where the pulling force is 150 N using the following procedure.\n",
    "    \n",
    "1. Assign values to `mu`, `m`, and `g`\n",
    "1. Make an anonymous function for $F$ named `F` in terms of the angle $\\theta$ (using `theta` for the variable name)\n",
    "2. Assign an array of angles from 1 to 80 degrees (inclusive) with a step size of 1 degree to `theta`\n",
    "2. Use the function `F` to create an array of associated forces and assign them to the name `force`\n",
    "3. Plot the force on the $y$-axis vs angle on the $x$-axis (code provided)\n",
    "4. Create a second anonymous function named `F1` where $F1(x) = F(x) - 150$\n",
    "5. Use the `optimize.fsolve()` function to find the angle at the zero crossing of `F1` and assign the value to `soln` then print `soln`\n",
    "6. Plug the angle assigned to `soln` back into the original function `F` to verify that the force is equal to 150 N at that angle\n",
    "7. Assign this result to the variable `F_150` and print it. The result should be an array with a single value in it."
   ]
  },
  {
   "cell_type": "code",
   "execution_count": 0,
   "metadata": {
    "collapsed": false
   },
   "outputs": [
   ],
   "source": [
    "# step 1: create a lambda function for F in terms of theta. assign values to mu, m , and g\n"
   ]
  },
  {
   "cell_type": "code",
   "execution_count": 0,
   "metadata": {
    "collapsed": false,
    "deletable": false,
    "editable": false,
    "jupyter": {
     "source_hidden": false
    },
    "nbgrader": {
     "grade": true,
     "grade_id": "ex_1_1_tests",
     "locked": true,
     "points": 0.5,
     "schema_version": 3,
     "solution": false,
     "task": false
    }
   },
   "outputs": [
   ],
   "source": [
    "# Your exercise 1 step 1 solution will be autotested/scored here"
   ]
  },
  {
   "cell_type": "code",
   "execution_count": 0,
   "metadata": {
    "collapsed": false
   },
   "outputs": [
   ],
   "source": [
    "# step 2: array of theta values from 1 to 80 degrees. use F(theta) to create `force` array\n"
   ]
  },
  {
   "cell_type": "code",
   "execution_count": 0,
   "metadata": {
    "collapsed": false,
    "deletable": false,
    "editable": false,
    "jupyter": {
     "source_hidden": false
    },
    "nbgrader": {
     "grade": true,
     "grade_id": "ex_1_2_tests",
     "locked": true,
     "points": 0.5,
     "schema_version": 3,
     "solution": false,
     "task": false
    }
   },
   "outputs": [
   ],
   "source": [
    "# Your exercise 1 step 2 solution will be autotested/scored here"
   ]
  },
  {
   "cell_type": "code",
   "execution_count": 0,
   "metadata": {
    "collapsed": false
   },
   "outputs": [
   ],
   "source": [
    "# step 3: plot theta, force\n",
    "# USE THIS CODE\n",
    "fig, ax = plt.subplots()\n",
    "ax.plot(theta, force)\n",
    "ax.set_xlabel('Angle (degrees)')\n",
    "ax.set_ylabel('Force (N)')\n",
    "plt.show()"
   ]
  },
  {
   "cell_type": "code",
   "execution_count": 0,
   "metadata": {
    "collapsed": false
   },
   "outputs": [
   ],
   "source": [
    "# step 4: create lambda function F1 as F(theta) - 150\n"
   ]
  },
  {
   "cell_type": "code",
   "execution_count": 0,
   "metadata": {
    "collapsed": false,
    "deletable": false,
    "editable": false,
    "jupyter": {
     "source_hidden": false
    },
    "nbgrader": {
     "grade": true,
     "grade_id": "ex_1_4_tests",
     "locked": true,
     "points": 0.25,
     "schema_version": 3,
     "solution": false,
     "task": false
    }
   },
   "outputs": [
   ],
   "source": [
    "# Your exercise 1 step 4 solution will be autotested/scored here"
   ]
  },
  {
   "cell_type": "code",
   "execution_count": 0,
   "metadata": {
    "collapsed": false
   },
   "outputs": [
   ],
   "source": [
    "# step 5: use optimize.fsolve() with an appropriate guess to find angle of zero crossing for F1\n"
   ]
  },
  {
   "cell_type": "code",
   "execution_count": 0,
   "metadata": {
    "collapsed": false,
    "deletable": false,
    "editable": false,
    "jupyter": {
     "source_hidden": false
    },
    "nbgrader": {
     "grade": true,
     "grade_id": "ex_1_5_tests",
     "locked": true,
     "points": 0.5,
     "schema_version": 3,
     "solution": false,
     "task": false
    }
   },
   "outputs": [
   ],
   "source": [
    "# Your exercise 1 step 5 solution will be autotested/scored here"
   ]
  },
  {
   "cell_type": "code",
   "execution_count": 0,
   "metadata": {
    "collapsed": false
   },
   "outputs": [
   ],
   "source": [
    "# step 6: plug result from step 5 into F to verify it is 150\n"
   ]
  },
  {
   "cell_type": "code",
   "execution_count": 0,
   "metadata": {
    "collapsed": false,
    "deletable": false,
    "editable": false,
    "jupyter": {
     "source_hidden": false
    },
    "nbgrader": {
     "grade": true,
     "grade_id": "ex_1_6_tests",
     "locked": true,
     "points": 0.25,
     "schema_version": 3,
     "solution": false,
     "task": false
    }
   },
   "outputs": [
   ],
   "source": [
    "# Your exercise 1 step 6 solution will be autotested/scored here"
   ]
  },
  {
   "cell_type": "markdown",
   "metadata": {
    "collapsed": false,
    "run_control": {
     "frozen": true
    }
   },
   "source": [
    "**Exercise 2**\n",
    "    \n",
    "Determine the local minimums and maximums of the function $\\displaystyle f(x) = \\frac{3(x-0.25)}{1 + 3.5(0.8x - 0.3)^2}$ over the $x$ range of $-6$ to $6$.\n",
    "\n",
    "1. Create anonymous functions of $f$ and $f1$  named `f` and `f1` where $f1$ equals $-f(x)$\n",
    "2. Plot the original function over the $x$ range of -6 to 6 (code provided)\n",
    "3. Use the plot to estimate the locations of the minimum and maximum. Then use the `optimize.fminbound()` function with the two anonymous functions to find the $x$ values of the minimum and maximum. Assign the values to `x_min_soln` and `x_max_soln`\n",
    "4. Plug these values back into the original anonymous function `f` to find the $y$ values of the local minimum and maximum and assign these results to `y_min_soln` and `y_max_soln`. Print the x, y coordinates for both the local minimum and the local maximum using statements like: `Local minimum located at x = XXX, y = YYY`"
   ]
  },
  {
   "cell_type": "code",
   "execution_count": 0,
   "metadata": {
    "collapsed": false
   },
   "outputs": [
   ],
   "source": [
    "# step 1: create 'f' as a lambda function then create 'f1' as a lambda function\n"
   ]
  },
  {
   "cell_type": "code",
   "execution_count": 0,
   "metadata": {
    "collapsed": false,
    "deletable": false,
    "editable": false,
    "jupyter": {
     "source_hidden": false
    },
    "nbgrader": {
     "grade": true,
     "grade_id": "ex_2_1_tests",
     "locked": true,
     "points": 0.5,
     "schema_version": 3,
     "solution": false,
     "task": false
    }
   },
   "outputs": [
   ],
   "source": [
    "# Your exercise 2 step 1 solution will be autotested/scored here"
   ]
  },
  {
   "cell_type": "code",
   "execution_count": 0,
   "metadata": {
    "collapsed": false
   },
   "outputs": [
   ],
   "source": [
    "# step 2: plot 'x, f(x)' over the range -6 to 6\n",
    "# USE THIS CODE\n",
    "x = np.linspace(-6, 6, 100)\n",
    "fig, ax = plt.subplots()\n",
    "ax.plot(x, f(x))\n",
    "plt.show()"
   ]
  },
  {
   "cell_type": "code",
   "execution_count": 0,
   "metadata": {
    "collapsed": false
   },
   "outputs": [
   ],
   "source": [
    "# step 3: optimize.fminbound() with 'f' and 'f1' to find x-locations of min and max\n",
    "# Assign results to 'x_min_soln' and 'x_max_soln'\n"
   ]
  },
  {
   "cell_type": "code",
   "execution_count": 0,
   "metadata": {
    "collapsed": false,
    "deletable": false,
    "editable": false,
    "jupyter": {
     "source_hidden": false
    },
    "nbgrader": {
     "grade": true,
     "grade_id": "ex_2_3_tests",
     "locked": true,
     "points": 0.5,
     "schema_version": 3,
     "solution": false,
     "task": false
    }
   },
   "outputs": [
   ],
   "source": [
    "# Your exercise 2 step 3 solution will be autotested/scored here"
   ]
  },
  {
   "cell_type": "code",
   "execution_count": 0,
   "metadata": {
    "collapsed": false,
    "jupyter": {
     "source_hidden": false
    }
   },
   "outputs": [
   ],
   "source": [
    "# step 4: find y-values of min and max using 'f' and the above x-locations\n",
    "# Assign the results to `y_min_soln` and `y_max_soln`\n",
    "# Don't forget to print the results as stated\n"
   ]
  },
  {
   "cell_type": "code",
   "execution_count": 0,
   "metadata": {
    "collapsed": false,
    "deletable": false,
    "editable": false,
    "jupyter": {
     "source_hidden": false
    },
    "nbgrader": {
     "grade": true,
     "grade_id": "ex_2_4_tests",
     "locked": true,
     "points": 1,
     "schema_version": 3,
     "solution": false,
     "task": false
    }
   },
   "outputs": [
   ],
   "source": [
    "# Your exercise 2 step 4 solution will be autotested/scored here"
   ]
  },
  {
   "cell_type": "markdown",
   "metadata": {
    "collapsed": false,
    "run_control": {
     "frozen": true
    }
   },
   "source": [
    "**Exercise 3**\n",
    "\n",
    "Calculate the following definite integrals using `integrate.quad()`. Do not assign the answers to variables, just write the necessary expressions and execute the cells. Use the `np.exp()` function any place there is $e$ to a power.\n",
    "\n",
    "1. $\\displaystyle\\large \\int_2^{10}{\\frac{0.5x^3}{1+2\\sqrt{x}}}dx \\\\ $\n",
    "\n",
    "2. $\\displaystyle\\large \\int_0^{4\\pi}{\\cos(x)e^{\\sqrt{x}}}dx$\n"
   ]
  },
  {
   "cell_type": "code",
   "execution_count": 0,
   "metadata": {
    "collapsed": false
   },
   "outputs": [
   ],
   "source": [
    "# write your exercise 3 part 1 code here\n"
   ]
  },
  {
   "cell_type": "code",
   "execution_count": 0,
   "metadata": {
    "collapsed": false,
    "deletable": false,
    "editable": false,
    "jupyter": {
     "source_hidden": false
    },
    "nbgrader": {
     "grade": true,
     "grade_id": "ex_3_1_tests",
     "locked": true,
     "points": 0.5,
     "schema_version": 3,
     "solution": false,
     "task": false
    }
   },
   "outputs": [
   ],
   "source": [
    "# Your exercise 3 part 1 solution will be autotested/scored here"
   ]
  },
  {
   "cell_type": "code",
   "execution_count": 0,
   "metadata": {
    "collapsed": false
   },
   "outputs": [
   ],
   "source": [
    "# write your exercise 3 part 2 code here\n"
   ]
  },
  {
   "cell_type": "code",
   "execution_count": 0,
   "metadata": {
    "collapsed": false,
    "deletable": false,
    "editable": false,
    "jupyter": {
     "source_hidden": false
    },
    "nbgrader": {
     "grade": true,
     "grade_id": "ex_3_2_tests",
     "locked": true,
     "points": 0.5,
     "schema_version": 3,
     "solution": false,
     "task": false
    }
   },
   "outputs": [
   ],
   "source": [
    "# Your exercise 3 part 2 solution will be autotested/scored here"
   ]
  },
  {
   "cell_type": "markdown",
   "metadata": {
    "collapsed": false,
    "run_control": {
     "frozen": true
    }
   },
   "source": [
    "**Exercise 4**\n",
    "\n",
    "A cross section of a river bed has the following measurements of its depth (in feet) at 40  ft intervals, starting at the left edge:\n",
    "\n",
    "0, 40, 96, 140, 147, 121, 117, 139, 140, 62, 18, 0\n",
    "\n",
    "Create an array with the given depths and name it `depth`. Also, create an array of locations of the depths from the left edge using `np.arange()` and the length of the `depth` array and assign it to the variable `x`. Use `np.trapz()` to estimate the cross-sectional area of the river and assign the result to `area` then print `area`. Plot the cross section of the river (make the surface of the \"water\" zero and the depths appear below the surface)."
   ]
  },
  {
   "cell_type": "code",
   "execution_count": 0,
   "metadata": {
    "collapsed": false
   },
   "outputs": [
   ],
   "source": [
    "# create the array 'depth' using the given values (keep the values positive)\n",
    "# then use np.arange and the length of the depth array to create 'x'\n"
   ]
  },
  {
   "cell_type": "code",
   "execution_count": 0,
   "metadata": {
    "collapsed": false,
    "deletable": false,
    "editable": false,
    "jupyter": {
     "source_hidden": false
    },
    "nbgrader": {
     "grade": true,
     "grade_id": "ex_4_1_tests",
     "locked": true,
     "points": 0.5,
     "schema_version": 3,
     "solution": false,
     "task": false
    }
   },
   "outputs": [
   ],
   "source": [
    "# The first part of your exercise 4 solution will be autotested/scored here"
   ]
  },
  {
   "cell_type": "code",
   "execution_count": 0,
   "metadata": {
    "collapsed": false
   },
   "outputs": [
   ],
   "source": [
    "# calculate 'area' using np.trapz() (be careful with the order of the arguments)\n",
    "# then print 'area'\n"
   ]
  },
  {
   "cell_type": "code",
   "execution_count": 0,
   "metadata": {
    "collapsed": false,
    "deletable": false,
    "editable": false,
    "jupyter": {
     "source_hidden": false
    },
    "nbgrader": {
     "grade": true,
     "grade_id": "ex_4_2_tests",
     "locked": true,
     "points": 0.5,
     "schema_version": 3,
     "solution": false,
     "task": false
    }
   },
   "outputs": [
   ],
   "source": [
    "# The second part of your exercise 4 solution will be autotested/scored here"
   ]
  },
  {
   "cell_type": "code",
   "execution_count": 0,
   "metadata": {
    "collapsed": false
   },
   "outputs": [
   ],
   "source": [
    "# plot the river cross-section using the provided plotting commands\n",
    "# USE THIS CODE\n",
    "fig, ax = plt.subplots(figsize=(6,3),dpi=150)\n",
    "ax.fill_between(x,-depth)\n",
    "ax.axis('equal')\n",
    "plt.show()"
   ]
  },
  {
   "cell_type": "markdown",
   "metadata": {
    "collapsed": false,
    "run_control": {
     "frozen": true
    }
   },
   "source": [
    "**Wrap it up**\n",
    "\n",
    "Complete the finishing tasks stated in the instructions.\n"
   ]
  }
 ],
 "metadata": {
  "kernelspec": {
   "display_name": "Python 3 (system-wide)",
   "language": "python",
   "metadata": {
    "cocalc": {
     "description": "Python 3 programming language",
     "priority": 100,
     "url": "https://www.python.org/"
    }
   },
   "name": "python3",
   "resource_dir": "/ext/jupyter/kernels/python3"
  },
  "language_info": {
   "codemirror_mode": {
    "name": "ipython",
    "version": 3
   },
   "file_extension": ".py",
   "mimetype": "text/x-python",
   "name": "python",
   "nbconvert_exporter": "python",
   "pygments_lexer": "ipython3",
   "version": "3.9.7"
  },
  "nbgrader": {
   "__altered": false,
   "__hash": 342004852,
   "_root": {
    "entries": [
     [
      "__altered",
      false
     ],
     [
      "__hash",
      317186325
     ],
     [
      "_root",
      {
       "entries": [
        [
         "cocalc_minimal_stubs",
         false
        ]
       ],
       "ownerID": {
       }
      }
     ],
     [
      "cocalc_minimal_stubs",
      false
     ],
     [
      "size",
      1
     ]
    ],
    "ownerID": {
    }
   },
   "cocalc_minimal_stubs": false,
   "size": 5
  },
  "varInspector": {
   "cols": {
    "lenName": 16,
    "lenType": 16,
    "lenVar": 40
   },
   "kernels_config": {
    "python": {
     "delete_cmd_postfix": "",
     "delete_cmd_prefix": "del ",
     "library": "var_list.py",
     "varRefreshCmd": "print(var_dic_list())"
    },
    "r": {
     "delete_cmd_postfix": ") ",
     "delete_cmd_prefix": "rm(",
     "library": "var_list.r",
     "varRefreshCmd": "cat(var_dic_list()) "
    }
   },
   "types_to_exclude": [
    "module",
    "function",
    "builtin_function_or_method",
    "instance",
    "_Feature"
   ],
   "window_display": false
  }
 },
 "nbformat": 4,
 "nbformat_minor": 4
}