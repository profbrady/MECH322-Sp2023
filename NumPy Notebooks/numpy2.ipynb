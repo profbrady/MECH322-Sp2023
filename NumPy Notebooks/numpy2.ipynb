{
 "cells": [
  {
   "cell_type": "markdown",
   "metadata": {
    "collapsed": false,
    "run_control": {
     "frozen": true
    }
   },
   "source": [
    "# NumPy 2 - Array Math Practice"
   ]
  },
  {
   "cell_type": "code",
   "execution_count": 0,
   "metadata": {
    "collapsed": false
   },
   "outputs": [
   ],
   "source": [
    "name = \"Your name here\"\n",
    "\"Name:\" + name.upper()"
   ]
  },
  {
   "cell_type": "markdown",
   "metadata": {
    "collapsed": false
   },
   "source": [
    "## Instructions\n",
    "\n",
    "Complete each of the exercises per the instructions given. When done, save and submit this notebook (**`numpy2.ipynb`**) to Canvas for auto grading."
   ]
  },
  {
   "cell_type": "markdown",
   "metadata": {
    "collapsed": false,
    "run_control": {
     "frozen": true
    }
   },
   "source": [
    "**Execute the following code cell to be able to use *NumPy* commands and `tabulate` in the rest of the assignment.**"
   ]
  },
  {
   "cell_type": "code",
   "execution_count": 0,
   "metadata": {
    "collapsed": false
   },
   "outputs": [
   ],
   "source": [
    "import numpy as np\n",
    "from tabulate import tabulate\n",
    "np.set_printoptions(precision=5, suppress=True)"
   ]
  },
  {
   "cell_type": "markdown",
   "metadata": {
    "collapsed": false,
    "run_control": {
     "frozen": true
    }
   },
   "source": [
    "**Exercise 1**\n",
    "\n",
    "For the function $y = x^2 - e^{0.5x} + x$, calculate the values of $y$ for $x$ = (-3, -2, -1, 0, 1, 2, 3). Use `np.arange()` to create $x$. Assign the arrays to the variables `x` and `y` and print `y`."
   ]
  },
  {
   "cell_type": "code",
   "execution_count": 0,
   "metadata": {
    "collapsed": false
   },
   "outputs": [
   ],
   "source": [
    "# Write your exercise 1 code in this cell only\n"
   ]
  },
  {
   "cell_type": "code",
   "execution_count": 0,
   "metadata": {
    "collapsed": false,
    "deletable": false,
    "editable": false,
    "jupyter": {
     "source_hidden": false
    },
    "nbgrader": {
     "grade": true,
     "grade_id": "ex1",
     "locked": true,
     "points": 0.5,
     "schema_version": 3,
     "solution": false,
     "task": false
    }
   },
   "outputs": [
   ],
   "source": [
    "# Your exercise 1 solution will be autotested/scored here"
   ]
  },
  {
   "cell_type": "markdown",
   "metadata": {
    "collapsed": false,
    "run_control": {
     "frozen": true
    }
   },
   "source": [
    "**Exercise 2**\n",
    "\n",
    "For the function $\\displaystyle y = \\frac{(x+5)^3}{x^2}$, calculate the values of $y$ where $x$ is an array of all integers from 1 to 6 inclusive. Use `np.arange()` to create $x$. Assign the arrays to `x` and `y` and print `y`."
   ]
  },
  {
   "cell_type": "code",
   "execution_count": 0,
   "metadata": {
    "collapsed": false
   },
   "outputs": [
   ],
   "source": [
    "# Write your exercise 2 code in this cell only\n"
   ]
  },
  {
   "cell_type": "code",
   "execution_count": 0,
   "metadata": {
    "collapsed": false,
    "deletable": false,
    "editable": false,
    "jupyter": {
     "source_hidden": false
    },
    "nbgrader": {
     "grade": true,
     "grade_id": "ex2",
     "locked": true,
     "points": 0.5,
     "schema_version": 3,
     "solution": false,
     "task": false
    }
   },
   "outputs": [
   ],
   "source": [
    "# Your exercise 2 solution will be autotested/scored here"
   ]
  },
  {
   "cell_type": "markdown",
   "metadata": {
    "collapsed": false,
    "run_control": {
     "frozen": true
    }
   },
   "source": [
    "**Exercise 3**\n",
    "\n",
    "For the function $\\displaystyle y = \\frac{(x+7)^4}{(x+1)\\sqrt{x}}$, calculate the values of $y$ where $x$ is an array of 6 equally spaced values from 1.5 to 6.5 inclusive. Use `np.linspace()` to create $x$. Assign the arrays to `x` and `y` and print `y`."
   ]
  },
  {
   "cell_type": "code",
   "execution_count": 0,
   "metadata": {
    "collapsed": false
   },
   "outputs": [
   ],
   "source": [
    "# Write your exercise 3 code in this cell only\n"
   ]
  },
  {
   "cell_type": "code",
   "execution_count": 0,
   "metadata": {
    "collapsed": false,
    "deletable": false,
    "editable": false,
    "jupyter": {
     "source_hidden": false
    },
    "nbgrader": {
     "grade": true,
     "grade_id": "ex3",
     "locked": true,
     "points": 0.5,
     "schema_version": 3,
     "solution": false,
     "task": false
    }
   },
   "outputs": [
   ],
   "source": [
    "# Your exercise 3 solution will be autotested/scored here"
   ]
  },
  {
   "cell_type": "markdown",
   "metadata": {
    "collapsed": false,
    "run_control": {
     "frozen": true
    }
   },
   "source": [
    "**Exercise 4**\n",
    "\n",
    "For the function $\\displaystyle y = \\frac{2\\sin{x}+\\cos^2{x}}{\\sin^2{x}}$, calculate the values of $y$ for $x$ = (20, 30, 40, 50, 60, 70) degrees. Use `np.arange()` to create $x$. Assign the arrays to `x` and `y` and print `y`."
   ]
  },
  {
   "cell_type": "code",
   "execution_count": 0,
   "metadata": {
    "collapsed": false
   },
   "outputs": [
   ],
   "source": [
    "# Write your exercise 4 code in this cell only\n"
   ]
  },
  {
   "cell_type": "code",
   "execution_count": 0,
   "metadata": {
    "collapsed": false,
    "deletable": false,
    "editable": false,
    "jupyter": {
     "source_hidden": false
    },
    "nbgrader": {
     "grade": true,
     "grade_id": "ex4",
     "locked": true,
     "points": 0.5,
     "schema_version": 3,
     "solution": false,
     "task": false
    }
   },
   "outputs": [
   ],
   "source": [
    "# Your exercise 4 solution will be autotested/scored here"
   ]
  },
  {
   "cell_type": "markdown",
   "metadata": {
    "collapsed": false,
    "run_control": {
     "frozen": true
    }
   },
   "source": [
    "**Exercise 5**\n",
    "\n",
    "The radius $r$ of a sphere can be calculated from its surface area $s$ by:\n",
    "\n",
    "$\\qquad\\displaystyle r = \\frac{\\sqrt{s/\\pi}}{2}$\n",
    "\n",
    "The volume $V$ is given by:\n",
    "\n",
    "$\\qquad\\displaystyle V = \\frac{4\\pi r^3}{3}$\n",
    "\n",
    "Determine the volume of spheres with surface areas of 50, 100, 150, 200, 250, 300 ft$^2$. Use `tabulate` to display the results in a two-column table with headers (and units) where values of $s$ and $V$ are displayed in the first and second columns, respectively. Use the variable names `r`, `s`, and `V`. Use either `np.arange()` or `np.linspace()` to create the initial `s` array."
   ]
  },
  {
   "cell_type": "code",
   "execution_count": 0,
   "metadata": {
    "collapsed": false
   },
   "outputs": [
   ],
   "source": [
    "# Write your exercise 5 code in this cell only\n"
   ]
  },
  {
   "cell_type": "code",
   "execution_count": 0,
   "metadata": {
    "collapsed": false,
    "deletable": false,
    "editable": false,
    "jupyter": {
     "source_hidden": false
    },
    "nbgrader": {
     "grade": true,
     "grade_id": "ex5",
     "locked": true,
     "points": 1,
     "schema_version": 3,
     "solution": false,
     "task": false
    }
   },
   "outputs": [
   ],
   "source": [
    "# Your exercise 5 solution will be autotested/scored here"
   ]
  },
  {
   "cell_type": "markdown",
   "metadata": {
    "collapsed": false,
    "run_control": {
     "frozen": true
    }
   },
   "source": [
    "**Exercise 6**\n",
    "\n",
    "The length $|\\textbf{u}|$ (magnitude) of a vector $\\textbf{u} = x\\textbf{i} + y\\textbf{j} + z\\textbf{k}$ is given by $|\\textbf{u}| = \\sqrt{x^2+y^2+z^2}$. Given a vector $\\textbf{u} = 23.5\\textbf{i}-17\\textbf{j}+6\\textbf{k}$, determine its length in the following two ways:\n",
    "1. Define the vector as a 3-item array $[x,y,z]$ and then write a mathematical expression that uses the components of the vector, i.e. `u[0]`, to calculate the length. Assign the result to the variable `u1` then print `u1`\n",
    "1. Determine the length by writing a single expression that uses element-by-element operations along with the `np.sum()` and `np.sqrt()` functions. Assign the result to the variable `u2` then print `u2`"
   ]
  },
  {
   "cell_type": "code",
   "execution_count": 0,
   "metadata": {
    "collapsed": false
   },
   "outputs": [
   ],
   "source": [
    "# Write your exercise 6 part 1 code in this cell only\n"
   ]
  },
  {
   "cell_type": "code",
   "execution_count": 0,
   "metadata": {
    "collapsed": false,
    "deletable": false,
    "editable": false,
    "jupyter": {
     "source_hidden": false
    },
    "nbgrader": {
     "grade": true,
     "grade_id": "ex6_1",
     "locked": true,
     "points": 0.5,
     "schema_version": 3,
     "solution": false,
     "task": false
    }
   },
   "outputs": [
   ],
   "source": [
    "# Your exercise 6 part 1 solution will be autotested/scored here"
   ]
  },
  {
   "cell_type": "code",
   "execution_count": 0,
   "metadata": {
    "collapsed": false
   },
   "outputs": [
   ],
   "source": [
    "# Write your exercise 6 part 2 code in this cell only\n"
   ]
  },
  {
   "cell_type": "code",
   "execution_count": 0,
   "metadata": {
    "collapsed": false,
    "deletable": false,
    "editable": false,
    "jupyter": {
     "source_hidden": false
    },
    "nbgrader": {
     "grade": true,
     "grade_id": "ex6_2",
     "locked": true,
     "points": 0.5,
     "schema_version": 3,
     "solution": false,
     "task": false
    }
   },
   "outputs": [
   ],
   "source": [
    "# Your exercise 6 part 2 solution will be autotested/scored here"
   ]
  },
  {
   "cell_type": "markdown",
   "metadata": {
    "collapsed": false,
    "run_control": {
     "frozen": true
    }
   },
   "source": [
    "**Exercise 7**\n",
    "\n",
    "A vector $\\textbf{w}_L$ of length $L$ that points in the direction of a vector $\\textbf{u} = x\\textbf{i} + y\\textbf{j} + z\\textbf{k}$ can be calculated using $\\textbf{w}_L = L\\textbf{u}_n$ (multiplying a unit vector in the direction of $\\textbf{u}$ by length $L$). The unit vector $\\textbf{u}_n$ in the direction of the vector $\\textbf{u}$ is given by\n",
    "\n",
    "$\\qquad\\displaystyle \\textbf{u}_n = \\frac{x\\textbf{i} + y\\textbf{j} + z\\textbf{k}}{\\sqrt{x^2+y^2+z^2}}$.\n",
    "\n",
    "Determine the $x,y,z$ values of a vector of length $L=18$ that lies in the same direction as the vector $\\textbf{u} = 7\\textbf{i} - 4\\textbf{j} -11\\textbf{k}$. First assign the length value to `L` and create an array with the $x,y,z$ components and assign to `u`, then use a single expression to calculate and assign `w_L`. Your results should be in the form of an array. Print the array `w_L`."
   ]
  },
  {
   "cell_type": "code",
   "execution_count": 0,
   "metadata": {
    "collapsed": false
   },
   "outputs": [
   ],
   "source": [
    "# Write your exercise 7 code in this cell only\n"
   ]
  },
  {
   "cell_type": "code",
   "execution_count": 0,
   "metadata": {
    "collapsed": false,
    "deletable": false,
    "editable": false,
    "jupyter": {
     "source_hidden": false
    },
    "nbgrader": {
     "grade": true,
     "grade_id": "ex7",
     "locked": true,
     "points": 0.5,
     "schema_version": 3,
     "solution": false,
     "task": false
    }
   },
   "outputs": [
   ],
   "source": [
    "# Your exercise 7 solution will be autotested/scored here"
   ]
  },
  {
   "cell_type": "markdown",
   "metadata": {
    "collapsed": false,
    "run_control": {
     "frozen": true
    }
   },
   "source": [
    "**Exercise 8**\n",
    "\n",
    "Define the array $v$ = (2, 3, 4, 5, 6) using `np.arange()`. Then use the array and mathematical expressions to create the following arrays (you must use `v` in each expression):\n",
    "\n",
    "1. $4, 6, 8, 10, 12$\n",
    "\n",
    "1. $8, 27, 64, 125, 216$\n",
    "\n",
    "1. $2^2, 3^3, 4^4, 5^5, 6^6$\n",
    "\n",
    "1. $1.0, 1.5, 2.0, 2.5, 3.0$"
   ]
  },
  {
   "cell_type": "code",
   "execution_count": 0,
   "metadata": {
    "collapsed": false
   },
   "outputs": [
   ],
   "source": [
    "# Write your exercise 8 part 1 code in this cell only\n"
   ]
  },
  {
   "cell_type": "code",
   "execution_count": 0,
   "metadata": {
    "collapsed": false,
    "deletable": false,
    "editable": false,
    "jupyter": {
     "source_hidden": false
    },
    "nbgrader": {
     "grade": true,
     "grade_id": "ex8_1",
     "locked": true,
     "points": 0.25,
     "schema_version": 3,
     "solution": false,
     "task": false
    }
   },
   "outputs": [
   ],
   "source": [
    "# Your exercise 8 part 1 solution will be autotested/scored here"
   ]
  },
  {
   "cell_type": "code",
   "execution_count": 0,
   "metadata": {
    "collapsed": false
   },
   "outputs": [
   ],
   "source": [
    "# Write your exercise 8 part 1 code in this cell only\n"
   ]
  },
  {
   "cell_type": "code",
   "execution_count": 0,
   "metadata": {
    "collapsed": false,
    "deletable": false,
    "editable": false,
    "jupyter": {
     "source_hidden": false
    },
    "nbgrader": {
     "grade": true,
     "grade_id": "ex8_2",
     "locked": true,
     "points": 0.25,
     "schema_version": 3,
     "solution": false,
     "task": false
    }
   },
   "outputs": [
   ],
   "source": [
    "# Your exercise 8 part 2 solution will be autotested/scored here"
   ]
  },
  {
   "cell_type": "code",
   "execution_count": 0,
   "metadata": {
    "collapsed": false
   },
   "outputs": [
   ],
   "source": [
    "# Write your exercise 8 part 3 code in this cell only\n"
   ]
  },
  {
   "cell_type": "code",
   "execution_count": 0,
   "metadata": {
    "collapsed": false,
    "deletable": false,
    "editable": false,
    "jupyter": {
     "source_hidden": false
    },
    "nbgrader": {
     "grade": true,
     "grade_id": "ex8_3",
     "locked": true,
     "points": 0.25,
     "schema_version": 3,
     "solution": false,
     "task": false
    }
   },
   "outputs": [
   ],
   "source": [
    "# Your exercise 8 part 3 solution will be autotested/scored here"
   ]
  },
  {
   "cell_type": "code",
   "execution_count": 0,
   "metadata": {
    "collapsed": false
   },
   "outputs": [
   ],
   "source": [
    "# Write your exercise 8 part 4 code in this cell only\n"
   ]
  },
  {
   "cell_type": "code",
   "execution_count": 0,
   "metadata": {
    "collapsed": false,
    "deletable": false,
    "editable": false,
    "jupyter": {
     "source_hidden": false
    },
    "nbgrader": {
     "grade": true,
     "grade_id": "ex8_4",
     "locked": true,
     "points": 0.25,
     "schema_version": 3,
     "solution": false,
     "task": false
    }
   },
   "outputs": [
   ],
   "source": [
    "# Your exercise 8 part 4 solution will be autotested/scored here"
   ]
  },
  {
   "cell_type": "markdown",
   "metadata": {
    "collapsed": false,
    "run_control": {
     "frozen": true
    }
   },
   "source": [
    "**Exercise 9**\n",
    "\n",
    "Define the array $v$ = [8, 6, 4, 2] using `np.arange()`. Then use the array and mathematical expressions to create the following arrays (you must use `v` in each expression):\n",
    "1. $1, 1, 1, 1$\n",
    "\n",
    "1. $\\displaystyle \\frac{1}{8^2}, \\frac{1}{6^2}, \\frac{1}{4^2}, \\frac{1}{2^2}$\n",
    "\n",
    "1. $\\displaystyle \\frac{1}{\\sqrt{8}}, \\frac{1}{\\sqrt{6}}, \\frac{1}{\\sqrt{4}}, \\frac{1}{\\sqrt{2}}$\n",
    "\n",
    "1. $3, 1, -1, -3$"
   ]
  },
  {
   "cell_type": "code",
   "execution_count": 0,
   "metadata": {
    "collapsed": false
   },
   "outputs": [
   ],
   "source": [
    "# Write your exercise 9 part 1 code in this cell only\n"
   ]
  },
  {
   "cell_type": "code",
   "execution_count": 0,
   "metadata": {
    "collapsed": false,
    "deletable": false,
    "editable": false,
    "jupyter": {
     "source_hidden": false
    },
    "nbgrader": {
     "grade": true,
     "grade_id": "ex9_1",
     "locked": true,
     "points": 0.25,
     "schema_version": 3,
     "solution": false,
     "task": false
    }
   },
   "outputs": [
   ],
   "source": [
    "# Your exercise 9 part 1 solution will be autotested/scored here"
   ]
  },
  {
   "cell_type": "code",
   "execution_count": 0,
   "metadata": {
    "collapsed": false
   },
   "outputs": [
   ],
   "source": [
    "# Write your exercise 9 part 2 code in this cell only\n"
   ]
  },
  {
   "cell_type": "code",
   "execution_count": 0,
   "metadata": {
    "collapsed": false,
    "deletable": false,
    "editable": false,
    "jupyter": {
     "source_hidden": false
    },
    "nbgrader": {
     "grade": true,
     "grade_id": "ex9_2",
     "locked": true,
     "points": 0.25,
     "schema_version": 3,
     "solution": false,
     "task": false
    }
   },
   "outputs": [
   ],
   "source": [
    "# Your exercise 9 part 2 solution will be autotested/scored here"
   ]
  },
  {
   "cell_type": "code",
   "execution_count": 0,
   "metadata": {
    "collapsed": false
   },
   "outputs": [
   ],
   "source": [
    "# Write your exercise 9 part 3 code in this cell only\n"
   ]
  },
  {
   "cell_type": "code",
   "execution_count": 0,
   "metadata": {
    "collapsed": false,
    "deletable": false,
    "editable": false,
    "jupyter": {
     "source_hidden": false
    },
    "nbgrader": {
     "grade": true,
     "grade_id": "ex9_3",
     "locked": true,
     "points": 0.25,
     "schema_version": 3,
     "solution": false,
     "task": false
    }
   },
   "outputs": [
   ],
   "source": [
    "# Your exercise 9 part 3 solution will be autotested/scored here"
   ]
  },
  {
   "cell_type": "code",
   "execution_count": 0,
   "metadata": {
    "collapsed": false
   },
   "outputs": [
   ],
   "source": [
    "# Write your exercise 9 part 4 code in this cell only\n"
   ]
  },
  {
   "cell_type": "code",
   "execution_count": 0,
   "metadata": {
    "collapsed": false,
    "deletable": false,
    "editable": false,
    "jupyter": {
     "source_hidden": false
    },
    "nbgrader": {
     "grade": true,
     "grade_id": "ex9_4",
     "locked": true,
     "points": 0.25,
     "schema_version": 3,
     "solution": false,
     "task": false
    }
   },
   "outputs": [
   ],
   "source": [
    "# Your exercise 9 part 4 solution will be autotested/scored here"
   ]
  },
  {
   "cell_type": "markdown",
   "metadata": {
    "collapsed": false,
    "run_control": {
     "frozen": true
    }
   },
   "source": [
    "**Exercise 10**\n",
    "\n",
    "Define the scalars $r$ = 1600 and $s$ =14.2 and the arrays $t$ = (1, 2, 3, 4, 5), $x$ = (0, 2, 4, 6, 8), and $y$ = (3, 6, 9, 12, 15) in the first code cell; assigning the values and arrays to the variables `r`, `s`, `t`, `x`, and `y`. Create the arrays with either `np.arange()` or `np.linspace()` instead of manually typing the values. Use these variables to calculate the following expressions in the next two code cells; assigning the results to `G` and `R`. Print `G` and `R`.\n",
    "\n",
    "1. $\\displaystyle G = x\\,t + \\frac{r}{s^2}(y^2 -x)t$\n",
    "\n",
    "2. $\\displaystyle R = \\frac{r(-x\\,t+y\\,t^2)}{15}-s^2(y-0.5x^2)t$"
   ]
  },
  {
   "cell_type": "code",
   "execution_count": 0,
   "metadata": {
    "collapsed": false
   },
   "outputs": [
   ],
   "source": [
    "# Write your exercise 10 code for assigning values and arrays to variables in this cell only\n"
   ]
  },
  {
   "cell_type": "code",
   "execution_count": 0,
   "metadata": {
    "collapsed": false,
    "deletable": false,
    "editable": false,
    "jupyter": {
     "source_hidden": false
    },
    "nbgrader": {
     "grade": true,
     "grade_id": "ex10",
     "locked": true,
     "points": 0.25,
     "schema_version": 3,
     "solution": false,
     "task": false
    }
   },
   "outputs": [
   ],
   "source": [
    "# Your exercise 10 solution for assigning arrays will be autotested/scored here"
   ]
  },
  {
   "cell_type": "code",
   "execution_count": 0,
   "metadata": {
    "collapsed": false
   },
   "outputs": [
   ],
   "source": [
    "# Write your exercise 10 part 1 code in this cell only\n"
   ]
  },
  {
   "cell_type": "code",
   "execution_count": 0,
   "metadata": {
    "collapsed": false,
    "deletable": false,
    "editable": false,
    "jupyter": {
     "source_hidden": false
    },
    "nbgrader": {
     "grade": true,
     "grade_id": "ex10_1",
     "locked": true,
     "points": 0.5,
     "schema_version": 3,
     "solution": false,
     "task": false
    }
   },
   "outputs": [
   ],
   "source": [
    "# Your exercise 10 part 1 solution will be autotested/scored here"
   ]
  },
  {
   "cell_type": "code",
   "execution_count": 0,
   "metadata": {
    "collapsed": false
   },
   "outputs": [
   ],
   "source": [
    "# Write your exercise 10 part 2 code in this cell only\n"
   ]
  },
  {
   "cell_type": "code",
   "execution_count": 0,
   "metadata": {
    "collapsed": false,
    "deletable": false,
    "editable": false,
    "jupyter": {
     "source_hidden": false
    },
    "nbgrader": {
     "grade": true,
     "grade_id": "ex10_2",
     "locked": true,
     "points": 0.5,
     "schema_version": 3,
     "solution": false,
     "task": false
    }
   },
   "outputs": [
   ],
   "source": [
    "# Your exercise 10 part 2 solution will be autotested/scored here"
   ]
  },
  {
   "cell_type": "markdown",
   "metadata": {
    "collapsed": false,
    "run_control": {
     "frozen": true
    }
   },
   "source": [
    "**Exercise 11**\n",
    "\n",
    "Use *NumPy* to show that the sum of the infinite series $\\displaystyle \\sum_{n=0}^{\\infty}{\\frac{2^n}{n!}}$ converges to $e^2$. Do this by computing the sum using the following maximum values (limits) of $n$:\n",
    "1. Limit = 5\n",
    "1. Limit = 10\n",
    "1. Limit = 50\n",
    "\n",
    "- For each part create an array named `n` in which the first element is 0, the increment is 1, and the last element is 5, 10, or 50 using `np.arange()`.\n",
    "- Use element by element calculations to create an array named `series` in which the elements are $\\displaystyle \\frac{2^n}{n!}$.\n",
    "- Use the `np.sum()` function to sum the series and name the result with the variable `summation`.\n",
    "- Print `summation` using formatted printing with 16-decimal places.\n",
    "- Compare the `summation` values to $e^2$ (use `np.e**2`) by finding the absolute value of the difference and using formatted printing to display the result with 16-decimal places.\n",
    "\n",
    "Note: For some reason *NumPy's* factorial function does not work with arrays. *SciPy*, which is built on *NumPy*, does have an array friendly factorial function in the `scipy.special` module. You will need to import the factorial function from this module in order to access it. Execute the following code cell to import the required factorial function."
   ]
  },
  {
   "cell_type": "code",
   "execution_count": 0,
   "metadata": {
    "collapsed": false
   },
   "outputs": [
   ],
   "source": [
    "from scipy.special import factorial"
   ]
  },
  {
   "cell_type": "code",
   "execution_count": 0,
   "metadata": {
    "collapsed": false
   },
   "outputs": [
   ],
   "source": [
    "# Write your exercise 11 part 1 code in this cell only\n"
   ]
  },
  {
   "cell_type": "code",
   "execution_count": 0,
   "metadata": {
    "collapsed": false,
    "deletable": false,
    "editable": false,
    "jupyter": {
     "source_hidden": false
    },
    "nbgrader": {
     "grade": true,
     "grade_id": "ex11_1",
     "locked": true,
     "points": 0.5,
     "schema_version": 3,
     "solution": false,
     "task": false
    }
   },
   "outputs": [
   ],
   "source": [
    "# Your exercise 11 part 1 solution will be autotested/scored here"
   ]
  },
  {
   "cell_type": "code",
   "execution_count": 0,
   "metadata": {
    "collapsed": false
   },
   "outputs": [
   ],
   "source": [
    "# Write your exercise 11 part 2 code in this cell only\n"
   ]
  },
  {
   "cell_type": "code",
   "execution_count": 0,
   "metadata": {
    "collapsed": false,
    "deletable": false,
    "editable": false,
    "jupyter": {
     "source_hidden": false
    },
    "nbgrader": {
     "grade": true,
     "grade_id": "ex11_2",
     "locked": true,
     "points": 0.25,
     "schema_version": 3,
     "solution": false,
     "task": false
    }
   },
   "outputs": [
   ],
   "source": [
    "# Your exercise 11 part 2 solution will be autotested/scored here"
   ]
  },
  {
   "cell_type": "code",
   "execution_count": 0,
   "metadata": {
    "collapsed": false
   },
   "outputs": [
   ],
   "source": [
    "# Write your exercise 11 part 3 code in this cell only\n"
   ]
  },
  {
   "cell_type": "code",
   "execution_count": 0,
   "metadata": {
    "collapsed": false,
    "deletable": false,
    "editable": false,
    "jupyter": {
     "source_hidden": false
    },
    "nbgrader": {
     "grade": true,
     "grade_id": "ex11_3",
     "locked": true,
     "points": 0.25,
     "schema_version": 3,
     "solution": false,
     "task": false
    }
   },
   "outputs": [
   ],
   "source": [
    "# Your exercise 11 part 3 solution will be autotested/scored here\n"
   ]
  },
  {
   "cell_type": "markdown",
   "metadata": {
    "collapsed": false,
    "run_control": {
     "frozen": true
    }
   },
   "source": [
    "**Exercise 12**\n",
    "\n",
    "Show that $\\displaystyle \\lim_{x\\rightarrow 0}\\frac{\\cos(2x)-1}{\\cos(x)-1}=4$\n",
    "\n",
    "Do this by first creating an array $x$ that has the values 1.0, 0.5, 0.1, 0.01, 0.001, and 0.0001. Then create a new array $y$ in which each element is calculated using the values in $x$ by using $\\displaystyle \\frac{\\cos(2x)-1}{\\cos(x) -1}$. Compare the results in $y$ with the value 4 by taking the absolute value of the difference between them. Assign the results array to the variable `limit` and print the `limit`.\n",
    "\n",
    "Recall that `np.ones(6)` will create an array with the value 1 in it six times."
   ]
  },
  {
   "cell_type": "code",
   "execution_count": 0,
   "metadata": {
    "collapsed": false
   },
   "outputs": [
   ],
   "source": [
    "# Execute this cell before solving exercise 12\n",
    "np.set_printoptions(precision=16, suppress=True)"
   ]
  },
  {
   "cell_type": "code",
   "execution_count": 0,
   "metadata": {
    "collapsed": false
   },
   "outputs": [
   ],
   "source": [
    "# Write your exercise 12 code in this cell only\n"
   ]
  },
  {
   "cell_type": "code",
   "execution_count": 0,
   "metadata": {
    "collapsed": false,
    "deletable": false,
    "editable": false,
    "jupyter": {
     "source_hidden": false
    },
    "nbgrader": {
     "grade": true,
     "grade_id": "ex12",
     "locked": true,
     "points": 0.75,
     "schema_version": 3,
     "solution": false,
     "task": false
    }
   },
   "outputs": [
   ],
   "source": [
    "# Your exercise 12 solution will be autotested/scored here"
   ]
  },
  {
   "cell_type": "markdown",
   "metadata": {
    "collapsed": false,
    "run_control": {
     "frozen": true
    }
   },
   "source": [
    "**Wrap it up**\n",
    "\n",
    "Complete the finishing tasks stated in the instructions.\n"
   ]
  }
 ],
 "metadata": {
  "kernelspec": {
   "display_name": "Python 3 (system-wide)",
   "language": "python",
   "metadata": {
    "cocalc": {
     "description": "Python 3 programming language",
     "priority": 100,
     "url": "https://www.python.org/"
    }
   },
   "name": "python3",
   "resource_dir": "/ext/jupyter/kernels/python3"
  },
  "language_info": {
   "codemirror_mode": {
    "name": "ipython",
    "version": 3
   },
   "file_extension": ".py",
   "mimetype": "text/x-python",
   "name": "python",
   "nbconvert_exporter": "python",
   "pygments_lexer": "ipython3",
   "version": "3.9.7"
  },
  "nbgrader": {
   "__altered": false,
   "__hash": 711485924,
   "_root": {
    "entries": [
     [
      "size",
      5
     ],
     [
      "_root",
      {
       "entries": [
        [
         "__altered",
         false
        ],
        [
         "__hash",
         317186325
        ],
        [
         "_root",
         {
          "entries": [
           [
            "cocalc_minimal_stubs",
            false
           ]
          ],
          "ownerID": {
          }
         }
        ],
        [
         "cocalc_minimal_stubs",
         false
        ],
        [
         "size",
         1
        ]
       ],
       "ownerID": {
       }
      }
     ],
     [
      "__ownerID",
      null
     ],
     [
      "__hash",
      342004852
     ],
     [
      "__altered",
      false
     ],
     [
      "cocalc_minimal_stubs",
      false
     ]
    ],
    "ownerID": {
    }
   },
   "cocalc_minimal_stubs": false,
   "size": 6
  },
  "varInspector": {
   "cols": {
    "lenName": 16,
    "lenType": 16,
    "lenVar": 40
   },
   "kernels_config": {
    "python": {
     "delete_cmd_postfix": "",
     "delete_cmd_prefix": "del ",
     "library": "var_list.py",
     "varRefreshCmd": "print(var_dic_list())"
    },
    "r": {
     "delete_cmd_postfix": ") ",
     "delete_cmd_prefix": "rm(",
     "library": "var_list.r",
     "varRefreshCmd": "cat(var_dic_list()) "
    }
   },
   "types_to_exclude": [
    "module",
    "function",
    "builtin_function_or_method",
    "instance",
    "_Feature"
   ],
   "window_display": false
  }
 },
 "nbformat": 4,
 "nbformat_minor": 4
}