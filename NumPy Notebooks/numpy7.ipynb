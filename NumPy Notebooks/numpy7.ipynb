{
 "cells": [
  {
   "cell_type": "markdown",
   "metadata": {
    "collapsed": false
   },
   "source": [
    "# NumPy 7 - More Calculus Practice"
   ]
  },
  {
   "cell_type": "code",
   "execution_count": 0,
   "metadata": {
    "collapsed": false
   },
   "outputs": [
   ],
   "source": [
    "name = \"Your name here\"\n",
    "\"Name:\" + name.upper()"
   ]
  },
  {
   "cell_type": "markdown",
   "metadata": {
    "collapsed": false
   },
   "source": [
    "## Instructions\n",
    "\n",
    "Follow the instructions given for each exercise.\n",
    "\n",
    "Finish the assignment by...\n",
    "  - Saving your Jupyter Notebook and downloading it as a notebook (.ipynb) file (do not change the file name)\n",
    "  - Submitting the notebook files to the NumPy 7 assignment via Canvas\n",
    "  - Verifying that the auto grader marked each problem correct\n",
    "  - Fixing errors and resubmitting as necessary until the due date\n",
    "\n",
    "Your score will be determined by the auto grader results after the due date. Keep in mind that the auto grader may run additional tests on your final submission than were ran when the assignment was submitted."
   ]
  },
  {
   "cell_type": "markdown",
   "metadata": {
    "collapsed": false
   },
   "source": [
    "**Execute the following code cell to import all necessary modules for this notebook**"
   ]
  },
  {
   "cell_type": "code",
   "execution_count": 0,
   "metadata": {
    "collapsed": false
   },
   "outputs": [
   ],
   "source": [
    "import numpy as np\n",
    "from scipy import integrate, optimize\n",
    "from scipy.misc import derivative\n",
    "from matplotlib import pyplot as plt\n",
    "from numpy.polynomial import polynomial as P\n",
    "np.set_printoptions(precision=5, suppress=True)"
   ]
  },
  {
   "cell_type": "markdown",
   "metadata": {
    "collapsed": false
   },
   "source": [
    "**Exercise 1**\n",
    "\n",
    "Plot the polynomial $y = 0.008x^4 - 1.8x^2 - 5.4x +54$ over the domain -14 $\\leq x \\leq$ 16.\n",
    "\n",
    "First create a polynomial named `p1` (be watchful of missing coefficients and using the correct order). Then create an array `x` of 100 values. Use `P.polyval()` with `x` and your polynomial to calculate $y$-values for plotting and then plot the polynomial. Assign the $y$-values to `y` before plotting."
   ]
  },
  {
   "cell_type": "code",
   "execution_count": 0,
   "metadata": {
    "collapsed": false
   },
   "outputs": [
   ],
   "source": [
    "# Create the polynomial `p1` and the arrays `x` and `y` in this cell only\n"
   ]
  },
  {
   "cell_type": "code",
   "execution_count": 0,
   "metadata": {
    "collapsed": false
   },
   "outputs": [
   ],
   "source": [
    "# Plot the polynomial here\n",
    "# USE THIS CODE\n",
    "fig, ax = plt.subplots()\n",
    "ax.plot(x, y)\n",
    "plt.show()"
   ]
  },
  {
   "cell_type": "code",
   "execution_count": 0,
   "metadata": {
    "collapsed": false,
    "deletable": false,
    "editable": false,
    "jupyter": {
     "source_hidden": false
    },
    "nbgrader": {
     "grade": true,
     "grade_id": "ex_1_test",
     "locked": true,
     "points": 0.5,
     "schema_version": 3,
     "solution": false,
     "task": false
    }
   },
   "outputs": [
   ],
   "source": [
    "# Your exercise 1 solution will be autotested/scored here"
   ]
  },
  {
   "cell_type": "markdown",
   "metadata": {
    "collapsed": false
   },
   "source": [
    "**Exercise 2**\n",
    "\n",
    "Use *NumPy* polynomial functions to carry out the following multiplication of two polynomials:\n",
    "\n",
    "$\\displaystyle\\qquad (-x^3 + 5x -1)(x^4 + 2x^3 -16x +5)$\n",
    "\n",
    "Create two polynomials named `p1` and `p2` (in the order shown) and use the appropriate polynomial math function with the polynomials. **Do not assign the result to a variable.**"
   ]
  },
  {
   "cell_type": "code",
   "execution_count": 0,
   "metadata": {
    "collapsed": false
   },
   "outputs": [
   ],
   "source": [
    "# Write your exercise 2 code in this cell only\n"
   ]
  },
  {
   "cell_type": "code",
   "execution_count": 0,
   "metadata": {
    "collapsed": false,
    "deletable": false,
    "editable": false,
    "jupyter": {
     "source_hidden": false
    },
    "nbgrader": {
     "grade": true,
     "grade_id": "ex_2_test",
     "locked": true,
     "points": 0.5,
     "schema_version": 3,
     "solution": false,
     "task": false
    }
   },
   "outputs": [
   ],
   "source": [
    "# Your exercise 2 solution will be autotested/scored here"
   ]
  },
  {
   "cell_type": "markdown",
   "metadata": {
    "collapsed": false
   },
   "source": [
    "**Exercise 3**\n",
    "\n",
    "The boiling temperature of water $T_B$ at various altitudes $h$ is given in the following table. Determine a linear equation in the form $T_B = mh+b$ (think $y = mx + b$) that best fits the data.  Assign the altitudes to `h` and the temperatures to `T`. Use these arrays to determine the polynomial for the best fit line and name it `eqn`. Use `eqn` and an equally spaced array of 20 altitudes from 0 to 8000 meters (named `h_fit`) to generate a $y$-array used for plotting the best fit line named `T_fit`. Create a plot of the original points (as red dots) and the best fit line (as a solid blue line).\n",
    "\n",
    "Also, use the best-fit equation for calculating the boiling temperature at an elevation of 5000 m by using `P.polyval()`. Assign this result to `T_5000` and print`T_5000`.\n",
    "\n",
    "$\\qquad\\displaystyle \\begin{array}{cccccccc}\n",
    "h\\text{ (m)} & 0 & 600 & 1500 & 2300 & 3000 & 6100 & 7900 \\\\\n",
    "T_B\\,(^{\\circ}\\text{C}) & 100 & 98.8 & 95.1 & 92.2 & 90 & 81.2 & 75.6\n",
    "\\end{array}$\n",
    "\n",
    "*Hint*: $h$ in this problem is your $x$-axis variable"
   ]
  },
  {
   "cell_type": "code",
   "execution_count": 0,
   "metadata": {
    "collapsed": false
   },
   "outputs": [
   ],
   "source": [
    "# Write your code to create `h`, `T`, `eqn`, `h_fit`, and `T_fit` in this cell only\n"
   ]
  },
  {
   "cell_type": "code",
   "execution_count": 0,
   "metadata": {
    "collapsed": false
   },
   "outputs": [
   ],
   "source": [
    "# Write your code to calculate and print the boiling point at 5000 m in this cell only\n"
   ]
  },
  {
   "cell_type": "code",
   "execution_count": 0,
   "metadata": {
    "collapsed": false
   },
   "outputs": [
   ],
   "source": [
    "# Plot the results here\n",
    "# USE THIS CODE\n",
    "fig, ax = plt.subplots()\n",
    "ax.plot(h, T, 'ro')\n",
    "ax.plot(h_fit, T_fit, 'b-')\n",
    "ax.set(title=\"Boiling points of water based on elevation\", \n",
    "       xlabel=\"Altitude (m)\", \n",
    "       ylabel=\"Temp (C)\")\n",
    "plt.show()"
   ]
  },
  {
   "cell_type": "code",
   "execution_count": 0,
   "metadata": {
    "collapsed": false,
    "deletable": false,
    "editable": false,
    "jupyter": {
     "source_hidden": false
    },
    "nbgrader": {
     "grade": true,
     "grade_id": "ex_3_test",
     "locked": true,
     "points": 2,
     "schema_version": 3,
     "solution": false,
     "task": false
    }
   },
   "outputs": [
   ],
   "source": [
    "# Your exercise 3 solution will be autotested/scored here"
   ]
  },
  {
   "cell_type": "markdown",
   "metadata": {
    "collapsed": false
   },
   "source": [
    "**Exercise 4**\n",
    "\n",
    "The following points are given:\n",
    "\n",
    "$\\qquad\\displaystyle \\begin{array}{ccccccccccc}\n",
    "x & 1 & 2.2 & 3.7 & 6.4 & 9 & 11.5 & 14.2 & 17.8 & 20.5 & 23.2 \\\\\n",
    "y & 12 & 9 & 6.6 & 5.5 & 7.2 & 9.2 & 9.6 & 8.5 & 6.5 & 2.2\n",
    "\\end{array}$\n",
    "\n",
    "1. Create the arrays `x` and `y` using the provided points\n",
    "1. Create a first, second, third, and fifth-order fitted polynomials named `f1`, `f2`, `f3`, and `f5`\n",
    "2. Create an array of 100 $x$-values from 1 to 24 named `x_fit`\n",
    "3. Use `x_fit` along with `f1`, `f2`, `f3`, and `f5` to create arrays of fitted $y$-values named `y1_fit`, `y2_fit`, `y3_fit`, and `y5_fit`\n",
    "5. Plot the original $x,y$ points as black triangles (do this first)\n",
    "6. Plot each of the fitted $x,y$ values on the same plot with different colors and line types (using linewidths of 2) and include a legend. Plot these in order from lowest order fit to highest order fit."
   ]
  },
  {
   "cell_type": "code",
   "execution_count": 0,
   "metadata": {
    "collapsed": false
   },
   "outputs": [
   ],
   "source": [
    "# Write all of your exercise 4 code, except for the plotting code, in this cell only\n"
   ]
  },
  {
   "cell_type": "code",
   "execution_count": 0,
   "metadata": {
    "collapsed": false,
    "jupyter": {
     "source_hidden": false
    }
   },
   "outputs": [
   ],
   "source": [
    "# Fill in the missing code to create the described plot\n",
    "fig, ax = plt.subplots()\n",
    "# add your plotting commands below this line\n",
    "# ==========================================\n",
    "\n",
    "# ==========================================\n",
    "# add your plotting commands above this line\n",
    "ax.legend()\n",
    "plt.show()"
   ]
  },
  {
   "cell_type": "code",
   "execution_count": 0,
   "metadata": {
    "collapsed": false,
    "deletable": false,
    "editable": false,
    "jupyter": {
     "source_hidden": false
    },
    "nbgrader": {
     "grade": true,
     "grade_id": "ex_4_test",
     "locked": true,
     "points": 2,
     "schema_version": 3,
     "solution": false,
     "task": false
    }
   },
   "outputs": [
   ],
   "source": [
    "# Your exercise 4 solution will be autotested/scored here"
   ]
  },
  {
   "cell_type": "markdown",
   "metadata": {
    "collapsed": false
   },
   "source": [
    "**Exercise 5**\n",
    "\n",
    "Determine the two roots (zeros) of the equation $x^3 - 5x^{2.5} + e^{0.9x} + 4(x+1) = -2$. Create an anonymous function named `y` and plot the function over the range 0 $\\leq x \\leq$ 6 with 100 points. Use the plot to select your guesses for finding the roots (i.e. solving the equation). Assign the result to `roots` and print `roots`."
   ]
  },
  {
   "cell_type": "code",
   "execution_count": 0,
   "metadata": {
    "collapsed": false
   },
   "outputs": [
   ],
   "source": [
    "# Write your exercise 5 code to create array `x` and the anonymous function `y`\n"
   ]
  },
  {
   "cell_type": "code",
   "execution_count": 0,
   "metadata": {
    "collapsed": false
   },
   "outputs": [
   ],
   "source": [
    "# Plot your function here by adding the necessary line of code\n",
    "fig, ax = plt.subplots()\n",
    "# add your plotting command below this line\n",
    "# =========================================\n",
    "\n",
    "# =========================================\n",
    "# add your plotting command above this line\n",
    "ax.grid(True)\n",
    "plt.show()"
   ]
  },
  {
   "cell_type": "code",
   "execution_count": 0,
   "metadata": {
    "collapsed": false
   },
   "outputs": [
   ],
   "source": [
    "# Write the exercise 5 code to find and print the roots in this cell only\n"
   ]
  },
  {
   "cell_type": "code",
   "execution_count": 0,
   "metadata": {
    "collapsed": false,
    "deletable": false,
    "editable": false,
    "jupyter": {
     "source_hidden": false
    },
    "nbgrader": {
     "grade": true,
     "grade_id": "ex_5_test",
     "locked": true,
     "points": 1,
     "schema_version": 3,
     "solution": false,
     "task": false
    }
   },
   "outputs": [
   ],
   "source": [
    "# Your exercise 5 solution will be autotested/scored here"
   ]
  },
  {
   "cell_type": "markdown",
   "metadata": {
    "collapsed": false
   },
   "source": [
    "**Exercise 6**\n",
    "\n",
    "Solve for the roots (zeros) of the function $f(x) = xe^{-x} -0.2$ and assign the result to `roots`. First create an anonymous function named `f` and plot the function over the range 0 $\\leq x \\leq$ 8 with 100 points (use `x` to name this array). Use the plot to select your guesses for the roots. Print `roots` with a statement like `The roots of the function are [root1, root2, etc]` using an f-string.\n",
    "\n",
    "Find the locations of any local minimums and maximums over the same interval and the values of the minimums and maximums. There may be only one minimum and/or maximum value or there may not be a local mimimum or maximum. Use the plot to decide. Use the names `x_min_loc`, `x_max_loc`, `y_min_val`, and `y_max_val` (as needed) to assign the results and print each of the results (where there are results). Use formatted print statements like `Local maximum at x,y = xxxx, yyyy`"
   ]
  },
  {
   "cell_type": "code",
   "execution_count": 0,
   "metadata": {
    "collapsed": false
   },
   "outputs": [
   ],
   "source": [
    "# Create the exercise 6 `x` array and anonymous function `f` in this cell only\n"
   ]
  },
  {
   "cell_type": "code",
   "execution_count": 0,
   "metadata": {
    "collapsed": false
   },
   "outputs": [
   ],
   "source": [
    "# Create the exercise 6 plot in this cell\n",
    "# USE THIS CODE\n",
    "fig, ax = plt.subplots()\n",
    "ax.plot(x, f(x))\n",
    "ax.grid(True)\n",
    "plt.show()"
   ]
  },
  {
   "cell_type": "code",
   "execution_count": 0,
   "metadata": {
    "collapsed": false
   },
   "outputs": [
   ],
   "source": [
    "# Determine the exercise 6 roots in this cell only\n"
   ]
  },
  {
   "cell_type": "code",
   "execution_count": 0,
   "metadata": {
    "collapsed": false
   },
   "outputs": [
   ],
   "source": [
    "# Determine the exercise 6 local minimums and/or maximums in this cell only\n"
   ]
  },
  {
   "cell_type": "code",
   "execution_count": 0,
   "metadata": {
    "collapsed": false,
    "deletable": false,
    "editable": false,
    "jupyter": {
     "source_hidden": false
    },
    "nbgrader": {
     "grade": true,
     "grade_id": "ex_6_test",
     "locked": true,
     "points": 2,
     "schema_version": 3,
     "solution": false,
     "task": false
    }
   },
   "outputs": [
   ],
   "source": [
    "# Your exercise 6 solution will be autotested/scored here"
   ]
  },
  {
   "cell_type": "markdown",
   "metadata": {
    "collapsed": false
   },
   "source": [
    "**Exercise 7**\n",
    "\n",
    "A horizontal beam of length $L$ = 108 inches is attached to the wall with a pin at the left end (point $A$). A  cable of length $L_C$ = 68 inches is attached to the wall directly above point $A$ (at point $C$) and to the beam distance $d$ to the right of $A$ (at point $D$). A load $W$ = 250 lb is attached to the beam at the right end (at point $B$). The tension in the cable $T$ is given by:\n",
    "\n",
    "$\\qquad\\displaystyle T = \\frac{W\\,L\\,L_C}{d\\sqrt{L_C^2 - d^2}}$\n",
    "\n",
    "Make a plot of $T$ versus $d$ (where $d$ is the $x$-axis) for 5 $\\leq d \\leq$ 65 (create an array named `d` with steps of 1 inch) by creating and using an anonymous function named `T`. Determine the distance $d$ where the tension in the cable is the smallest (local minimum) and the value of the $T$ at that point. Assign these results of to `d_T_min` and `T_min` and print a statement like `Minimum tension of T_min lb occurs at d = d_T_min inches` with 1-decimal place for the tenion and 2-decimal places for the location."
   ]
  },
  {
   "attachments": {
    "beam.png": {
     "image/png": "[encoded data removed]"
    }
   },
   "cell_type": "markdown",
   "metadata": {
    "collapsed": false
   },
   "source": [
    "![beam.png](attachment:beam.png)"
   ]
  },
  {
   "cell_type": "code",
   "execution_count": 0,
   "metadata": {
    "collapsed": false
   },
   "outputs": [
   ],
   "source": [
    "# Assign the exercise 7 known values to variables, create an array `d`, and function `T` in this cell\n"
   ]
  },
  {
   "cell_type": "code",
   "execution_count": 0,
   "metadata": {
    "collapsed": false
   },
   "outputs": [
   ],
   "source": [
    "# Create the exercise 7 plot in this cell only\n",
    "# USE THIS CODE\n",
    "fig, ax = plt.subplots()\n",
    "ax.plot(d, T(d))\n",
    "ax.grid(True)\n",
    "plt.show()"
   ]
  },
  {
   "cell_type": "code",
   "execution_count": 0,
   "metadata": {
    "collapsed": false
   },
   "outputs": [
   ],
   "source": [
    "# Determine the exercise 7 minimum tension and it's location is this cell\n"
   ]
  },
  {
   "cell_type": "code",
   "execution_count": 0,
   "metadata": {
    "collapsed": false,
    "deletable": false,
    "editable": false,
    "jupyter": {
     "source_hidden": false
    },
    "nbgrader": {
     "grade": true,
     "grade_id": "ex_7_test",
     "locked": true,
     "points": 1.5,
     "schema_version": 3,
     "solution": false,
     "task": false
    }
   },
   "outputs": [
   ],
   "source": [
    "# Your exercise 7 solution will be autotested/scored here"
   ]
  },
  {
   "cell_type": "markdown",
   "metadata": {
    "collapsed": false
   },
   "source": [
    "**Exercise 8**\n",
    "\n",
    "Calculate the following definite integrals. Assign the first value from each resulting array to the variables `soln_1`, `soln_2`, and `soln_3` and print each variable. Use `np.exp()` anywhere there is $e$ to a power.\n",
    "\n",
    "1. $\\displaystyle\\large \\int_1^8{\\frac{e^x}{x^3}}dx$ \n",
    "\n",
    "2. $\\displaystyle\\large \\int_0^9{\\left(0.5 + \\frac{\\cos(1.2x)}{(x+2)^2} \\right)}dx$\n",
    "\n",
    "3. $\\displaystyle\\large \\int_0^8{(xe^{-x^{0.8}} + 0.2)}dx$"
   ]
  },
  {
   "cell_type": "code",
   "execution_count": 0,
   "metadata": {
    "collapsed": false
   },
   "outputs": [
   ],
   "source": [
    "# Write your code for exercise 8 part 1 in this cell only\n"
   ]
  },
  {
   "cell_type": "code",
   "execution_count": 0,
   "metadata": {
    "collapsed": false,
    "deletable": false,
    "editable": false,
    "jupyter": {
     "source_hidden": false
    },
    "nbgrader": {
     "grade": true,
     "grade_id": "ex_8_1_test",
     "locked": true,
     "points": 0.5,
     "schema_version": 3,
     "solution": false,
     "task": false
    }
   },
   "outputs": [
   ],
   "source": [
    "# Your exercise 8 part 1 solution will be autotested/scored here"
   ]
  },
  {
   "cell_type": "code",
   "execution_count": 0,
   "metadata": {
    "collapsed": false
   },
   "outputs": [
   ],
   "source": [
    "# Write your code for exercise 8 part 2 in this cell only\n"
   ]
  },
  {
   "cell_type": "code",
   "execution_count": 0,
   "metadata": {
    "collapsed": false,
    "deletable": false,
    "editable": false,
    "jupyter": {
     "source_hidden": false
    },
    "nbgrader": {
     "grade": true,
     "grade_id": "ex_8_2_test",
     "locked": true,
     "points": 0.5,
     "schema_version": 3,
     "solution": false,
     "task": false
    }
   },
   "outputs": [
   ],
   "source": [
    "# Your exercise 8 part 2 solution will be autotested/scored here"
   ]
  },
  {
   "cell_type": "code",
   "execution_count": 0,
   "metadata": {
    "collapsed": false
   },
   "outputs": [
   ],
   "source": [
    "# Write your code for exercise 8 part 3 in this cell only\n"
   ]
  },
  {
   "cell_type": "code",
   "execution_count": 0,
   "metadata": {
    "collapsed": false,
    "deletable": false,
    "editable": false,
    "jupyter": {
     "source_hidden": false
    },
    "nbgrader": {
     "grade": true,
     "grade_id": "ex_8_3_test",
     "locked": true,
     "points": 0.5,
     "schema_version": 3,
     "solution": false,
     "task": false
    }
   },
   "outputs": [
   ],
   "source": [
    "# Your exercise 8 part 3 solution will be autotested/scored here"
   ]
  },
  {
   "cell_type": "markdown",
   "metadata": {
    "collapsed": false
   },
   "source": [
    "**Exercise 9**\n",
    "\n",
    "Find the values of the following requested derivatives:\n",
    "\n",
    "1. First and second derivatives of $(1-4x)^3$ with respect to $x$ at both $x$ = 0  and 1 using $dx=1\\times10^{-6}$\n",
    "\n",
    "2. First and second derivatives of $\\large e^{x^4}$ with respect to $x$ at both $x$ = 0.5 and 1.0 using $dx=1\\times10^{-7}$\n",
    "\n",
    "Determine each of the derivatives at the two requested $x$ values with a single expression that requests both $x$ values as a single argument to the `derivative` function. Assign the results to variables `first_der_1`, `second_der_1`, `first_der_2`, and `second_der_2`. Print each of the variables with a statement like `First derivatives at 0 and 1 are first_der_1`."
   ]
  },
  {
   "cell_type": "code",
   "execution_count": 0,
   "metadata": {
    "collapsed": false
   },
   "outputs": [
   ],
   "source": [
    "# Write your code for exercise 9 part 1 in this cell only\n"
   ]
  },
  {
   "cell_type": "code",
   "execution_count": 0,
   "metadata": {
    "collapsed": false,
    "deletable": false,
    "editable": false,
    "jupyter": {
     "source_hidden": false
    },
    "nbgrader": {
     "grade": true,
     "grade_id": "ex_9_1_test",
     "locked": true,
     "points": 0.5,
     "schema_version": 3,
     "solution": false,
     "task": false
    }
   },
   "outputs": [
   ],
   "source": [
    "# Your exercise 9 part 1 solution will be autotested/scored here"
   ]
  },
  {
   "cell_type": "code",
   "execution_count": 0,
   "metadata": {
    "collapsed": false
   },
   "outputs": [
   ],
   "source": [
    "# Write your code for exercise 9 part 2 in this cell only\n"
   ]
  },
  {
   "cell_type": "code",
   "execution_count": 0,
   "metadata": {
    "collapsed": false,
    "deletable": false,
    "editable": false,
    "jupyter": {
     "source_hidden": false
    },
    "nbgrader": {
     "grade": true,
     "grade_id": "ex_9_2_test",
     "locked": true,
     "points": 0.5,
     "schema_version": 3,
     "solution": false,
     "task": false
    }
   },
   "outputs": [
   ],
   "source": [
    "# Your exercise 9 part 2 solution will be autotested/scored here"
   ]
  },
  {
   "cell_type": "markdown",
   "metadata": {
    "collapsed": false
   },
   "source": [
    "**Wrap it up**\n",
    "\n",
    "Complete the finishing tasks stated in the instructions.\n"
   ]
  }
 ],
 "metadata": {
  "kernelspec": {
   "display_name": "Python 3 (system-wide)",
   "language": "python",
   "metadata": {
    "cocalc": {
     "description": "Python 3 programming language",
     "priority": 100,
     "url": "https://www.python.org/"
    }
   },
   "name": "python3",
   "resource_dir": "/ext/jupyter/kernels/python3"
  },
  "language_info": {
   "codemirror_mode": {
    "name": "ipython",
    "version": 3
   },
   "file_extension": ".py",
   "mimetype": "text/x-python",
   "name": "python",
   "nbconvert_exporter": "python",
   "pygments_lexer": "ipython3",
   "version": "3.8.11"
  },
  "nbgrader": {
   "__altered": false,
   "__hash": -335098374,
   "_root": {
    "entries": [
     [
      "cocalc_minimal_stubs",
      false
     ]
    ],
    "ownerID": {
    }
   },
   "cocalc_minimal_stubs": false,
   "size": 1
  },
  "varInspector": {
   "cols": {
    "lenName": 16,
    "lenType": 16,
    "lenVar": 40
   },
   "kernels_config": {
    "python": {
     "delete_cmd_postfix": "",
     "delete_cmd_prefix": "del ",
     "library": "var_list.py",
     "varRefreshCmd": "print(var_dic_list())"
    },
    "r": {
     "delete_cmd_postfix": ") ",
     "delete_cmd_prefix": "rm(",
     "library": "var_list.r",
     "varRefreshCmd": "cat(var_dic_list()) "
    }
   },
   "types_to_exclude": [
    "module",
    "function",
    "builtin_function_or_method",
    "instance",
    "_Feature"
   ],
   "window_display": false
  }
 },
 "nbformat": 4,
 "nbformat_minor": 4
}