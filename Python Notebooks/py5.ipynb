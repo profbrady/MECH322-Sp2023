{
 "cells": [
  {
   "cell_type": "markdown",
   "metadata": {},
   "source": [
    "# Py 5 - Intro to Plotting Practice"
   ]
  },
  {
   "cell_type": "code",
   "execution_count": null,
   "metadata": {},
   "outputs": [],
   "source": [
    "name = \"Your name here\"\n",
    "\"Name:\" + name.upper()"
   ]
  },
  {
   "cell_type": "markdown",
   "metadata": {},
   "source": [
    "## Defining functions and using them in list comprehensions\n",
    "\n",
    "1. Define a function of $x$ that returns a calculated value\n",
    "1. Create a list (or range) of $x$-values\n",
    "1. Create a list of $y$-values with a list comprehension that calls the function using the $x$-values"
   ]
  },
  {
   "cell_type": "markdown",
   "metadata": {},
   "source": [
    "The following four code cells demonstrate steps that can be used to create a function, a list of $x$-values, and a list of $y$-values using the $x$-values along with the function that was defined. It is recommended that this methodology be used throughout this assignment.\n"
   ]
  },
  {
   "cell_type": "code",
   "execution_count": null,
   "metadata": {},
   "outputs": [],
   "source": [
    "# Step 1: Create a function of x\n",
    "def f(x):\n",
    "    return x**2 - 2*x + 5"
   ]
  },
  {
   "cell_type": "code",
   "execution_count": null,
   "metadata": {},
   "outputs": [],
   "source": [
    "# Step 2: Create a list (or range) of x-values\n",
    "x = range(11)"
   ]
  },
  {
   "cell_type": "code",
   "execution_count": null,
   "metadata": {},
   "outputs": [],
   "source": [
    "# Step 3: Create y-values using the function and x-values\n",
    "y = [f(x) for x in x]"
   ]
  },
  {
   "cell_type": "code",
   "execution_count": null,
   "metadata": {},
   "outputs": [],
   "source": [
    "# Check the results\n",
    "print(x)\n",
    "print(y)"
   ]
  },
  {
   "cell_type": "markdown",
   "metadata": {},
   "source": [
    "## Exercises\n",
    "\n",
    "For all plots you are **required** to use the **object-oriented** approach. Assign each of your figures to the variable **`fig`**. Assign your plot axes to **`ax`** for single plots. For subplots with multiple axes, use **`ax1`**, **`ax2`**, etc. for axes names. If you do not do this, then the auto grader tests will fail for your plots.\n",
    "\n",
    "Finish the assignment by...\n",
    "  - Saving your Jupyter Notebook and downloading it as a notebook (.ipynb) file (do not change the file name)\n",
    "  - Submitting the notebook file to the Py 5 assignment via Canvas\n",
    "  - Verifying that the auto grader marked each problem correct\n",
    "  - Fixing errors and resubmitting as necessary until the due date\n",
    "\n",
    "Your score will be determined by the auto grader results after the due date. Keep in mind that the auto grader may run additional tests on your final submission than were ran when the assignment was submitted."
   ]
  },
  {
   "cell_type": "markdown",
   "metadata": {},
   "source": [
    "**Do this first**: Execute the following cell so you will have access to `math` and `plt` commands/functions needed for plotting."
   ]
  },
  {
   "cell_type": "code",
   "execution_count": null,
   "metadata": {},
   "outputs": [],
   "source": [
    "import math\n",
    "import matplotlib.pyplot as plt"
   ]
  },
  {
   "cell_type": "markdown",
   "metadata": {},
   "source": [
    "**Do this next**: Execute the following cell so you can use `frange()` in each exercise as needed"
   ]
  },
  {
   "cell_type": "code",
   "execution_count": null,
   "metadata": {},
   "outputs": [],
   "source": [
    "def frange(lower, upper, n=100):\n",
    "    return [(upper - lower)*i/(n - 1) + lower for i in range(n)]"
   ]
  },
  {
   "cell_type": "markdown",
   "metadata": {},
   "source": [
    "**Exercise 1**\n",
    "\n",
    "Plot the function $\\displaystyle f(x) = \\frac{x^2 -3x +7}{\\sqrt{2x+5}}\\,\\,$ for $-1\\leq x \\leq 5$\n",
    "\n",
    "Use 100 values. It might be a good idea to use the **`frange()`** function."
   ]
  },
  {
   "cell_type": "code",
   "execution_count": null,
   "metadata": {},
   "outputs": [],
   "source": [
    "# Write your exercise 1 code here\n"
   ]
  },
  {
   "cell_type": "code",
   "execution_count": null,
   "metadata": {
    "deletable": false,
    "editable": false,
    "nbgrader": {
     "grade": true,
     "grade_id": "ex1_test",
     "locked": true,
     "points": 1,
     "schema_version": 3,
     "solution": false,
     "task": false
    }
   },
   "outputs": [],
   "source": [
    "# Your exercise 1 plot will be autograded here"
   ]
  },
  {
   "cell_type": "markdown",
   "metadata": {},
   "source": [
    "**Exercise 2**\n",
    "\n",
    "Plot the function $\\displaystyle f(x) = (\\sin{2x} + \\cos^2{5x})e^{-0.2x} \\,\\,$ for $-6\\leq x \\leq 6$\n",
    "\n",
    "Use 100 values."
   ]
  },
  {
   "cell_type": "code",
   "execution_count": null,
   "metadata": {},
   "outputs": [],
   "source": [
    "# Write your exercise 2 code here\n"
   ]
  },
  {
   "cell_type": "code",
   "execution_count": null,
   "metadata": {
    "deletable": false,
    "editable": false,
    "nbgrader": {
     "grade": true,
     "grade_id": "ex2_test",
     "locked": true,
     "points": 1,
     "schema_version": 3,
     "solution": false,
     "task": false
    }
   },
   "outputs": [],
   "source": [
    "# Your exercise 2 plot will be autograded here"
   ]
  },
  {
   "cell_type": "markdown",
   "metadata": {},
   "source": [
    "**Exercise 3**\n",
    "\n",
    "A set of parametric equations is given by:\n",
    "\n",
    "$\\qquad\\displaystyle x = \\sin(t)\\cos(t) , \\; y = 1.5\\cos(t)$\n",
    "\n",
    "Create an $xy$ plot over the range $-\\pi \\leq t \\leq \\pi$. Use $100$ values for $t$ and then use $t$ to calculate $x$ and $y$. Format the plot such that both axes have limits of $-2$ to $2$."
   ]
  },
  {
   "cell_type": "code",
   "execution_count": null,
   "metadata": {},
   "outputs": [],
   "source": [
    "# Write your exercise 3 code here\n"
   ]
  },
  {
   "cell_type": "code",
   "execution_count": null,
   "metadata": {
    "deletable": false,
    "editable": false,
    "nbgrader": {
     "grade": true,
     "grade_id": "ex3_test",
     "locked": true,
     "points": 1,
     "schema_version": 3,
     "solution": false,
     "task": false
    }
   },
   "outputs": [],
   "source": [
    "# Your exercise 3 plot will be autograded here"
   ]
  },
  {
   "cell_type": "markdown",
   "metadata": {},
   "source": [
    "**Exercise 4**\n",
    "\n",
    "Plot the function $\\displaystyle f(x) = \\frac{x^2 - 5x - 12}{x^2 - x - 6}$ in the domain $-1 \\leq x \\leq 7$.\n",
    "\n",
    "You may notice that the function has a vertical asymptote at $x=3$. Plot the function by creating two lists for the domain of $x$. One list `x1` has a range from $-1$ to $2.9$ and the second list `x2` has a range from $3.1$ to $7$. Use 50 values for each range. Calculate the $y$ value lists `y1` and `y2` using `x1` and `x2`. Format the plot such that the $y$-axis has limits from $-20$ to $20$. Plot the **`x1`** and **`y1`** values first."
   ]
  },
  {
   "cell_type": "code",
   "execution_count": null,
   "metadata": {},
   "outputs": [],
   "source": [
    "# Write your exercise 4 code here\n"
   ]
  },
  {
   "cell_type": "code",
   "execution_count": null,
   "metadata": {
    "deletable": false,
    "editable": false,
    "nbgrader": {
     "grade": true,
     "grade_id": "ex4_test",
     "locked": true,
     "points": 1,
     "schema_version": 3,
     "solution": false,
     "task": false
    }
   },
   "outputs": [],
   "source": [
    "# Your exercise 4 plot will be autograded here\n"
   ]
  },
  {
   "cell_type": "markdown",
   "metadata": {},
   "source": [
    "**Exercise 5**\n",
    "\n",
    "An epicycloid is a curve obtained by tracing a point on a circle that rolls around a fixed circle. The parametric equations of a cycloid is given by:\n",
    "\n",
    "$\\qquad\\displaystyle x = 13\\cos(t) - 2\\cos(6.5t)\\\\\n",
    " \\qquad y = 13\\sin(t) - 2\\sin(6.5t)$\n",
    "\n",
    "\n",
    "Plot the cycloid for a domain of $0 \\leq t \\leq 4\\pi$ using $400$ values for $t$.\n",
    "\n",
    "Use either the **`.axis('equal')`** or **`.axis('scaled')`** method on your axes object to make the two axes equal in size."
   ]
  },
  {
   "cell_type": "code",
   "execution_count": null,
   "metadata": {},
   "outputs": [],
   "source": [
    "# Write your exercise 5 code here\n"
   ]
  },
  {
   "cell_type": "code",
   "execution_count": null,
   "metadata": {
    "deletable": false,
    "editable": false,
    "nbgrader": {
     "grade": true,
     "grade_id": "ex5_test",
     "locked": true,
     "points": 1,
     "schema_version": 3,
     "solution": false,
     "task": false
    }
   },
   "outputs": [],
   "source": [
    "# Your exercise 5 plot will be autograded here"
   ]
  },
  {
   "cell_type": "markdown",
   "metadata": {},
   "source": [
    "**Exercise 6**\n",
    "\n",
    "Make a polar plot of the function $r = 2\\sin(3\\theta)\\sin\\theta$ for $0 \\leq \\theta \\leq 2\\pi$. Use $200$ values for $\\theta$."
   ]
  },
  {
   "cell_type": "code",
   "execution_count": null,
   "metadata": {},
   "outputs": [],
   "source": [
    "# Write your exercise 6 code here\n"
   ]
  },
  {
   "cell_type": "code",
   "execution_count": null,
   "metadata": {
    "deletable": false,
    "editable": false,
    "nbgrader": {
     "grade": true,
     "grade_id": "ex6_test",
     "locked": true,
     "points": 1,
     "schema_version": 3,
     "solution": false,
     "task": false
    }
   },
   "outputs": [],
   "source": [
    "# Your exercise 6 plot will be autograded here"
   ]
  },
  {
   "cell_type": "markdown",
   "metadata": {},
   "source": [
    "**Exercise 7**\n",
    "\n",
    "The resonant frequency $f$ (in Hz) for a particular circuit is given by:\n",
    "\n",
    "$\\qquad\\displaystyle f = \\frac{1}{2\\pi}\\sqrt{LC\\frac{R_1^2C-L}{R_2^2C-L}}$\n",
    "\n",
    "Given $L=0.2\\text{ H}$, $C=2\\times10^{-6}\\text{ F}$, make the following set of subplots:\n",
    "\n",
    "- Top plot: $f$ versus $R_2$ for $500 \\leq R_2 \\leq 2000\\, \\Omega$, given $R_1 = 1500\\,\\Omega$\n",
    "- Bottom plot: $f$ versus $R_1$ for $500 \\leq R_1 \\leq 2000\\, \\Omega$, given $R_2 = 1500\\,\\Omega$\n",
    "\n",
    "\n",
    "- Plot both plots on the same page (subplots) where the plots are vertically stacked in the order shown above\n",
    "- Use 100 values for each plot\n",
    "- Include axes labels for both subplots...\n",
    "  - $x $-axes **\"Resistance in Ohms\"**\n",
    "  - $y $-axes **\"Frequency in Hz\"**\n",
    "- Set the line colors\n",
    "  - Top plot to blue\n",
    "  - Bottom plot to red\n",
    "- Use a line width of 3 for both subplots\n",
    "- Turn on grids for both subplots\n",
    "- Include a title above the top plot only that says **\"Resonant Frequency of a Circuit\"**\n",
    "- Include the command **`plt.tight_layout()`** just before **`plt.show()`** to make the spacing between subplots better"
   ]
  },
  {
   "cell_type": "code",
   "execution_count": null,
   "metadata": {},
   "outputs": [],
   "source": [
    "# Write your exercise 7 code here\n"
   ]
  },
  {
   "cell_type": "code",
   "execution_count": null,
   "metadata": {
    "deletable": false,
    "editable": false,
    "nbgrader": {
     "grade": true,
     "grade_id": "ex7_test",
     "locked": true,
     "points": 2,
     "schema_version": 3,
     "solution": false,
     "task": false
    }
   },
   "outputs": [],
   "source": [
    "# Your exercise 7 plot will be autograded here"
   ]
  },
  {
   "cell_type": "markdown",
   "metadata": {},
   "source": [
    "**Wrap it up**\n",
    "\n",
    "Complete the finishing tasks stated in the instructions.\n"
   ]
  }
 ],
 "metadata": {
  "celltoolbar": "Edit Metadata",
  "kernelspec": {
   "display_name": "Python 3 (ipykernel)",
   "language": "python",
   "name": "python3"
  },
  "language_info": {
   "codemirror_mode": {
    "name": "ipython",
    "version": 3
   },
   "file_extension": ".py",
   "mimetype": "text/x-python",
   "name": "python",
   "nbconvert_exporter": "python",
   "pygments_lexer": "ipython3",
   "version": "3.9.7"
  },
  "varInspector": {
   "cols": {
    "lenName": 16,
    "lenType": 16,
    "lenVar": 40
   },
   "kernels_config": {
    "python": {
     "delete_cmd_postfix": "",
     "delete_cmd_prefix": "del ",
     "library": "var_list.py",
     "varRefreshCmd": "print(var_dic_list())"
    },
    "r": {
     "delete_cmd_postfix": ") ",
     "delete_cmd_prefix": "rm(",
     "library": "var_list.r",
     "varRefreshCmd": "cat(var_dic_list()) "
    }
   },
   "types_to_exclude": [
    "module",
    "function",
    "builtin_function_or_method",
    "instance",
    "_Feature"
   ],
   "window_display": false
  }
 },
 "nbformat": 4,
 "nbformat_minor": 4
}
