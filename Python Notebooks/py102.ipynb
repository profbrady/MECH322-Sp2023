{
 "cells": [
  {
   "cell_type": "markdown",
   "metadata": {
    "collapsed": false,
    "deletable": false,
    "editable": false,
    "run_control": {
     "frozen": true
    }
   },
   "source": [
    "# Py 1.02 - Math with Variables Practice"
   ]
  },
  {
   "cell_type": "code",
   "execution_count": 0,
   "metadata": {
    "collapsed": false
   },
   "outputs": [
   ],
   "source": [
    "name = \"Your name here\"\n",
    "\"Name: \" + name.upper()"
   ]
  },
  {
   "cell_type": "markdown",
   "metadata": {
    "collapsed": false,
    "deletable": false,
    "editable": false,
    "run_control": {
     "frozen": true
    }
   },
   "source": [
    "## Instructions\n",
    "\n",
    "1. Replace **\"Your name here\"** in the above code cell with your first and last names and then execute the cell using `[shift]+[Enter]`\n",
    "1. Complete each calculation with *Python* using a single expression in its own code cell. Use `[shift]+[Enter]` to execute each cell.\n",
    "    - Assign any known (given) values to the requested variable names\n",
    "    - Assign the expression for each exercise to the variable `ex#` where `#` is the exercise number, i.e. use `ex1` as the variable for exercise 1 (all you have to do is replace `None` with your calculation code)\n",
    "    - Display the variable  by typing its name, i.e. `ex#` where `#` is the exercise number, on the line after the calculation but in the same code cell (already set up for each exercise)\n",
    "    - Don’t worry if you make a mistake. Fix the mistake, execute the cell again, and keep going\n",
    "    - Enter and execute the necessary command(s) for each problem in the provided code cell(s) below the problem statement\n",
    "1. **Do not** create additional code cells or rearrange any of the provided cells\n",
    "1. **Do not** round any of your results unless explicitly requested to do so in the problem statement\n",
    "1. Finish the assignment by...\n",
    "    - Saving your Jupyter Notebook and downloading it as a notebook (.ipynb) file (do not change the file name)\n",
    "    - Submitting the notebook file to the Py 1.02 assignment via Canvas\n",
    "    - Verifying that the auto grader marked each problem correct\n",
    "    - Fixing errors and resubmitting as necessary until the due date\n",
    "\n",
    "Your score will be determined by the auto grader results after the due date. Keep in mind that the auto grader may run additional tests on your final submission than were ran when the assignment was submitted."
   ]
  },
  {
   "cell_type": "markdown",
   "metadata": {
    "collapsed": false,
    "deletable": false,
    "editable": false,
    "run_control": {
     "frozen": true
    }
   },
   "source": [
    "**Do this first!**\n",
    "\n",
    "Execute the following cell first in order to be able to use `math` module functions.\n",
    "\n",
    "**Note:** If you close and then re-open this document, you will need to re-execute the cell again in order for the `math` module functions to be available."
   ]
  },
  {
   "cell_type": "code",
   "execution_count": 0,
   "metadata": {
    "collapsed": false
   },
   "outputs": [
   ],
   "source": [
    "import math     # Execute this cell first in order to use math module functions"
   ]
  },
  {
   "cell_type": "markdown",
   "metadata": {
    "collapsed": false,
    "deletable": false,
    "editable": false,
    "run_control": {
     "frozen": true
    }
   },
   "source": [
    "**Exercise 1**\n",
    "\n",
    "$\\qquad\\displaystyle t=3.2$\n",
    "\n",
    "$\\qquad\\displaystyle56t-9.81\\frac{t^2}{2}$"
   ]
  },
  {
   "cell_type": "code",
   "execution_count": 0,
   "metadata": {
    "collapsed": false
   },
   "outputs": [
   ],
   "source": [
    "# Exercise 1 Solution\n",
    "t = None\n",
    "ex1 = None\n",
    "ex1"
   ]
  },
  {
   "cell_type": "code",
   "execution_count": 0,
   "metadata": {
    "collapsed": false,
    "deletable": false,
    "editable": false,
    "nbgrader": {
     "grade": true,
     "grade_id": "ex1_test",
     "locked": true,
     "points": 0.5,
     "schema_version": 3,
     "solution": false,
     "task": false
    }
   },
   "outputs": [
   ],
   "source": [
    "# Exercise 1 will be automatically graded in this cell"
   ]
  },
  {
   "cell_type": "markdown",
   "metadata": {
    "collapsed": false,
    "deletable": false,
    "editable": false,
    "run_control": {
     "frozen": true
    }
   },
   "source": [
    "**Exercise 2**\n",
    "\n",
    "**Note:** You do not need to re-assign a value to `t` again. Variable assignments are remembered from one cell to the next in the same session.\n",
    "\n",
    "$\\qquad\\displaystyle 14e^{-0.1t}\\sin(2\\pi t)$"
   ]
  },
  {
   "cell_type": "code",
   "execution_count": 0,
   "metadata": {
    "collapsed": false
   },
   "outputs": [
   ],
   "source": [
    "# Exercise 2 Solution\n",
    "ex2 = None\n",
    "ex2"
   ]
  },
  {
   "cell_type": "code",
   "execution_count": 0,
   "metadata": {
    "collapsed": false,
    "deletable": false,
    "editable": false,
    "nbgrader": {
     "grade": true,
     "grade_id": "ex2_test",
     "locked": true,
     "points": 0.5,
     "schema_version": 3,
     "solution": false,
     "task": false
    }
   },
   "outputs": [
   ],
   "source": [
    "# Exercise 2 will be automatically graded in this cell"
   ]
  },
  {
   "cell_type": "markdown",
   "metadata": {
    "collapsed": false,
    "deletable": false,
    "editable": false,
    "run_control": {
     "frozen": true
    }
   },
   "source": [
    "**Exercise 3**\n",
    "\n",
    "$\\qquad\\displaystyle x=5.1 \\qquad y = 4.2$\n",
    "\n",
    "$\\qquad\\displaystyle\\frac{3}{4}xy - \\frac{7x}{y^2} + \\sqrt{xy}$"
   ]
  },
  {
   "cell_type": "code",
   "execution_count": 0,
   "metadata": {
    "collapsed": false
   },
   "outputs": [
   ],
   "source": [
    "# Exercise 3 Solution\n",
    "x = None\n",
    "y = None\n",
    "ex3 = None\n",
    "ex3"
   ]
  },
  {
   "cell_type": "code",
   "execution_count": 0,
   "metadata": {
    "collapsed": false,
    "deletable": false,
    "editable": false,
    "nbgrader": {
     "grade": true,
     "grade_id": "ex3_test",
     "locked": true,
     "points": 0.5,
     "schema_version": 3,
     "solution": false,
     "task": false
    }
   },
   "outputs": [
   ],
   "source": [
    "# Exercise 3 will be automatically graded in this cell"
   ]
  },
  {
   "cell_type": "markdown",
   "metadata": {
    "collapsed": false,
    "deletable": false,
    "editable": false,
    "run_control": {
     "frozen": true
    }
   },
   "source": [
    "**Exercise 4**\n",
    "\n",
    "$\\qquad\\displaystyle (xy)^2 - \\frac{x+y}{(x-y)^2} + \\sqrt{\\frac{x+y}{2x-y}}$"
   ]
  },
  {
   "cell_type": "code",
   "execution_count": 0,
   "metadata": {
    "collapsed": false
   },
   "outputs": [
   ],
   "source": [
    "# Exercise 4 Solution\n",
    "ex4 = None\n",
    "ex4"
   ]
  },
  {
   "cell_type": "code",
   "execution_count": 0,
   "metadata": {
    "collapsed": false,
    "deletable": false,
    "editable": false,
    "nbgrader": {
     "grade": true,
     "grade_id": "ex4_test",
     "locked": true,
     "points": 0.5,
     "schema_version": 3,
     "solution": false,
     "task": false
    }
   },
   "outputs": [
   ],
   "source": [
    "# Exercise 4 will be automatically graded in this cell"
   ]
  },
  {
   "cell_type": "markdown",
   "metadata": {
    "collapsed": false,
    "deletable": false,
    "editable": false,
    "run_control": {
     "frozen": true
    }
   },
   "source": [
    "**Exercise 5**\n",
    "\n",
    "$\\qquad\\displaystyle a=12 \\qquad b=5.6$\n",
    "\n",
    "$\\qquad\\displaystyle c=\\frac{3a}{b^2}$\n",
    "\n",
    "$\\qquad\\displaystyle d=\\frac{(a-b)^c}{c}$\n",
    "\n",
    "$\\qquad\\displaystyle\\frac{a}{b} + \\frac{d-c}{d+c}-(d-b)^2 $"
   ]
  },
  {
   "cell_type": "code",
   "execution_count": 0,
   "metadata": {
    "collapsed": false
   },
   "outputs": [
   ],
   "source": [
    "# Exercise 5 Solution\n",
    "a = None\n",
    "b = None\n",
    "c = None\n",
    "d = None\n",
    "ex5 = None\n",
    "ex5"
   ]
  },
  {
   "cell_type": "code",
   "execution_count": 0,
   "metadata": {
    "collapsed": false,
    "deletable": false,
    "editable": false,
    "nbgrader": {
     "grade": true,
     "grade_id": "ex5_test",
     "locked": true,
     "points": 0.5,
     "schema_version": 3,
     "solution": false,
     "task": false
    }
   },
   "outputs": [
   ],
   "source": [
    "# Exercise 5 will be automatically graded in this cell"
   ]
  },
  {
   "cell_type": "markdown",
   "metadata": {
    "collapsed": false,
    "deletable": false,
    "editable": false,
    "run_control": {
     "frozen": true
    }
   },
   "source": [
    "**Exercise 6**\n",
    "\n",
    "$\\qquad\\displaystyle {\\large e}^{\\large{\\left(\\frac{d-c}{a-2b}\\right)}} + \\ln\\left( \\left| c - d + \\frac{b}{a} \\right| \\right)$"
   ]
  },
  {
   "cell_type": "code",
   "execution_count": 0,
   "metadata": {
    "collapsed": false
   },
   "outputs": [
   ],
   "source": [
    "# Exercise 6 Solution\n",
    "ex6 = None\n",
    "ex6"
   ]
  },
  {
   "cell_type": "code",
   "execution_count": 0,
   "metadata": {
    "collapsed": false,
    "deletable": false,
    "editable": false,
    "nbgrader": {
     "grade": true,
     "grade_id": "ex6_test",
     "locked": true,
     "points": 0.5,
     "schema_version": 3,
     "solution": false,
     "task": false
    }
   },
   "outputs": [
   ],
   "source": [
    "# Exercise 6 will be automatically graded in this cell"
   ]
  },
  {
   "cell_type": "markdown",
   "metadata": {
    "collapsed": false
   },
   "source": [
    "**Exercise 7**\n",
    "\n",
    "Verify the following trigonometric identity by calculating the values of the left and right sides of the equation separately using $x={\\pi}/{12}$.\n",
    "\n",
    "Assign the result of the left side to the variable `ex7_left` and the right side to the variable `ex7_right`. Display each result in the cell where it was calculated.\n",
    "\n",
    "$\\qquad\\displaystyle \\sin{(5x)}= 5\\sin{x} - 20\\sin^3{x} + 16\\sin^5{x} $"
   ]
  },
  {
   "cell_type": "code",
   "execution_count": 0,
   "metadata": {
    "collapsed": false
   },
   "outputs": [
   ],
   "source": [
    "# Exercise 7 Solution - left side\n",
    "x = None\n",
    "ex7_left = None\n",
    "ex7_left"
   ]
  },
  {
   "cell_type": "code",
   "execution_count": 0,
   "metadata": {
    "collapsed": false
   },
   "outputs": [
   ],
   "source": [
    "# Exercise 7 Solution - right side\n",
    "ex7_right = None\n",
    "ex7_right"
   ]
  },
  {
   "cell_type": "code",
   "execution_count": 0,
   "metadata": {
    "collapsed": false,
    "deletable": false,
    "editable": false,
    "nbgrader": {
     "grade": true,
     "grade_id": "ex7_test",
     "locked": true,
     "points": 0.5,
     "schema_version": 3,
     "solution": false,
     "task": false
    }
   },
   "outputs": [
   ],
   "source": [
    "# Exercise 7 will be automatically graded in this cell"
   ]
  },
  {
   "cell_type": "markdown",
   "metadata": {
    "collapsed": false,
    "deletable": false,
    "editable": false
   },
   "source": [
    "**Exercise 8**\n",
    "\n",
    "Verify the following trigonometric identity by calculating the values of the left and right sides of the equation separately using $x={\\pi}/{12}$\n",
    "\n",
    "Assign the result of the left side to the variable `ex8_left` and the right side to the variable `ex8_right`. Display each result in the cell where it was calculated.\n",
    " \n",
    "$\\qquad\\displaystyle \\sin^2{x}\\cos^2{x}= \\frac{1-\\cos{(4x)}}{8} $"
   ]
  },
  {
   "cell_type": "code",
   "execution_count": 0,
   "metadata": {
    "collapsed": false
   },
   "outputs": [
   ],
   "source": [
    "# Exercise 8 Solution - left side\n",
    "ex8_left = None\n",
    "ex8_left"
   ]
  },
  {
   "cell_type": "code",
   "execution_count": 0,
   "metadata": {
    "collapsed": false
   },
   "outputs": [
   ],
   "source": [
    "# Exercise 8 Solution - right side\n",
    "ex8_right = None\n",
    "ex8_right"
   ]
  },
  {
   "cell_type": "code",
   "execution_count": 0,
   "metadata": {
    "collapsed": false,
    "deletable": false,
    "editable": false,
    "nbgrader": {
     "grade": true,
     "grade_id": "ex8_test",
     "locked": true,
     "points": 0.5,
     "schema_version": 3,
     "solution": false,
     "task": false
    }
   },
   "outputs": [
   ],
   "source": [
    "# Exercise 8 will be automatically graded in this cell"
   ]
  },
  {
   "cell_type": "markdown",
   "metadata": {
    "collapsed": false,
    "deletable": false,
    "editable": false,
    "run_control": {
     "frozen": true
    }
   },
   "source": [
    "**Exercise 9**\n",
    "\n",
    "Verify the following trigonometric identity by calculating the values of the left and right sides of the equation separately using $x=24^{\\circ}$. Assign the calculated radians value to `x` to use instead of the degrees value.\n",
    "\n",
    "Assign the result of the left side to the variable `ex9_left` and the right side to the variable `ex9_right`. Display each result in the cell where it was calculated.\n",
    " \n",
    "$\\qquad\\displaystyle \\tan(3x)= \\frac{3\\tan{x}-\\tan^3{x}}{1-3\\tan^2{x}} $"
   ]
  },
  {
   "cell_type": "code",
   "execution_count": 0,
   "metadata": {
    "collapsed": false
   },
   "outputs": [
   ],
   "source": [
    "# Exercise 9 Solution - left side\n",
    "x = None\n",
    "ex9_left = None\n",
    "ex9_left"
   ]
  },
  {
   "cell_type": "code",
   "execution_count": 0,
   "metadata": {
    "collapsed": false
   },
   "outputs": [
   ],
   "source": [
    "# Exercise 9 Solution - right side\n",
    "ex9_right = None\n",
    "ex9_right"
   ]
  },
  {
   "cell_type": "code",
   "execution_count": 0,
   "metadata": {
    "collapsed": false,
    "deletable": false,
    "editable": false,
    "nbgrader": {
     "grade": true,
     "grade_id": "ex9_test",
     "locked": true,
     "points": 0.5,
     "schema_version": 3,
     "solution": false,
     "task": false
    }
   },
   "outputs": [
   ],
   "source": [
    "# Exercise 9 will be automatically graded in this cell"
   ]
  },
  {
   "cell_type": "markdown",
   "metadata": {
    "collapsed": false,
    "deletable": false,
    "editable": false,
    "run_control": {
     "frozen": true
    }
   },
   "source": [
    "**Exercise 10**\n",
    "\n",
    "Verify the following trigonometric identity by calculating the values of the left and right sides of the equation separately using $x=24^{\\circ}$\n",
    "\n",
    "Assign the result of the left side to the variable `ex10_left` and the right side to the variable `ex10_right`. Display each result in the cell where it was calculated.\n",
    "\n",
    "$\\qquad\\displaystyle \\cos{(4x)}= 8(\\cos^4{x} - \\cos^2{x}) + 1 $"
   ]
  },
  {
   "cell_type": "code",
   "execution_count": 0,
   "metadata": {
    "collapsed": false
   },
   "outputs": [
   ],
   "source": [
    "# Exercise 10 Solution - left side\n",
    "ex10_left = None\n",
    "ex10_left"
   ]
  },
  {
   "cell_type": "code",
   "execution_count": 0,
   "metadata": {
    "collapsed": false
   },
   "outputs": [
   ],
   "source": [
    "# Exercise 10 Solution - right side\n",
    "ex10_right = None\n",
    "ex10_right"
   ]
  },
  {
   "cell_type": "code",
   "execution_count": 0,
   "metadata": {
    "collapsed": false,
    "deletable": false,
    "editable": false,
    "nbgrader": {
     "grade": true,
     "grade_id": "ex10_test",
     "locked": true,
     "points": 0.5,
     "schema_version": 3,
     "solution": false,
     "task": false
    }
   },
   "outputs": [
   ],
   "source": [
    "# Exercise 10 will be automatically graded in this cell"
   ]
  },
  {
   "cell_type": "markdown",
   "metadata": {
    "collapsed": false,
    "deletable": false,
    "editable": false,
    "run_control": {
     "frozen": true
    }
   },
   "source": [
    "**Exercise 11**\n",
    "\n",
    "Define two variables: `alpha`$ = \\pi / 6$ and `beta` $ =3\\pi / 8$. Using these variables, show that the following trigonometric identity is correct by calculating the values of the left and right sides of the equation separately.\n",
    "\n",
    "Assign the result of the left side to the variable `ex11_left` and the right side to the variable `ex11_right`. Display each result in the cell where it was calculated.\n",
    " \n",
    "$\\qquad\\displaystyle \\sin{\\alpha}+\\sin{\\beta} = 2\\sin\\left( \\frac{\\alpha + \\beta}{2} \\right)\\cos\\left( \\frac{\\alpha - \\beta}{2} \\right)$"
   ]
  },
  {
   "cell_type": "code",
   "execution_count": 0,
   "metadata": {
    "collapsed": false
   },
   "outputs": [
   ],
   "source": [
    "# Exercise 11 Solution - left side\n",
    "alpha = None\n",
    "beta = None\n",
    "ex11_left = None\n",
    "ex11_left"
   ]
  },
  {
   "cell_type": "code",
   "execution_count": 0,
   "metadata": {
    "collapsed": false
   },
   "outputs": [
   ],
   "source": [
    "# Exercise 11 Solution - right side\n",
    "ex11_right = None\n",
    "ex11_right"
   ]
  },
  {
   "cell_type": "code",
   "execution_count": 0,
   "metadata": {
    "collapsed": false,
    "deletable": false,
    "editable": false,
    "nbgrader": {
     "grade": true,
     "grade_id": "ex11_test",
     "locked": true,
     "points": 0.5,
     "schema_version": 3,
     "solution": false,
     "task": false
    }
   },
   "outputs": [
   ],
   "source": [
    "# Exercise 11 will be automatically graded in this cell"
   ]
  },
  {
   "cell_type": "markdown",
   "metadata": {
    "collapsed": false,
    "deletable": false,
    "editable": false,
    "run_control": {
     "frozen": true
    }
   },
   "source": [
    "**Exercise 12**\n",
    "\n",
    "Given the following integral:\n",
    "\n",
    "$\\qquad\\displaystyle \\int{x\\sin{ax}\\,dx} = \\frac{\\sin{ax}}{a^2}-\\frac{x\\cos{ax}}{a}$\n",
    "\n",
    "Use *Python's* elementary arithmetic and math functions to calculate the result of the following definite integral. \n",
    "\n",
    "$\\qquad\\displaystyle \\int^{\\large{\\frac{3\\pi}{2}}}_{\\large{\\frac{\\pi}{3}}}{x\\sin(0.6x)\\,dx}$\n",
    "\n",
    "**Note:** you already have the solution to the indefinite integral above, so you do not need to integrate anything. Simply apply calculus principles to find the result of the definite integral.\n",
    "\n",
    "Assign the final result to the variable `integral` and then display it by typing `integral`."
   ]
  },
  {
   "cell_type": "code",
   "execution_count": 0,
   "metadata": {
    "collapsed": false
   },
   "outputs": [
   ],
   "source": [
    "# Exercise 12 Solution\n",
    "xu = None\n",
    "xl = None\n",
    "a = 0.6\n",
    "integral = None\n",
    "integral"
   ]
  },
  {
   "cell_type": "code",
   "execution_count": 0,
   "metadata": {
    "collapsed": false,
    "deletable": false,
    "editable": false,
    "nbgrader": {
     "grade": true,
     "grade_id": "ex12_test",
     "locked": true,
     "points": 0.5,
     "schema_version": 3,
     "solution": false,
     "task": false
    }
   },
   "outputs": [
   ],
   "source": [
    "# Exercise 12 will be automatically graded in this cell"
   ]
  },
  {
   "cell_type": "markdown",
   "metadata": {
    "collapsed": false,
    "deletable": false,
    "editable": false,
    "run_control": {
     "frozen": true
    }
   },
   "source": [
    "**Wrap it up**\n",
    "\n",
    "Complete the finishing tasks stated in the instructions."
   ]
  }
 ],
 "metadata": {
  "celltoolbar": "Edit Metadata",
  "kernel_info": {
   "name": "python3"
  },
  "kernelspec": {
   "display_name": "Python 3 (system-wide)",
   "language": "python",
   "metadata": {
    "cocalc": {
     "description": "Python 3 programming language",
     "priority": 100,
     "url": "https://www.python.org/"
    }
   },
   "name": "python3",
   "resource_dir": "/ext/jupyter/kernels/python3"
  },
  "language_info": {
   "codemirror_mode": {
    "name": "ipython",
    "version": 3
   },
   "file_extension": ".py",
   "mimetype": "text/x-python",
   "name": "python",
   "nbconvert_exporter": "python",
   "pygments_lexer": "ipython3",
   "version": "3.8.8"
  },
  "nbgrader": {
   "cocalc_minimal_stubs": false
  },
  "nteract": {
   "version": "0.15.0"
  },
  "varInspector": {
   "cols": {
    "lenName": 16,
    "lenType": 16,
    "lenVar": 40
   },
   "kernels_config": {
    "python": {
     "delete_cmd_postfix": "",
     "delete_cmd_prefix": "del ",
     "library": "var_list.py",
     "varRefreshCmd": "print(var_dic_list())"
    },
    "r": {
     "delete_cmd_postfix": ") ",
     "delete_cmd_prefix": "rm(",
     "library": "var_list.r",
     "varRefreshCmd": "cat(var_dic_list()) "
    }
   },
   "types_to_exclude": [
    "module",
    "function",
    "builtin_function_or_method",
    "instance",
    "_Feature"
   ],
   "window_display": false
  }
 },
 "nbformat": 4,
 "nbformat_minor": 4
}