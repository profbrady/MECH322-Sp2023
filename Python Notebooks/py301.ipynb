{
 "cells": [
  {
   "cell_type": "markdown",
   "metadata": {
    "collapsed": false
   },
   "source": [
    "# Py 3.01 - Conditionals Practice"
   ]
  },
  {
   "cell_type": "code",
   "execution_count": 0,
   "metadata": {
    "collapsed": false
   },
   "outputs": [
   ],
   "source": [
    "name = \"Your name here\"\n",
    "\"Name:\" + name.upper()"
   ]
  },
  {
   "cell_type": "markdown",
   "metadata": {
    "collapsed": false
   },
   "source": [
    "## Instructions\n",
    "\n",
    "Create and execute the following expressions that contain comparison and/or logical operators.\n",
    "\n",
    "Finish the assignment by...\n",
    "  - Saving your Jupyter Notebook and downloading it as a notebook (.ipynb) file (do not change the file name)\n",
    "  - Submitting the notebook file to the NumPy 3.01 assignment via Canvas\n",
    "  - Verifying that the auto grader marked each problem correct\n",
    "  - Fixing errors and resubmitting as necessary until the due date\n",
    "\n",
    "Your score will be determined by the auto grader results after the due date. Keep in mind that the auto grader may run additional tests on your final submission than were ran when the assignment was submitted."
   ]
  },
  {
   "cell_type": "code",
   "execution_count": 0,
   "metadata": {
    "collapsed": false,
    "deletable": false,
    "editable": false,
    "nbgrader": {
     "grade": true,
     "grade_id": "Ex0",
     "locked": true,
     "points": 0,
     "schema_version": 3,
     "solution": false,
     "task": false
    }
   },
   "outputs": [
   ],
   "source": [
    "# Leave this cell alone. It is just here for the autograder."
   ]
  },
  {
   "cell_type": "markdown",
   "metadata": {
    "collapsed": false
   },
   "source": [
    "**Exercise 1**\n",
    "\n",
    "$\\qquad12-4<5\\times3$\n",
    "\n"
   ]
  },
  {
   "cell_type": "code",
   "execution_count": 0,
   "metadata": {
    "collapsed": false,
    "deletable": false,
    "nbgrader": {
     "cell_type": "code",
     "checksum": "3b7ec6516b0acf54473deb0b8e3941be",
     "grade": false,
     "grade_id": "Ex_1_code",
     "locked": false,
     "schema_version": 3,
     "solution": true,
     "task": false
    }
   },
   "outputs": [
   ],
   "source": [
    "# YOUR CODE HERE"
   ]
  },
  {
   "cell_type": "code",
   "execution_count": 0,
   "metadata": {
    "collapsed": false,
    "deletable": false,
    "editable": false,
    "nbgrader": {
     "grade": true,
     "grade_id": "Ex_1",
     "locked": true,
     "points": 0.5,
     "schema_version": 3,
     "solution": false,
     "task": false
    }
   },
   "outputs": [
   ],
   "source": [
    "# Your exercise 1 solution will be autotested/scored here"
   ]
  },
  {
   "cell_type": "markdown",
   "metadata": {
    "collapsed": false
   },
   "source": [
    "**Exercise 2**\n",
    "\n",
    "$\\qquad8/4>6\\times3-4^2>-3$"
   ]
  },
  {
   "cell_type": "code",
   "execution_count": 0,
   "metadata": {
    "collapsed": false,
    "deletable": false,
    "nbgrader": {
     "cell_type": "code",
     "checksum": "4a4b798efc9a2a26b34803909e60020f",
     "grade": false,
     "grade_id": "Ex_2_code",
     "locked": false,
     "schema_version": 3,
     "solution": true,
     "task": false
    }
   },
   "outputs": [
   ],
   "source": [
    "# YOUR CODE HERE"
   ]
  },
  {
   "cell_type": "code",
   "execution_count": 0,
   "metadata": {
    "collapsed": false,
    "deletable": false,
    "editable": false,
    "nbgrader": {
     "grade": true,
     "grade_id": "Ex_2",
     "locked": true,
     "points": 0.5,
     "schema_version": 3,
     "solution": false,
     "task": false
    }
   },
   "outputs": [
   ],
   "source": [
    "# Your exercise 2 solution will be autotested/scored here"
   ]
  },
  {
   "cell_type": "markdown",
   "metadata": {
    "collapsed": false
   },
   "source": [
    "**Exercise 3**\n",
    "\n",
    "$\\qquad-3<(8-12)+2\\times(5>18/6-4)^2$"
   ]
  },
  {
   "cell_type": "code",
   "execution_count": 0,
   "metadata": {
    "collapsed": false,
    "deletable": false,
    "nbgrader": {
     "cell_type": "code",
     "checksum": "710be4be2ea9e7c8868210a969dd7a95",
     "grade": false,
     "grade_id": "Ex_3_code",
     "locked": false,
     "schema_version": 3,
     "solution": true,
     "task": false
    }
   },
   "outputs": [
   ],
   "source": [
    "# YOUR CODE HERE"
   ]
  },
  {
   "cell_type": "code",
   "execution_count": 0,
   "metadata": {
    "collapsed": false,
    "deletable": false,
    "editable": false,
    "nbgrader": {
     "grade": true,
     "grade_id": "Ex_3",
     "locked": true,
     "points": 0.5,
     "schema_version": 3,
     "solution": false,
     "task": false
    }
   },
   "outputs": [
   ],
   "source": [
    "# Your exercise 3 solution will be autotested/scored here"
   ]
  },
  {
   "cell_type": "markdown",
   "metadata": {
    "collapsed": false
   },
   "source": [
    "**Exercise 4**\n",
    "\n",
    "Use $a = -2$, $b=3$, and $c=5$ for Exercises 4-7\n",
    "\n",
    "$\\qquad a - b > a - c < b$"
   ]
  },
  {
   "cell_type": "code",
   "execution_count": 0,
   "metadata": {
    "collapsed": false,
    "deletable": false,
    "nbgrader": {
     "cell_type": "code",
     "checksum": "3912365c8a8fe535b7f8a8545ee7dce9",
     "grade": false,
     "grade_id": "Ex_4_code",
     "locked": false,
     "schema_version": 3,
     "solution": true,
     "task": false
    }
   },
   "outputs": [
   ],
   "source": [
    "# YOUR CODE HERE"
   ]
  },
  {
   "cell_type": "code",
   "execution_count": 0,
   "metadata": {
    "collapsed": false,
    "deletable": false,
    "editable": false,
    "nbgrader": {
     "grade": true,
     "grade_id": "Ex_4",
     "locked": true,
     "points": 0.5,
     "schema_version": 3,
     "solution": false,
     "task": false
    }
   },
   "outputs": [
   ],
   "source": [
    "# Your exercise 4 solution will be autotested/scored here"
   ]
  },
  {
   "cell_type": "markdown",
   "metadata": {
    "collapsed": false
   },
   "source": [
    "**Exercise 5**\n",
    "\n",
    "$\\qquad-4 < a < 0$"
   ]
  },
  {
   "cell_type": "code",
   "execution_count": 0,
   "metadata": {
    "collapsed": false,
    "deletable": false,
    "nbgrader": {
     "cell_type": "code",
     "checksum": "9d17e134a4cd0e5bba8400f9aedd88f8",
     "grade": false,
     "grade_id": "Ex_5_code",
     "locked": false,
     "schema_version": 3,
     "solution": true,
     "task": false
    }
   },
   "outputs": [
   ],
   "source": [
    "# YOUR CODE HERE"
   ]
  },
  {
   "cell_type": "code",
   "execution_count": 0,
   "metadata": {
    "collapsed": false,
    "deletable": false,
    "editable": false,
    "nbgrader": {
     "grade": true,
     "grade_id": "Ex_5",
     "locked": true,
     "points": 0.5,
     "schema_version": 3,
     "solution": false,
     "task": false
    }
   },
   "outputs": [
   ],
   "source": [
    "# Your exercise 5 solution will be autotested/scored here"
   ]
  },
  {
   "cell_type": "markdown",
   "metadata": {
    "collapsed": false
   },
   "source": [
    "**Exercise 6**\n",
    "\n",
    "$\\qquad a-c<=b>a+c$"
   ]
  },
  {
   "cell_type": "code",
   "execution_count": 0,
   "metadata": {
    "collapsed": false,
    "deletable": false,
    "nbgrader": {
     "cell_type": "code",
     "checksum": "8e0dd138285ffa68456a123aae0ca82e",
     "grade": false,
     "grade_id": "Ex_6_code",
     "locked": false,
     "schema_version": 3,
     "solution": true,
     "task": false
    }
   },
   "outputs": [
   ],
   "source": [
    "# YOUR CODE HERE"
   ]
  },
  {
   "cell_type": "code",
   "execution_count": 0,
   "metadata": {
    "collapsed": false,
    "deletable": false,
    "editable": false,
    "nbgrader": {
     "grade": true,
     "grade_id": "Ex_6",
     "locked": true,
     "points": 0.5,
     "schema_version": 3,
     "solution": false,
     "task": false
    }
   },
   "outputs": [
   ],
   "source": [
    "# Your exercise 6 solution will be autotested/scored here"
   ]
  },
  {
   "cell_type": "markdown",
   "metadata": {
    "collapsed": false
   },
   "source": [
    "**Exercise 7**\n",
    "\n",
    "$\\qquad 3\\times(c+a\\neq a/b-b)==(a+c)\\neq b$"
   ]
  },
  {
   "cell_type": "code",
   "execution_count": 0,
   "metadata": {
    "collapsed": false,
    "deletable": false,
    "nbgrader": {
     "cell_type": "code",
     "checksum": "b8254c522fa2bba9f31a9a1260e642c4",
     "grade": false,
     "grade_id": "Ex_7_code",
     "locked": false,
     "schema_version": 3,
     "solution": true,
     "task": false
    }
   },
   "outputs": [
   ],
   "source": [
    "# YOUR CODE HERE"
   ]
  },
  {
   "cell_type": "code",
   "execution_count": 0,
   "metadata": {
    "collapsed": false,
    "deletable": false,
    "editable": false,
    "nbgrader": {
     "grade": true,
     "grade_id": "Ex_7",
     "locked": true,
     "points": 0.5,
     "schema_version": 3,
     "solution": false,
     "task": false
    }
   },
   "outputs": [
   ],
   "source": [
    "# Your exercise 7 solution will be autotested/scored here"
   ]
  },
  {
   "cell_type": "markdown",
   "metadata": {
    "collapsed": false
   },
   "source": [
    "**Exercise 8**\n",
    "\n",
    "Mathematics texts use the symbols $\\land$ for **and** and the symbol $\\lor$ for **or**. Interpret the the statements given and write the proper *Python* expressions for problems 8 thru 10.\n",
    "\n",
    "$\\qquad -3 \\land 3$"
   ]
  },
  {
   "cell_type": "code",
   "execution_count": 0,
   "metadata": {
    "collapsed": false,
    "deletable": false,
    "nbgrader": {
     "cell_type": "code",
     "checksum": "4f7bd95711fe966e88b19d75a74eaf62",
     "grade": false,
     "grade_id": "Ex_8_code",
     "locked": false,
     "schema_version": 3,
     "solution": true,
     "task": false
    }
   },
   "outputs": [
   ],
   "source": [
    "# YOUR CODE HERE"
   ]
  },
  {
   "cell_type": "code",
   "execution_count": 0,
   "metadata": {
    "collapsed": false,
    "deletable": false,
    "editable": false,
    "nbgrader": {
     "grade": true,
     "grade_id": "Ex_8",
     "locked": true,
     "points": 0.5,
     "schema_version": 3,
     "solution": false,
     "task": false
    }
   },
   "outputs": [
   ],
   "source": [
    "# Your exercise 8 solution will be autotested/scored here"
   ]
  },
  {
   "cell_type": "markdown",
   "metadata": {
    "collapsed": false
   },
   "source": [
    "**Exercise 9**\n",
    "\n",
    "$\\qquad\\text{not }(5<4) \\land (\\text{not }0)>-3$"
   ]
  },
  {
   "cell_type": "code",
   "execution_count": 0,
   "metadata": {
    "collapsed": false,
    "deletable": false,
    "nbgrader": {
     "cell_type": "code",
     "checksum": "72acf1db539e1f73ed7f5fd883cf0435",
     "grade": false,
     "grade_id": "Ex_9_code",
     "locked": false,
     "schema_version": 3,
     "solution": true,
     "task": false
    }
   },
   "outputs": [
   ],
   "source": [
    "# YOUR CODE HERE"
   ]
  },
  {
   "cell_type": "code",
   "execution_count": 0,
   "metadata": {
    "collapsed": false,
    "deletable": false,
    "editable": false,
    "nbgrader": {
     "grade": true,
     "grade_id": "Ex_9",
     "locked": true,
     "points": 0.5,
     "schema_version": 3,
     "solution": false,
     "task": false
    }
   },
   "outputs": [
   ],
   "source": [
    "# Your exercise 9 solution will be autotested/scored here"
   ]
  },
  {
   "cell_type": "markdown",
   "metadata": {
    "collapsed": false
   },
   "source": [
    "**Exercise 10**\n",
    "\n",
    "$\\qquad -2 \\land 2 > 3\\lor 8/3$"
   ]
  },
  {
   "cell_type": "code",
   "execution_count": 0,
   "metadata": {
    "collapsed": false,
    "deletable": false,
    "nbgrader": {
     "cell_type": "code",
     "checksum": "7fdbc0a85717dd0886a87c7cf5273fe9",
     "grade": false,
     "grade_id": "Ex_10_code",
     "locked": false,
     "schema_version": 3,
     "solution": true,
     "task": false
    }
   },
   "outputs": [
   ],
   "source": [
    "# YOUR CODE HERE"
   ]
  },
  {
   "cell_type": "code",
   "execution_count": 0,
   "metadata": {
    "collapsed": false,
    "deletable": false,
    "editable": false,
    "nbgrader": {
     "grade": true,
     "grade_id": "Ex_10",
     "locked": true,
     "points": 0.5,
     "schema_version": 3,
     "solution": false,
     "task": false
    }
   },
   "outputs": [
   ],
   "source": [
    "# Your exercise 10 solution will be autotested/scored here"
   ]
  },
  {
   "cell_type": "markdown",
   "metadata": {
    "collapsed": false
   },
   "source": [
    "**Wrap it up**\n",
    "\n",
    "Complete the finishing tasks stated in the instructions.\n"
   ]
  }
 ],
 "metadata": {
  "kernelspec": {
   "display_name": "Python 3 (system-wide)",
   "language": "python",
   "metadata": {
    "cocalc": {
     "description": "Python 3 programming language",
     "priority": 100,
     "url": "https://www.python.org/"
    }
   },
   "name": "python3",
   "resource_dir": "/ext/jupyter/kernels/python3"
  },
  "language_info": {
   "codemirror_mode": {
    "name": "ipython",
    "version": 3
   },
   "file_extension": ".py",
   "mimetype": "text/x-python",
   "name": "python",
   "nbconvert_exporter": "python",
   "pygments_lexer": "ipython3",
   "version": "3.9.7"
  },
  "nbgrader": {
   "__altered": false,
   "__hash": 853781301,
   "_root": {
    "entries": [
     [
      "size",
      1
     ],
     [
      "_root",
      {
       "entries": [
        [
         "cocalc_minimal_stubs",
         true
        ]
       ],
       "ownerID": {
       }
      }
     ],
     [
      "__ownerID",
      null
     ],
     [
      "__hash",
      912286151
     ],
     [
      "__altered",
      false
     ],
     [
      "cocalc_minimal_stubs",
      true
     ]
    ],
    "ownerID": {
    }
   },
   "cocalc_minimal_stubs": true,
   "size": 6
  },
  "varInspector": {
   "cols": {
    "lenName": 16,
    "lenType": 16,
    "lenVar": 40
   },
   "kernels_config": {
    "python": {
     "delete_cmd_postfix": "",
     "delete_cmd_prefix": "del ",
     "library": "var_list.py",
     "varRefreshCmd": "print(var_dic_list())"
    },
    "r": {
     "delete_cmd_postfix": ") ",
     "delete_cmd_prefix": "rm(",
     "library": "var_list.r",
     "varRefreshCmd": "cat(var_dic_list()) "
    }
   },
   "types_to_exclude": [
    "module",
    "function",
    "builtin_function_or_method",
    "instance",
    "_Feature"
   ],
   "window_display": false
  }
 },
 "nbformat": 4,
 "nbformat_minor": 4
}