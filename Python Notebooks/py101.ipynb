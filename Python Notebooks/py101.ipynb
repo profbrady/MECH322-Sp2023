{
 "cells": [
  {
   "cell_type": "markdown",
   "metadata": {
    "collapsed": false,
    "deletable": false,
    "editable": false,
    "run_control": {
     "frozen": true
    }
   },
   "source": [
    "# Py 1.01 - Math Practice"
   ]
  },
  {
   "cell_type": "code",
   "execution_count": 0,
   "metadata": {
    "collapsed": false,
    "execution": {
     "iopub.execute_input": "2021-11-28T19:23:44.693303Z",
     "iopub.status.busy": "2021-11-28T19:23:44.692199Z",
     "iopub.status.idle": "2021-11-28T19:23:44.703101Z",
     "shell.execute_reply": "2021-11-28T19:23:44.704575Z"
    }
   },
   "outputs": [
   ],
   "source": [
    "name = \"Your name here\"\n",
    "\"Name: \" + name.upper()"
   ]
  },
  {
   "cell_type": "markdown",
   "metadata": {
    "collapsed": false,
    "deletable": false,
    "editable": false,
    "run_control": {
     "frozen": true
    }
   },
   "source": [
    "## Instructions:\n",
    "\n",
    "1. Replace **\"Your name here\"** in the above code cell with your first and last names and then execute the cell using `[shift]+[Enter]`\n",
    "1. Complete each calculation with *Python* using a single expression in its own code cell. Use `[shift]+[Enter]` to execute each cell.\n",
    "    - Assign the expression for each exercise to the variable `ex#` where `#` is the exercise number, i.e. use `ex1` as the variable for exercise 1 (all you have to do is replace `None` with your calculation code)\n",
    "    - Display the variable by typing its name, i.e. `ex#` where `#` is the exercise number, on the line after the calculation but in the same code cell (already set up for each exercise)\n",
    "    - Don’t worry if you make a mistake. Fix the mistake, execute the cell again, and keep going\n",
    "    - Enter and execute the necessary command(s) for each problem in the provided code cell(s) below the problem statement\n",
    "1. **Do not** create additional code cells or rearrange any of the provided cells\n",
    "1. **Do not** round any of your results unless explicitly requested to do so in the problem statement\n",
    "1. Finish the assignment by...\n",
    "    - Saving your Jupyter Notebook and downloading it as a notebook (.ipynb) file (do not change the file name)\n",
    "    - Submitting the notebook file to the Py 1.01 assignment via Canvas\n",
    "    - Verifying that the auto grader marked each problem correct\n",
    "    - Fixing errors and resubmitting as necessary until the due date\n",
    "\n",
    "Your score will be determined by the auto grader results after the due date. Keep in mind that the auto grader may run additional tests on your final submission than were ran when the assignment was submitted."
   ]
  },
  {
   "cell_type": "markdown",
   "metadata": {
    "collapsed": false,
    "deletable": false,
    "editable": false,
    "run_control": {
     "frozen": true
    }
   },
   "source": [
    "**Do this first!**\n",
    "\n",
    "Execute the following cell first in order to be able to use `math` module functions.\n",
    "\n",
    "**Note:** If you close and then re-open this document, you will need to re-execute the cell again in order for the `math` module functions to be available."
   ]
  },
  {
   "cell_type": "code",
   "execution_count": 0,
   "metadata": {
    "collapsed": false,
    "execution": {
     "iopub.execute_input": "2021-11-28T19:23:44.716164Z",
     "iopub.status.busy": "2021-11-28T19:23:44.711436Z",
     "iopub.status.idle": "2021-11-28T19:23:44.716787Z",
     "shell.execute_reply": "2021-11-28T19:23:44.717302Z"
    }
   },
   "outputs": [
   ],
   "source": [
    "import math     # Execute this cell first in order to use math module functions"
   ]
  },
  {
   "cell_type": "markdown",
   "metadata": {
    "collapsed": false,
    "deletable": false,
    "editable": false,
    "run_control": {
     "frozen": true
    }
   },
   "source": [
    "**Exercise 1**\n",
    "\n",
    "$\\qquad\\displaystyle \\frac{\\sqrt{41^2-5.2^2}}{e^5-100.53}$"
   ]
  },
  {
   "cell_type": "code",
   "execution_count": 0,
   "metadata": {
    "collapsed": false,
    "execution": {
     "iopub.execute_input": "2021-11-28T19:23:44.723169Z",
     "iopub.status.busy": "2021-11-28T19:23:44.722524Z",
     "iopub.status.idle": "2021-11-28T19:23:44.728615Z",
     "shell.execute_reply": "2021-11-28T19:23:44.729127Z"
    }
   },
   "outputs": [
   ],
   "source": [
    "# Exercise 1 Solution\n",
    "ex1 = None\n",
    "ex1"
   ]
  },
  {
   "cell_type": "code",
   "execution_count": 0,
   "metadata": {
    "collapsed": false,
    "deletable": false,
    "editable": false,
    "nbgrader": {
     "grade": true,
     "grade_id": "ex1_test",
     "locked": true,
     "points": 0.5,
     "schema_version": 3,
     "solution": false,
     "task": false
    }
   },
   "outputs": [
   ],
   "source": [
    "# Exercise 1 will be automatically graded in this cell"
   ]
  },
  {
   "cell_type": "markdown",
   "metadata": {
    "collapsed": false,
    "deletable": false,
    "editable": false,
    "run_control": {
     "frozen": true
    }
   },
   "source": [
    "**Exercise 2**\n",
    "\n",
    "$\\qquad\\displaystyle\\sqrt[3]{132}+\\frac{\\ln{(500)}}{8} $"
   ]
  },
  {
   "cell_type": "code",
   "execution_count": 0,
   "metadata": {
    "collapsed": false,
    "execution": {
     "iopub.execute_input": "2021-11-28T19:23:44.732193Z",
     "iopub.status.busy": "2021-11-28T19:23:44.731536Z",
     "iopub.status.idle": "2021-11-28T19:23:44.734857Z",
     "shell.execute_reply": "2021-11-28T19:23:44.734516Z"
    }
   },
   "outputs": [
   ],
   "source": [
    "# Exercise 2 Solution\n",
    "ex2 = None\n",
    "ex2"
   ]
  },
  {
   "cell_type": "code",
   "execution_count": 0,
   "metadata": {
    "collapsed": false,
    "deletable": false,
    "editable": false,
    "nbgrader": {
     "grade": true,
     "grade_id": "ex2_test",
     "locked": true,
     "points": 0.5,
     "schema_version": 3,
     "solution": false,
     "task": false
    }
   },
   "outputs": [
   ],
   "source": [
    "# Exercise 2 will be automatically graded in this cell"
   ]
  },
  {
   "cell_type": "markdown",
   "metadata": {
    "collapsed": false,
    "deletable": false,
    "editable": false,
    "run_control": {
     "frozen": true
    }
   },
   "source": [
    "**Exercise 3**\n",
    "\n",
    "$\\qquad\\displaystyle \\frac{24.5+64/3.5^2+8.3\\cdot 12.5^3}{\\sqrt{76.4}-28/15} $"
   ]
  },
  {
   "cell_type": "code",
   "execution_count": 0,
   "metadata": {
    "collapsed": false,
    "execution": {
     "iopub.execute_input": "2021-11-28T19:23:44.738194Z",
     "iopub.status.busy": "2021-11-28T19:23:44.737523Z",
     "iopub.status.idle": "2021-11-28T19:23:44.743304Z",
     "shell.execute_reply": "2021-11-28T19:23:44.743734Z"
    }
   },
   "outputs": [
   ],
   "source": [
    "# Exercise 3 Solution\n",
    "ex3 = None\n",
    "ex3"
   ]
  },
  {
   "cell_type": "code",
   "execution_count": 0,
   "metadata": {
    "collapsed": false,
    "deletable": false,
    "editable": false,
    "nbgrader": {
     "grade": true,
     "grade_id": "ex3_test",
     "locked": true,
     "points": 0.5,
     "schema_version": 3,
     "solution": false,
     "task": false
    }
   },
   "outputs": [
   ],
   "source": [
    "# Exercise 3 will be automatically graded in this cell"
   ]
  },
  {
   "cell_type": "markdown",
   "metadata": {
    "collapsed": false,
    "deletable": false,
    "editable": false,
    "run_control": {
     "frozen": true
    }
   },
   "source": [
    "**Exercise 4**\n",
    "\n",
    "$\\qquad\\displaystyle (5.9^2 - 2.4^2)/3 + \\left( \\frac{\\log_{10}{12890}}{e^{0.3}} \\right)^2 $"
   ]
  },
  {
   "cell_type": "code",
   "execution_count": 0,
   "metadata": {
    "collapsed": false,
    "execution": {
     "iopub.execute_input": "2021-11-28T19:23:44.751090Z",
     "iopub.status.busy": "2021-11-28T19:23:44.750485Z",
     "iopub.status.idle": "2021-11-28T19:23:44.754528Z",
     "shell.execute_reply": "2021-11-28T19:23:44.755336Z"
    }
   },
   "outputs": [
   ],
   "source": [
    "# Exercise 4 Solution\n",
    "ex4 = None\n",
    "ex4"
   ]
  },
  {
   "cell_type": "code",
   "execution_count": 0,
   "metadata": {
    "collapsed": false,
    "deletable": false,
    "editable": false,
    "nbgrader": {
     "grade": true,
     "grade_id": "ex4_test",
     "locked": true,
     "points": 0.5,
     "schema_version": 3,
     "solution": false,
     "task": false
    }
   },
   "outputs": [
   ],
   "source": [
    "# Exercise 4 will be automatically graded in this cell"
   ]
  },
  {
   "cell_type": "markdown",
   "metadata": {
    "collapsed": false,
    "deletable": false,
    "editable": false,
    "run_control": {
     "frozen": true
    }
   },
   "source": [
    "**Exercise 5**\n",
    "\n",
    "$\\qquad\\displaystyle \\cos{\\left( \\frac{7\\pi}{9} \\right)} + \\tan{\\left( \\frac{7}{15}\\pi \\right)} \\sin(15 ^{\\circ}) $"
   ]
  },
  {
   "cell_type": "code",
   "execution_count": 0,
   "metadata": {
    "collapsed": false,
    "execution": {
     "iopub.execute_input": "2021-11-28T19:23:44.765919Z",
     "iopub.status.busy": "2021-11-28T19:23:44.765207Z",
     "iopub.status.idle": "2021-11-28T19:23:44.772051Z",
     "shell.execute_reply": "2021-11-28T19:23:44.772561Z"
    }
   },
   "outputs": [
   ],
   "source": [
    "# Exercise 5 Solution\n",
    "ex5 = None\n",
    "ex5"
   ]
  },
  {
   "cell_type": "code",
   "execution_count": 0,
   "metadata": {
    "collapsed": false,
    "deletable": false,
    "editable": false,
    "nbgrader": {
     "grade": true,
     "grade_id": "ex5_test",
     "locked": true,
     "points": 0.5,
     "schema_version": 3,
     "solution": false,
     "task": false
    }
   },
   "outputs": [
   ],
   "source": [
    "# Exercise 5 will be automatically graded in this cell"
   ]
  },
  {
   "cell_type": "markdown",
   "metadata": {
    "collapsed": false,
    "deletable": false,
    "editable": false,
    "run_control": {
     "frozen": true
    }
   },
   "source": [
    "**Exercise 6**\n",
    "\n",
    "$\\qquad\\displaystyle \\sin^2{80^{\\circ}} - \\frac{(\\cos{14^{\\circ}}\\sin{80^{\\circ}})^2}{\\sqrt[3]{0.18}} $"
   ]
  },
  {
   "cell_type": "code",
   "execution_count": 0,
   "metadata": {
    "collapsed": false,
    "execution": {
     "iopub.execute_input": "2021-11-28T19:23:44.776850Z",
     "iopub.status.busy": "2021-11-28T19:23:44.776361Z",
     "iopub.status.idle": "2021-11-28T19:23:44.783910Z",
     "shell.execute_reply": "2021-11-28T19:23:44.784454Z"
    }
   },
   "outputs": [
   ],
   "source": [
    "# Exercise 6 Solution\n",
    "ex6 = None\n",
    "ex6"
   ]
  },
  {
   "cell_type": "code",
   "execution_count": 0,
   "metadata": {
    "collapsed": false,
    "deletable": false,
    "editable": false,
    "nbgrader": {
     "grade": true,
     "grade_id": "ex6_test",
     "locked": true,
     "points": 0.5,
     "schema_version": 3,
     "solution": false,
     "task": false
    }
   },
   "outputs": [
   ],
   "source": [
    "# Exercise 6 will be automatically graded in this cell"
   ]
  },
  {
   "cell_type": "markdown",
   "metadata": {
    "collapsed": false,
    "deletable": false,
    "editable": false,
    "run_control": {
     "frozen": true
    }
   },
   "source": [
    "**Wrap it up**\n",
    "\n",
    "Complete the finishing tasks stated in the instructions.\n"
   ]
  }
 ],
 "metadata": {
  "celltoolbar": "Edit Metadata",
  "kernel_info": {
   "name": "python3"
  },
  "kernelspec": {
   "display_name": "Python 3 (system-wide)",
   "language": "python",
   "metadata": {
    "cocalc": {
     "description": "Python 3 programming language",
     "priority": 100,
     "url": "https://www.python.org/"
    }
   },
   "name": "python3",
   "resource_dir": "/ext/jupyter/kernels/python3"
  },
  "language_info": {
   "codemirror_mode": {
    "name": "ipython",
    "version": 3
   },
   "file_extension": ".py",
   "mimetype": "text/x-python",
   "name": "python",
   "nbconvert_exporter": "python",
   "pygments_lexer": "ipython3",
   "version": "3.8.8"
  },
  "nbgrader": {
   "__altered": false,
   "__hash": -341060574,
   "_root": {
    "entries": [
     [
      "size",
      6
     ],
     [
      "_root",
      {
       "entries": [
        [
         "size",
         1
        ],
        [
         "_root",
         {
          "entries": [
           [
            "cocalc_minimal_stubs",
            false
           ]
          ],
          "ownerID": {
          }
         }
        ],
        [
         "__ownerID",
         null
        ],
        [
         "__hash",
         -335098374
        ],
        [
         "__altered",
         false
        ],
        [
         "cocalc_minimal_stubs",
         false
        ]
       ],
       "ownerID": {
       }
      }
     ],
     [
      "__ownerID",
      null
     ],
     [
      "__hash",
      633336276
     ],
     [
      "__altered",
      false
     ],
     [
      "cocalc_minimal_stubs",
      false
     ]
    ],
    "ownerID": {
    }
   },
   "cocalc_minimal_stubs": false,
   "size": 6
  },
  "nteract": {
   "version": "0.15.0"
  },
  "varInspector": {
   "cols": {
    "lenName": 16,
    "lenType": 16,
    "lenVar": 40
   },
   "kernels_config": {
    "python": {
     "delete_cmd_postfix": "",
     "delete_cmd_prefix": "del ",
     "library": "var_list.py",
     "varRefreshCmd": "print(var_dic_list())"
    },
    "r": {
     "delete_cmd_postfix": ") ",
     "delete_cmd_prefix": "rm(",
     "library": "var_list.r",
     "varRefreshCmd": "cat(var_dic_list()) "
    }
   },
   "types_to_exclude": [
    "module",
    "function",
    "builtin_function_or_method",
    "instance",
    "_Feature"
   ],
   "window_display": false
  }
 },
 "nbformat": 4,
 "nbformat_minor": 4
}